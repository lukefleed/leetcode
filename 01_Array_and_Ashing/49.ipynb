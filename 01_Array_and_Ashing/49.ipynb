{
 "cells": [
  {
   "cell_type": "markdown",
   "metadata": {},
   "source": [
    "![](https://i.imgur.com/or54Cru.png)"
   ]
  },
  {
   "cell_type": "code",
   "execution_count": 3,
   "metadata": {},
   "outputs": [],
   "source": [
    "from typing import List \n",
    "from collections import defaultdict"
   ]
  },
  {
   "cell_type": "code",
   "execution_count": 4,
   "metadata": {},
   "outputs": [],
   "source": [
    "class Solution:\n",
    "    def groupAnagrams(self, strs: List[str]) -> List[List[str]]:\n",
    "        res = defaultdict(list) # mapping charCount to list of Anagrams\n",
    "\n",
    "        for s in strs:\n",
    "            count = [0] * 26 # one count for each letter in the alphabet\n",
    "            for c in s:\n",
    "                count[ord(c) - ord(\"a\")] += 1 # use ascii to get index\n",
    "            \n",
    "            res[tuple(count)].append(s)\n",
    "        \n",
    "        return res.values()\n",
    "\n",
    "        # O(m*n) time, O(m) space       "
   ]
  },
  {
   "cell_type": "code",
   "execution_count": null,
   "metadata": {},
   "outputs": [],
   "source": [
    "class Solution:\n",
    "    def groupAnagrams(self, strs: List[str]) -> List[List[str]]:\n",
    "        \n",
    "        for word in strs: # O(n log n)\n",
    "            word = sorted(word)\n",
    "            \n",
    "        # now the words are singolar sorted. Let's check if there are equal words\n",
    "        res  = []\n",
    "        for word in strs:\n",
    "            tmp = []\n",
    "            tmp.append(word)\n",
    "            \n",
    "\n",
    "            \n",
    "            "
   ]
  }
 ],
 "metadata": {
  "kernelspec": {
   "display_name": "Python 3.10.6 64-bit",
   "language": "python",
   "name": "python3"
  },
  "language_info": {
   "codemirror_mode": {
    "name": "ipython",
    "version": 3
   },
   "file_extension": ".py",
   "mimetype": "text/x-python",
   "name": "python",
   "nbconvert_exporter": "python",
   "pygments_lexer": "ipython3",
   "version": "3.10.6"
  },
  "orig_nbformat": 4,
  "vscode": {
   "interpreter": {
    "hash": "916dbcbb3f70747c44a77c7bcd40155683ae19c65e1c03b4aa3499c5328201f1"
   }
  }
 },
 "nbformat": 4,
 "nbformat_minor": 2
}

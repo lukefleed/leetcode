{
 "cells": [
  {
   "cell_type": "markdown",
   "metadata": {},
   "source": [
    "![](https://i.imgur.com/WtFkXAG.png)"
   ]
  },
  {
   "cell_type": "code",
   "execution_count": null,
   "metadata": {},
   "outputs": [],
   "source": [
    "class Solution:\n",
    "    def missingNumber(self, nums: List[int]) -> int:\n",
    "\n",
    "        # 1. sort the array\n",
    "        nums.sort()\n",
    "\n",
    "        # 2. check if the first element is not 0\n",
    "        if nums[0] != 0:\n",
    "            return 0\n",
    "\n",
    "        # 3. check if the last element is not n\n",
    "        elif nums[-1] != len(nums):\n",
    "            return len(nums)\n",
    "\n",
    "        # 4. check if the element is missing somewhere in the middle\n",
    "        else:\n",
    "            for i in range(1, len(nums)):\n",
    "                if nums[i] != nums[i-1] + 1:\n",
    "                    return nums[i-1] + 1\n",
    "\n",
    "                    \n",
    "        \n",
    "        "
   ]
  }
 ],
 "metadata": {
  "kernelspec": {
   "display_name": "Python 3.10.6 64-bit",
   "language": "python",
   "name": "python3"
  },
  "language_info": {
   "name": "python",
   "version": "3.10.6"
  },
  "orig_nbformat": 4,
  "vscode": {
   "interpreter": {
    "hash": "916dbcbb3f70747c44a77c7bcd40155683ae19c65e1c03b4aa3499c5328201f1"
   }
  }
 },
 "nbformat": 4,
 "nbformat_minor": 2
}

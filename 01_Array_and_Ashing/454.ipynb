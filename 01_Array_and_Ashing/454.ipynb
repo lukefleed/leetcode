{
 "cells": [
  {
   "cell_type": "markdown",
   "metadata": {},
   "source": [
    "![](https://i.imgur.com/h3YwHmf.png)"
   ]
  },
  {
   "cell_type": "code",
   "execution_count": null,
   "metadata": {},
   "outputs": [],
   "source": [
    "class Solution:\n",
    "    def fourSumCount(self, nums1: List[int], nums2: List[int], nums3: List[int], nums4: List[int]) -> int:\n",
    "        \n",
    "        # The simple bruteforce solution would take n^4 time complexity here. We can do better by dividing given lists into two groups and precalculating all possible sums for the first group. Results go to a hashmap where keys are sums and values are frequencies. It will take n^2 time and space. After that, we iterate over elements of the second group, and for every pair check whether their sum can add up to zero with a sum from the first group using a hashmap.\n",
    "\n",
    "        n, hm, res = len(nums1), defaultdict(int), 0 # \n",
    "\n",
    "        # Preprocessing first group\n",
    "        for i in range(n):\n",
    "            for j in range(n):\n",
    "                hm[nums1[i] + nums2[j]] += 1\n",
    "\n",
    "        # Processing second group \n",
    "        for k in range(n):\n",
    "            for l in range(n):\n",
    "                res += hm[0 - (nums3[k] + nums4[l])] # If the sum of the second group is 0, we can add up to 0 with a sum from the first group \n",
    "\n",
    "        return res"
   ]
  }
 ],
 "metadata": {
  "language_info": {
   "name": "python"
  },
  "orig_nbformat": 4
 },
 "nbformat": 4,
 "nbformat_minor": 2
}

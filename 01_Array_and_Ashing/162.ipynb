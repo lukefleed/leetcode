{
 "cells": [
  {
   "cell_type": "markdown",
   "metadata": {},
   "source": [
    "![](https://i.imgur.com/tdND1Vq.png)"
   ]
  },
  {
   "cell_type": "code",
   "execution_count": 1,
   "metadata": {},
   "outputs": [],
   "source": [
    "from typing import List"
   ]
  },
  {
   "cell_type": "code",
   "execution_count": 2,
   "metadata": {},
   "outputs": [],
   "source": [
    "# class Solution:\n",
    "#     def findPeakElement(self, nums: List[int]) -> int:\n",
    "#         # check the edge case\n",
    "#         if len(nums) == 1:\n",
    "#             return 0\n",
    "        \n",
    "#         # for the first element, check only the right side\n",
    "#         if nums[0] > nums[1]:\n",
    "#             return 0\n",
    "#         # for the last element, check only the left side\n",
    "#         if nums[-1] > nums[-2]:\n",
    "#             return len(nums) - 1\n",
    "\n",
    "#         # for the rest of the elements, check both sides\n",
    "#         for i in range(1, len(nums) - 1):\n",
    "#             if nums[i] > nums[i-1] and nums[i] > nums[i+1]:\n",
    "#                 return i\n",
    "\n",
    "# # O(n) time complexity, O(1) space complexity"
   ]
  },
  {
   "cell_type": "code",
   "execution_count": 5,
   "metadata": {},
   "outputs": [],
   "source": [
    "# Now let's do it with binary search\n",
    "\n",
    "class Solution:\n",
    "    def findPeakElement(self, nums: List[int]) -> int:\n",
    "        # check the edge case\n",
    "        if len(nums) == 1:\n",
    "            return 0\n",
    "        \n",
    "        # for the first element, check only the right side\n",
    "        if nums[0] > nums[1]:\n",
    "            return 0\n",
    "        # for the last element, check only the left side\n",
    "        if nums[-1] > nums[-2]:\n",
    "            return len(nums) - 1\n",
    "\n",
    "        # for the rest of the elements, check both sides\n",
    "        left = 0\n",
    "        right = len(nums) - 1\n",
    "        while left <= right:\n",
    "            mid = left + (right - left) // 2\n",
    "            if nums[mid] > nums[mid-1] and nums[mid] > nums[mid+1]:\n",
    "                return mid\n",
    "            elif nums[mid] < nums[mid-1]:\n",
    "                right = mid - 1\n",
    "            else:\n",
    "                left = mid + 1"
   ]
  },
  {
   "cell_type": "code",
   "execution_count": 6,
   "metadata": {},
   "outputs": [
    {
     "data": {
      "text/plain": [
       "2"
      ]
     },
     "execution_count": 6,
     "metadata": {},
     "output_type": "execute_result"
    }
   ],
   "source": [
    "nums = [1,2,3,1]\n",
    "Solution().findPeakElement(nums)"
   ]
  }
 ],
 "metadata": {
  "kernelspec": {
   "display_name": "Python 3.10.6 64-bit",
   "language": "python",
   "name": "python3"
  },
  "language_info": {
   "codemirror_mode": {
    "name": "ipython",
    "version": 3
   },
   "file_extension": ".py",
   "mimetype": "text/x-python",
   "name": "python",
   "nbconvert_exporter": "python",
   "pygments_lexer": "ipython3",
   "version": "3.10.6"
  },
  "orig_nbformat": 4,
  "vscode": {
   "interpreter": {
    "hash": "916dbcbb3f70747c44a77c7bcd40155683ae19c65e1c03b4aa3499c5328201f1"
   }
  }
 },
 "nbformat": 4,
 "nbformat_minor": 2
}

{
 "cells": [
  {
   "cell_type": "markdown",
   "metadata": {},
   "source": [
    "![](https://i.imgur.com/ykrToZW.png)"
   ]
  },
  {
   "cell_type": "code",
   "execution_count": null,
   "metadata": {},
   "outputs": [],
   "source": [
    "# crazy one-line solution\n",
    "class Solution:\n",
    "    def spiralOrder(self, matrix: List[List[int]]) -> List[int]:\n",
    "        return matrix and [*matrix.pop(0)] + self.spiralOrder([*zip(*matrix)][::-1])"
   ]
  },
  {
   "cell_type": "code",
   "execution_count": null,
   "metadata": {},
   "outputs": [],
   "source": [
    "class Solution:\n",
    "    def spiralOrder(self, matrix: List[List[int]]) -> List[int]:\n",
    "        height = len(matrix)\n",
    "        width = len(matrix[0])\n",
    "        \n",
    "        top = 0\n",
    "        bottom = height - 1\n",
    "        left = 0\n",
    "        right = width - 1\n",
    "        \n",
    "        ans = []\n",
    "        while top < bottom and left < right:\n",
    "            for col in range(left, right):\n",
    "                ans.append(matrix[top][col])\n",
    "            \n",
    "            for row in range(top, bottom):\n",
    "                ans.append(matrix[row][right])\n",
    "            \n",
    "            for col in range(right, left, -1):\n",
    "                ans.append(matrix[bottom][col])\n",
    "            \n",
    "            for row in range(bottom, top, -1):\n",
    "                ans.append(matrix[row][left])\n",
    "            \n",
    "            top += 1\n",
    "            bottom -= 1\n",
    "            left += 1\n",
    "            right -= 1\n",
    "        \n",
    "        # If a matrix remain inside it is either a 1xn or a mx1\n",
    "        # a linear scan will return the same order as spiral for these\n",
    "        if len(ans) < height*width:\n",
    "            for row in range(top, bottom+1):\n",
    "                for col in range(left, right+1):\n",
    "                    ans.append(matrix[row][col])\n",
    "        \n",
    "        return ans"
   ]
  }
 ],
 "metadata": {
  "kernelspec": {
   "display_name": "Python 3.10.6 64-bit",
   "language": "python",
   "name": "python3"
  },
  "language_info": {
   "name": "python",
   "version": "3.10.6"
  },
  "orig_nbformat": 4,
  "vscode": {
   "interpreter": {
    "hash": "916dbcbb3f70747c44a77c7bcd40155683ae19c65e1c03b4aa3499c5328201f1"
   }
  }
 },
 "nbformat": 4,
 "nbformat_minor": 2
}

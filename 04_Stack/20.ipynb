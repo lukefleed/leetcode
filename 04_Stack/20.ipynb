{
 "cells": [
  {
   "cell_type": "markdown",
   "metadata": {},
   "source": [
    "![](https://i.imgur.com/E5MMXli.png)"
   ]
  },
  {
   "cell_type": "code",
   "execution_count": 3,
   "metadata": {},
   "outputs": [],
   "source": [
    "class Solution:\n",
    "    def isValid(self, s: str) -> bool: # O(n) in space e memory\n",
    "        stack = []\n",
    "        map = {')':'(',']':'[','}':'{'}\n",
    "\n",
    "        for c in s:\n",
    "            if c not in map: # so it's a opening parenthesis\n",
    "                stack.append(c)\n",
    "                continue\n",
    "            if not stack and stack[-1] != map[c]: # there is no closing match to a parenthesis\n",
    "                return False\n",
    "            stack.pop()\n",
    "\n",
    "        return not stack\n",
    "\n",
    "\n"
   ]
  }
 ],
 "metadata": {
  "kernelspec": {
   "display_name": "Python 3.10.4 64-bit",
   "language": "python",
   "name": "python3"
  },
  "language_info": {
   "codemirror_mode": {
    "name": "ipython",
    "version": 3
   },
   "file_extension": ".py",
   "mimetype": "text/x-python",
   "name": "python",
   "nbconvert_exporter": "python",
   "pygments_lexer": "ipython3",
   "version": "3.10.4"
  },
  "orig_nbformat": 4,
  "vscode": {
   "interpreter": {
    "hash": "916dbcbb3f70747c44a77c7bcd40155683ae19c65e1c03b4aa3499c5328201f1"
   }
  }
 },
 "nbformat": 4,
 "nbformat_minor": 2
}

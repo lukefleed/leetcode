{
 "cells": [
  {
   "cell_type": "markdown",
   "metadata": {},
   "source": [
    "![](https://i.imgur.com/9yQJhCr.png)"
   ]
  },
  {
   "cell_type": "code",
   "execution_count": null,
   "metadata": {},
   "outputs": [],
   "source": [
    "import heapq\n",
    "\n",
    "class MedianFinder:\n",
    "\n",
    "    def __init__(self):\n",
    "        self.maxHeap = [] \n",
    "        self.minHeap = []\n",
    "        # I am using a maxHeap to store the smaller half of the numbers and a minHeap to store the larger half of the numbers. \n",
    "        # This gives me direct access to the one or two middle values (they're the tops of the heaps), so getting the median takes O(1) time. \n",
    "        # And adding a number takes O(log n) time.\n",
    "\n",
    "    def addNum(self, num: int) -> None:\n",
    "            \n",
    "            if len(self.maxHeap) == 0: # if maxHeap is empty then add the number to maxHeap\n",
    "                heapq.heappush(self.maxHeap, -num)\n",
    "                return\n",
    "    \n",
    "            if num <= -self.maxHeap[0]: # if the number is less than the top of maxHeap then add it to maxHeap, it means it is in the smaller half\n",
    "                heapq.heappush(self.maxHeap, -num)\n",
    "            else:\n",
    "                heapq.heappush(self.minHeap, num) # else add it to minHeap, it means it is in the larger half\n",
    "    \n",
    "            if len(self.maxHeap) > len(self.minHeap) + 1: # if the size of maxHeap is greater than the size of minHeap by more than 1, then we need to balance the heaps\n",
    "                heapq.heappush(self.minHeap, -heapq.heappop(self.maxHeap))\n",
    "            elif len(self.maxHeap) < len(self.minHeap): # if the size of minHeap is greater than the size of maxHeap, then we need to balance the heaps\n",
    "                heapq.heappush(self.maxHeap, -heapq.heappop(self.minHeap)) \n",
    "        \n",
    "\n",
    "    def findMedian(self) -> float:\n",
    "        if len(self.maxHeap) == len(self.minHeap):\n",
    "            return (-self.maxHeap[0] + self.minHeap[0]) / 2\n",
    "        else:\n",
    "            return -self.maxHeap[0]\n",
    "\n",
    "# Your MedianFinder object will be instantiated and called as such:\n",
    "# obj = MedianFinder()\n",
    "# obj.addNum(num)\n",
    "# param_2 = obj.findMedian()"
   ]
  }
 ],
 "metadata": {
  "language_info": {
   "name": "python"
  },
  "orig_nbformat": 4
 },
 "nbformat": 4,
 "nbformat_minor": 2
}

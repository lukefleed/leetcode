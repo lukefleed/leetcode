{
 "cells": [
  {
   "cell_type": "markdown",
   "metadata": {},
   "source": [
    "![](https://i.imgur.com/lqpjW3R.png)"
   ]
  },
  {
   "cell_type": "code",
   "execution_count": 6,
   "metadata": {},
   "outputs": [],
   "source": [
    "from typing import List\n",
    "import heapq"
   ]
  },
  {
   "cell_type": "code",
   "execution_count": null,
   "metadata": {},
   "outputs": [],
   "source": [
    "# Solution: Sorting\n",
    "# Time Complexity:\n",
    "#   - Best Case: O(n)\n",
    "#   - Average Case: O(n*log(n))\n",
    "#   - Worst Case:O(n*log(n))\n",
    "# Extra Space Complexity: O(n)\n",
    "\n",
    "class Solution1:\n",
    "    def findKthLargest(self, nums: List[int], k: int) -> int:\n",
    "        nums.sort()\n",
    "        return nums[len(nums)-k]"
   ]
  },
  {
   "cell_type": "code",
   "execution_count": 4,
   "metadata": {},
   "outputs": [
    {
     "name": "stdout",
     "output_type": "stream",
     "text": [
      "5\n"
     ]
    }
   ],
   "source": [
    "# Solution: QuickSelect\n",
    "# Time Complexity: \n",
    "#   - Best Case: O(n)\n",
    "#   - Average Case: O(n)\n",
    "#   - Worst Case: O(n^2)\n",
    "# Extra Space Complexity: O(1)\n",
    "\n",
    "class Solution2:\n",
    "    def partition(self, nums: List[int], left: int, right: int) -> int:\n",
    "        pivot, fill = nums[right], left\n",
    "            \n",
    "        for i in range(left, right):\n",
    "            if nums[i] <= pivot:\n",
    "                nums[fill], nums[i] = nums[i], nums[fill]\n",
    "                fill += 1\n",
    "                \n",
    "        nums[fill], nums[right] = nums[right], nums[fill]\n",
    "            \n",
    "        return fill\n",
    "    \n",
    "    def findKthLargest(self, nums: List[int], k: int) -> int:\n",
    "        k = len(nums) - k\n",
    "        left, right = 0, len(nums) - 1\n",
    "        \n",
    "        while left < right:\n",
    "            pivot = self.partition(nums, left, right)\n",
    "            \n",
    "            if pivot < k:\n",
    "                left = pivot + 1\n",
    "            elif pivot > k:\n",
    "                right = pivot - 1\n",
    "            else:\n",
    "                break\n",
    "\n",
    "        return nums[k]"
   ]
  }
 ],
 "metadata": {
  "kernelspec": {
   "display_name": "Python 3.10.6 64-bit",
   "language": "python",
   "name": "python3"
  },
  "language_info": {
   "codemirror_mode": {
    "name": "ipython",
    "version": 3
   },
   "file_extension": ".py",
   "mimetype": "text/x-python",
   "name": "python",
   "nbconvert_exporter": "python",
   "pygments_lexer": "ipython3",
   "version": "3.10.6"
  },
  "orig_nbformat": 4,
  "vscode": {
   "interpreter": {
    "hash": "916dbcbb3f70747c44a77c7bcd40155683ae19c65e1c03b4aa3499c5328201f1"
   }
  }
 },
 "nbformat": 4,
 "nbformat_minor": 2
}

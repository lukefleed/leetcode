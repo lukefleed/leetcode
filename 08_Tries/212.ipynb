{
 "cells": [
  {
   "cell_type": "markdown",
   "metadata": {},
   "source": [
    "![](https://i.imgur.com/l5U4gvS.png)"
   ]
  },
  {
   "cell_type": "markdown",
   "metadata": {},
   "source": [
    "Constraints:\n",
    "\n",
    "* `m == board.length`\n",
    "* `n == board[i].length`\n",
    "* `1 <= m, n <= 12`\n",
    "* board[i][j] is a lowercase English letter.\n",
    "* `1 <= words.length <= 3 * 10^4`\n",
    "* `1 <= words[i].length <= 10`\n",
    "* `words[i]` consists of lowercase English letters.\n",
    "* All the strings of words are unique."
   ]
  },
  {
   "cell_type": "code",
   "execution_count": null,
   "metadata": {},
   "outputs": [],
   "source": [
    "class TrieNode:\n",
    "    def __init__(self):\n",
    "        self.children = [None] * 26 # 26 letters in English alphabet\n",
    "        self.end = False # True if node represents the end of the word\n",
    "\n",
    "class Trie:\n",
    "    def __init__(self):\n",
    "        self.root = TrieNode() # root node\n",
    "\n",
    "    def insert(self, word: str) -> None:\n",
    "        curr = self.root # start from root\n",
    "        for c in word: # iterate through each character in the word\n",
    "            i = ord(c) - ord(\"a\") # get the index of the character in the alphabet\n",
    "            if curr.children[i] == None: # if the character is not in the trie\n",
    "                curr.children[i] = TrieNode() # create a new node for the character\n",
    "            curr = curr.children[i] # move to the next node\n",
    "        curr.end = True # mark the end of the word\n",
    "\n",
    "class Solution:\n",
    "    def findWords(self, board: List[List[str]], words: List[str]) -> List[str]:\n",
    "\n",
    "        if not board or not board[0]: # if the board is empty\n",
    "            return []\n",
    "\n",
    "        def dfs(i, j, node, path):\n",
    "            if node.end: # if the node represents the end of the word\n",
    "                res.append(path) # add the word to the result\n",
    "                node.end = False # mark the node as visited\n",
    "            if i < 0 or i >= len(board) or j < 0 or j >= len(board[0]): # if the index is out of bounds \n",
    "                return \n",
    "            c = board[i][j] # get the character at the index\n",
    "            if c == \"#\" or node.children[ord(c) - ord(\"a\")] == None: # if the character is visited or the character is not in the trie\n",
    "                return\n",
    "                \n",
    "            board[i][j] = \"#\" # mark the character as visited\n",
    "            dfs(i + 1, j, node.children[ord(c) - ord(\"a\")], path + c) # move down\n",
    "            dfs(i - 1, j, node.children[ord(c) - ord(\"a\")], path + c) # move up\n",
    "            dfs(i, j + 1, node.children[ord(c) - ord(\"a\")], path + c) # move right\n",
    "            dfs(i, j - 1, node.children[ord(c) - ord(\"a\")], path + c) # move left\n",
    "            board[i][j] = c # mark the character as unvisited\n",
    "        \n",
    "        trie = Trie() # create a trie\n",
    "        for word in words: # insert all the words into the trie\n",
    "            trie.insert(word) \n",
    "        res = [] # result\n",
    "        for i in range(len(board)): # iterate through the board\n",
    "            for j in range(len(board[0])): # iterate through the board\n",
    "                dfs(i, j, trie.root, \"\") # perform dfs\n",
    "        return res # return the result\n"
   ]
  }
 ],
 "metadata": {
  "kernelspec": {
   "display_name": "Python 3.10.6 64-bit",
   "language": "python",
   "name": "python3"
  },
  "language_info": {
   "codemirror_mode": {
    "name": "ipython",
    "version": 3
   },
   "file_extension": ".py",
   "mimetype": "text/x-python",
   "name": "python",
   "nbconvert_exporter": "python",
   "pygments_lexer": "ipython3",
   "version": "3.10.6"
  },
  "orig_nbformat": 4,
  "vscode": {
   "interpreter": {
    "hash": "916dbcbb3f70747c44a77c7bcd40155683ae19c65e1c03b4aa3499c5328201f1"
   }
  }
 },
 "nbformat": 4,
 "nbformat_minor": 2
}

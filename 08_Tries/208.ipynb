{
 "cells": [
  {
   "cell_type": "markdown",
   "metadata": {},
   "source": [
    "![](https://i.imgur.com/syxHlRx.png)\n",
    "\n",
    "Constraints:\n",
    "\n",
    "- `1 <= word.length, prefix.length <= 2000`\n",
    "- `word` and `prefix` consist only of lowercase English letters.\n",
    "- At most `3 * 10^4` calls in total will be made to `insert`, `search`, and `startsWith`."
   ]
  },
  {
   "cell_type": "code",
   "execution_count": 3,
   "metadata": {},
   "outputs": [],
   "source": [
    "class TrieNode:\n",
    "    def __init__(self):\n",
    "        self.children = [None] * 26\n",
    "        self.end = False\n",
    "\n",
    "\n",
    "class Trie:\n",
    "    def __init__(self):\n",
    "        \"\"\"\n",
    "        Initialize your data structure here.\n",
    "        \"\"\"\n",
    "        self.root = TrieNode()\n",
    "\n",
    "    def insert(self, word: str) -> None:\n",
    "        \"\"\"\n",
    "        Inserts a word into the trie.\n",
    "        \"\"\"\n",
    "        curr = self.root\n",
    "        for c in word:\n",
    "            i = ord(c) - ord(\"a\")\n",
    "            if curr.children[i] == None:\n",
    "                curr.children[i] = TrieNode()\n",
    "            curr = curr.children[i]\n",
    "        curr.end = True\n",
    "\n",
    "    def search(self, word: str) -> bool:\n",
    "        \"\"\"\n",
    "        Returns if the word is in the trie.\n",
    "        \"\"\"\n",
    "        curr = self.root\n",
    "        for c in word:\n",
    "            i = ord(c) - ord(\"a\")\n",
    "            if curr.children[i] == None:\n",
    "                return False\n",
    "            curr = curr.children[i]\n",
    "        return curr.end\n",
    "\n",
    "    def startsWith(self, prefix: str) -> bool:\n",
    "        \"\"\"\n",
    "        Returns if there is any word in the trie that starts with the given prefix.\n",
    "        \"\"\"\n",
    "        curr = self.root\n",
    "        for c in prefix:\n",
    "            i = ord(c) - ord(\"a\")\n",
    "            if curr.children[i] == None:\n",
    "                return False\n",
    "            curr = curr.children[i]\n",
    "        return True"
   ]
  }
 ],
 "metadata": {
  "kernelspec": {
   "display_name": "Python 3.10.6 64-bit",
   "language": "python",
   "name": "python3"
  },
  "language_info": {
   "codemirror_mode": {
    "name": "ipython",
    "version": 3
   },
   "file_extension": ".py",
   "mimetype": "text/x-python",
   "name": "python",
   "nbconvert_exporter": "python",
   "pygments_lexer": "ipython3",
   "version": "3.10.6"
  },
  "orig_nbformat": 4,
  "vscode": {
   "interpreter": {
    "hash": "e7370f93d1d0cde622a1f8e1c04877d8463912d04d973331ad4851f04de6915a"
   }
  }
 },
 "nbformat": 4,
 "nbformat_minor": 2
}

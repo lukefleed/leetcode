{
 "cells": [
  {
   "cell_type": "markdown",
   "metadata": {},
   "source": [
    "![](https://i.imgur.com/sRzj35w.png)"
   ]
  },
  {
   "cell_type": "code",
   "execution_count": null,
   "metadata": {},
   "outputs": [],
   "source": [
    "class Solution:\n",
    "    def permute(self, nums: List[int]) -> List[List[int]]:\n",
    "        # we know that there will be n! permutations\n",
    "        res = []\n",
    "\n",
    "        # base case\n",
    "        if len(nums) == 1:\n",
    "            return [nums[:]] # return a copy of the list\n",
    "\n",
    "        for i in range(len(nums)):\n",
    "            n = nums.pop(0) # remove the first element\n",
    "            perms = self.permute(nums) # get all permutations of the rest of the list\n",
    "\n",
    "            for perm in perms: \n",
    "                perm.append(n) # add the removed element to the end of each permutation\n",
    "            res.extend(perms) # add all permutations to the result\n",
    "            nums.append(n) # add the removed element back to the end of the list\n",
    "        return res"
   ]
  }
 ],
 "metadata": {
  "language_info": {
   "name": "python"
  },
  "orig_nbformat": 4
 },
 "nbformat": 4,
 "nbformat_minor": 2
}

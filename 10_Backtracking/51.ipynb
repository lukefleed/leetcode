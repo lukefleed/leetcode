{
 "cells": [
  {
   "cell_type": "markdown",
   "metadata": {},
   "source": [
    "![](https://i.imgur.com/kV97tlq.png)"
   ]
  },
  {
   "cell_type": "code",
   "execution_count": null,
   "metadata": {},
   "outputs": [],
   "source": [
    "class Solution:\n",
    "    def solveNQueens(self, n: int) -> List[List[str]]:\n",
    "\n",
    "        result = []\n",
    "\n",
    "        def dfs(queens, xy_dif, xy_sum): # queens: positions of queens, xy_dif: x-y, xy_sum: x+y\n",
    "            p = len(queens) # current row\n",
    "            if p==n: # if all queens are placed\n",
    "                result.append(queens) # add to result\n",
    "                return None \n",
    "            for q in range(n): # try to place a queen in current row\n",
    "                if q not in queens and p-q not in xy_dif and p+q not in xy_sum: # if not under attack \n",
    "                    dfs(queens+[q], xy_dif+[p-q], xy_sum+[p+q]) # add to queens, xy_dif, xy_sum and continue to next row \n",
    "\n",
    "        dfs([],[],[]) # start from first row\n",
    "        return [[\".\"*i + \"Q\" + \".\"*(n-i-1) for i in sol] for sol in result] "
   ]
  }
 ],
 "metadata": {
  "kernelspec": {
   "display_name": "Python 3.10.6 64-bit",
   "language": "python",
   "name": "python3"
  },
  "language_info": {
   "name": "python",
   "version": "3.10.6"
  },
  "orig_nbformat": 4,
  "vscode": {
   "interpreter": {
    "hash": "916dbcbb3f70747c44a77c7bcd40155683ae19c65e1c03b4aa3499c5328201f1"
   }
  }
 },
 "nbformat": 4,
 "nbformat_minor": 2
}

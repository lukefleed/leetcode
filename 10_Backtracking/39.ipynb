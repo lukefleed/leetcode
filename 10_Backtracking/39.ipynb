{
 "cells": [
  {
   "cell_type": "markdown",
   "metadata": {},
   "source": [
    "![](https://i.imgur.com/ROTkGqd.png)"
   ]
  },
  {
   "cell_type": "code",
   "execution_count": null,
   "metadata": {},
   "outputs": [],
   "source": [
    "class Solution:\n",
    "    def combinationSum(self, candidates: List[int], target: int) -> List[List[int]]:\n",
    "        res = [] \n",
    "\n",
    "        # I can see the problem as a tree, where each node is a candidate. Then, I can use backtracking to solve it. In this way, I can avoid the use of a visited array.\n",
    "\n",
    "        def dfs(i, cur, total): # i: index, cur: current list, total: current sum\n",
    "            if total == target: # base case\n",
    "                res.append(cur.copy()) # add a copy of the current list to the result\n",
    "                return\n",
    "            if i >= len(candidates) or total > target: # base case\n",
    "                return \n",
    "\n",
    "            cur.append(candidates[i]) # add the current candidate to the current list, so that we can use it in the next iteration\n",
    "            dfs(i, cur, total + candidates[i]) # call the function recursively, with the same index, because we can use the same candidate multiple times\n",
    "            cur.pop() # remove the current candidate from the current list, so that we can try the next candidate\n",
    "            dfs(i + 1, cur, total) # call the function recursively, with the next index, because we can't use the same candidate multiple times \n",
    "\n",
    "        dfs(0, [], 0) # call the function with the initial values \n",
    "        return res "
   ]
  }
 ],
 "metadata": {
  "kernelspec": {
   "display_name": "Python 3.10.6 64-bit",
   "language": "python",
   "name": "python3"
  },
  "language_info": {
   "codemirror_mode": {
    "name": "ipython",
    "version": 3
   },
   "file_extension": ".py",
   "mimetype": "text/x-python",
   "name": "python",
   "nbconvert_exporter": "python",
   "pygments_lexer": "ipython3",
   "version": "3.10.6"
  },
  "orig_nbformat": 4,
  "vscode": {
   "interpreter": {
    "hash": "916dbcbb3f70747c44a77c7bcd40155683ae19c65e1c03b4aa3499c5328201f1"
   }
  }
 },
 "nbformat": 4,
 "nbformat_minor": 2
}

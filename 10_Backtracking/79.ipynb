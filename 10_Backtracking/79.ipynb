{
 "cells": [
  {
   "cell_type": "markdown",
   "metadata": {},
   "source": [
    "![](https://i.imgur.com/fjS0evA.png)"
   ]
  },
  {
   "cell_type": "code",
   "execution_count": null,
   "metadata": {},
   "outputs": [],
   "source": [
    "class Solution:\n",
    "    def exist(self, board: List[List[str]], word: str) -> bool:\n",
    "        # use a backtracking algorithm\n",
    "        # we can see the board as a graph, where the word is a path\n",
    "\n",
    "        ROWS, COLS = len(board), len(board[0])\n",
    "        path = set() # add all the current values in our path\n",
    "\n",
    "        # nested function\n",
    "        def dfs(r, c, i): # row, column, index of the word\n",
    "            # if we have found the word\n",
    "            if i == len(word):\n",
    "                return True\n",
    "\n",
    "            # what if we go out of bounds? or if the current value is not the same as the current letter in the word? or if we have already visited this value? \n",
    "            if (\n",
    "                r < 0 or c< 0 or \n",
    "                r >= ROWS or c >= COLS or \n",
    "                word[i] != board[r][c] \n",
    "                or (r, c) in path):\n",
    "                return False\n",
    "\n",
    "            # now that we have found the charcter, we can add it to our path\n",
    "            path.add((r, c))\n",
    "\n",
    "            # now look at the results of the dfs checking all the neighbors\n",
    "            res = (dfs(r+1, c, i+1) or \n",
    "                  dfs(r-1, c, i+1) or \n",
    "                  dfs(r, c+1, i+1) or \n",
    "                  dfs(r, c-1, i+1))\n",
    "\n",
    "            # clear the path because we already visited this value\n",
    "            path.remove((r, c))\n",
    "            return res\n",
    "\n",
    "        # now we can loop through the board and check if the first letter is in the board\n",
    "        for r in range(ROWS):\n",
    "            for c in range(COLS):\n",
    "                if board[r][c] == word[0] and dfs(r, c, 0):\n",
    "                    return True\n",
    "        return False\n",
    "\n",
    "# It's not very efficient, but there is no other way to do it\n",
    "# O(n*m*dfs) time complexity, where dfs is the time complexity of the dfs function and is O(4^k) where k is the length of the word\n",
    "\n",
    "         "
   ]
  }
 ],
 "metadata": {
  "language_info": {
   "name": "python"
  },
  "orig_nbformat": 4
 },
 "nbformat": 4,
 "nbformat_minor": 2
}

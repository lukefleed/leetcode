{
 "cells": [
  {
   "cell_type": "markdown",
   "metadata": {},
   "source": [
    "![](https://i.imgur.com/rhJqIEJ.png)"
   ]
  },
  {
   "cell_type": "code",
   "execution_count": null,
   "metadata": {},
   "outputs": [],
   "source": [
    "class Solution:\n",
    "    def subsetsWithDup(self, nums: List[int]) -> List[List[int]]:\n",
    "        nums.sort() # we need to sort the array to avoid duplicates\n",
    "        res = [] \n",
    "\n",
    "        def dfs(nums, path):\n",
    "            res.append(path) # add the path to the result\n",
    "            for i in range(len(nums)): # iterate over the array\n",
    "                if i > 0 and nums[i] == nums[i-1]: # if the current element is same as the previous element, we skip it to avoid duplicates\n",
    "                    continue\n",
    "                dfs(nums[i+1:], path+[nums[i]]) # call the dfs function with the remaining elements and the path with the current element\n",
    "        dfs(nums, [])\n",
    "\n",
    "        return res"
   ]
  }
 ],
 "metadata": {
  "kernelspec": {
   "display_name": "Python 3.10.6 64-bit",
   "language": "python",
   "name": "python3"
  },
  "language_info": {
   "name": "python",
   "version": "3.10.6"
  },
  "orig_nbformat": 4,
  "vscode": {
   "interpreter": {
    "hash": "916dbcbb3f70747c44a77c7bcd40155683ae19c65e1c03b4aa3499c5328201f1"
   }
  }
 },
 "nbformat": 4,
 "nbformat_minor": 2
}

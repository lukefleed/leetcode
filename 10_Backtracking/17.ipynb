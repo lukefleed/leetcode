{
 "cells": [
  {
   "cell_type": "code",
   "execution_count": null,
   "metadata": {},
   "outputs": [],
   "source": [
    "class Solution:\n",
    "    def letterCombinations(self, digits: str) -> List[str]:\n",
    "\n",
    "        dict = {2: [\"a\", \"b\", \"c\"],\n",
    "                3: [\"d\", \"e\", \"f\"],\n",
    "                4: [\"g\", \"h\", \"i\"],\n",
    "                5: [\"j\", \"k\", \"l\"],\n",
    "                6: [\"m\", \"n\", \"o\"],\n",
    "                7: [\"p\", \"q\", \"r\", \"s\"],\n",
    "                8: [\"t\", \"u\", \"v\"],\n",
    "                9: [\"w\", \"x\", \"y\", \"z\"]}\n",
    "        if len(digits) == 0:\n",
    "            return []\n",
    "\n",
    "        if len(digits) == 1:\n",
    "            return dict[int(digits)]\n",
    "\n",
    "        res = []\n",
    "        for i in dict[int(digits[0])]:\n",
    "            for j in self.letterCombinations(digits[1:]):\n",
    "                res.append(i + j)\n",
    "        return res\n",
    "        \n",
    "        "
   ]
  }
 ],
 "metadata": {
  "language_info": {
   "name": "python"
  },
  "orig_nbformat": 4
 },
 "nbformat": 4,
 "nbformat_minor": 2
}

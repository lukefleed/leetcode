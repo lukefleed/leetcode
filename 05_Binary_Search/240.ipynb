{
 "cells": [
  {
   "cell_type": "markdown",
   "metadata": {},
   "source": [
    "![](https://i.imgur.com/PKei0ix.png)"
   ]
  },
  {
   "cell_type": "code",
   "execution_count": null,
   "metadata": {},
   "outputs": [],
   "source": [
    "class Solution:\n",
    "    def searchMatrix(self, matrix: List[List[int]], target: int) -> bool:\n",
    "        \n",
    "        # start from the top right corner\n",
    "        # if the target is smaller than the current element, move left\n",
    "        # if the target is larger than the current element, move down\n",
    "        # if the target is equal to the current element, return True\n",
    "        # if the target is not found, return False\n",
    "\n",
    "        if not matrix or not matrix[0]:\n",
    "            return False\n",
    "\n",
    "        m, n = len(matrix), len(matrix[0])\n",
    "        row, col = 0, n - 1\n",
    "\n",
    "        while row < m and col >= 0:\n",
    "            if matrix[row][col] == target:\n",
    "                return True\n",
    "            elif matrix[row][col] > target:\n",
    "                col -= 1\n",
    "            else:\n",
    "                row += 1\n",
    "\n",
    "        return False\n",
    "\n",
    "\n",
    "\n",
    "\n",
    "\n",
    "        \n",
    "\n",
    "\n",
    "\n",
    "            \n",
    "            \n",
    "                "
   ]
  }
 ],
 "metadata": {
  "language_info": {
   "name": "python"
  },
  "orig_nbformat": 4
 },
 "nbformat": 4,
 "nbformat_minor": 2
}

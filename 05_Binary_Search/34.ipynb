{
 "cells": [
  {
   "cell_type": "markdown",
   "metadata": {},
   "source": [
    "![](https://i.imgur.com/3DyrQHz.png)"
   ]
  },
  {
   "cell_type": "code",
   "execution_count": null,
   "metadata": {},
   "outputs": [],
   "source": [
    "class Solution:\n",
    "    def searchRange(self, nums: List[int], target: int) -> List[int]:\n",
    "\n",
    "        l, r = 0, len(nums) - 1\n",
    "        mid = (l + r) // 2\n",
    "        range = []\n",
    "\n",
    "        while l <= r:\n",
    "            if nums[mid] == target:\n",
    "                # check left and right till there are not equal to target\n",
    "                left = mid\n",
    "                right = mid\n",
    "                while left > 0 and nums[left - 1] == target:\n",
    "                    left -= 1\n",
    "                while right < len(nums) - 1 and nums[right + 1] == target:\n",
    "                    right += 1\n",
    "                range.append(left)\n",
    "                range.append(right)\n",
    "                return range\n",
    "            elif nums[mid] > target:\n",
    "                r = mid - 1\n",
    "            else:\n",
    "                l = mid + 1\n",
    "            mid = (l + r) // 2\n",
    "\n",
    "        return [-1, -1]\n",
    "        "
   ]
  },
  {
   "cell_type": "code",
   "execution_count": null,
   "metadata": {},
   "outputs": [],
   "source": [
    "class Solution:\n",
    "    def searchRange(self, nums: List[int], target: int) -> List[int]:\n",
    "\n",
    "        l, r = 0, len(nums) - 1\n",
    "        range = []\n",
    "\n",
    "        # now make it recursive\n",
    "        def binarySearch(l, r, target):\n",
    "            if l > r:\n",
    "                return [-1, -1]\n",
    "            mid = (l + r) // 2\n",
    "            if nums[mid] == target:\n",
    "                # check left and right till there are not equal to target\n",
    "                left = mid\n",
    "                right = mid\n",
    "                while left > 0 and nums[left - 1] == target:\n",
    "                    left -= 1\n",
    "                while right < len(nums) - 1 and nums[right + 1] == target:\n",
    "                    right += 1\n",
    "                range.append(left)\n",
    "                range.append(right)\n",
    "                return range\n",
    "            elif nums[mid] > target:\n",
    "                return binarySearch(l, mid - 1, target)\n",
    "            else:\n",
    "                return binarySearch(mid + 1, r, target)\n",
    "\n",
    "        return binarySearch(l, r, target)\n",
    "\n"
   ]
  }
 ],
 "metadata": {
  "language_info": {
   "name": "python"
  },
  "orig_nbformat": 4
 },
 "nbformat": 4,
 "nbformat_minor": 2
}

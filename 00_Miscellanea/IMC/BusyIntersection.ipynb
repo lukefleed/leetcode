{
 "cells": [
  {
   "attachments": {},
   "cell_type": "markdown",
   "metadata": {},
   "source": [
    "## Q2 - Traffic Arragnment\n",
    "\n",
    "There are two streets denoted as MAIN STREET (0), and FIRST STREET (1). These streets are 1-way and thus you need to help them determine the time (in second) in which the cars will be pass through the intersection! They follow the rules:\n",
    "\n",
    "* If in the previous second, there is a car from the FIRST STREET passing through the intersection, then the first car on the FIRST STREET gets to go.\n",
    "* If in the previous second, there is a car from the MAIN STREET passing through the intersection, then the first car on the MAIN STREET gets to go.\n",
    "* If in the previous second, there is no car passing through, then the first car on FIRST STREET gets to go.\n",
    "\n",
    "You are given an array Arrival denoting the arrival time for car i, and an array Street denoting which street the car is on, with 0 being MAIN STREET and 1 being FIRST STREET.\n",
    "\n",
    "Return an array of size Arrival.length such that `ans[i]` is the time on which car i passes through the intersection.\n",
    "\n",
    "### Constraints\n",
    "\n",
    "* 1 <= Arrival.length <= 100000\n",
    "* 1 <= Arrival[i] <= 1000000000\n",
    "* Arrival is sorted in non-decreasing order (2 cars can arrive together on the same street).\n",
    "* Street[i] is either 0 or 1"
   ]
  },
  {
   "cell_type": "code",
   "execution_count": 6,
   "metadata": {},
   "outputs": [],
   "source": [
    "from collections import deque\n",
    "\n",
    "def getResult(arrival: list, street: list): \n",
    "    \n",
    "    time = 0 # time is the current time in seconds\n",
    "    idx = 0 # idx is the index of the car that is currently passing through the intersection\n",
    "    last = 1  # 1st street goes first\n",
    "    q1, q0 = deque([]), deque([]) \n",
    "    ans = [0] * len(arrival) # ans is the array of integers where ans[i] is the time in seconds that the ith car passes through the intersection\n",
    "    \n",
    "    while True:\n",
    "        # no car was moving so need to increase time\n",
    "        move = True # we use this variable to check if we need to increase time or not. If we don't increase time, then we need to check if there are any cars that arrive at the same time as the current time\n",
    "\n",
    "        # add cars to queue, same logic below\n",
    "        while idx < len(arrival) and arrival[idx] == time: \n",
    "            if street[idx] == 0: # if the car is on the main street\n",
    "                q0.append(idx)\n",
    "            else: # if the car is on the first street\n",
    "                q1.append(idx)\n",
    "            idx += 1 # increment idx since we have added the car to the queue\n",
    "    \n",
    "        if q0 and not q1: # if there are cars on the main street but no cars on the first street\n",
    "            last = 0 # set last to 0 since the last car to pass through the intersection was on the main street\n",
    "\n",
    "        while last == 1 and q1: # if there are cars on the first street but no cars on the main street\n",
    "            ans[q1.popleft()] = time # pop the first car on the first street and set its time to the current time\n",
    "            time += 1 # increase time by 1 second\n",
    "            move = False # set move to False since we have moved a car\n",
    "            while idx < len(arrival) and arrival[idx] == time: # if there are cars that arrive at the same time as the current time\n",
    "                if street[idx] == 0: # if the car is on the main street\n",
    "                    q0.append(idx)\n",
    "                else: \n",
    "                    q1.append(idx)\n",
    "                idx += 1 # increment idx since we have added the car to the queue\n",
    "\n",
    "        while last == 0 and q0: # if there are cars on the main street but no cars on the first street\n",
    "            ans[q0.popleft()] = time # pop the first car on the main street and set its time to the current time\n",
    "            time += 1 # increase time by 1 second\n",
    "            move = False # set move to False since we have moved a car\n",
    "            while idx < len(arrival) and arrival[idx] == time: # if there are cars that arrive at the same time as the current time\n",
    "                if street[idx] == 0:\n",
    "                    q0.append(idx)\n",
    "                else:\n",
    "                    q1.append(idx)\n",
    "                idx += 1 # increment idx since we have added the car to the queue\n",
    "\n",
    "        if not q0: # if there are no cars on the main street\n",
    "            last = 1 # set last to 1 since the last car to pass through the intersection was on the first street\n",
    "        # need to move on time\n",
    "        # not += 1 because fail corner case [0, 100000]\n",
    "        if move: # if we need to increase time\n",
    "            time = arrival[idx] # set time to the arrival time of the next car that arrives\n",
    "            continue # continue since we don't need to check if there are any cars that arrive at the same time as the current time\n",
    "        # finish all cars\n",
    "        if not q0 and not q1 and idx == len(arrival): # if there are no cars on the main street, no cars on the first street, and we have reached the end of the arrival array\n",
    "            return ans # return ans since we have finished all cars"
   ]
  },
  {
   "cell_type": "code",
   "execution_count": 12,
   "metadata": {},
   "outputs": [
    {
     "name": "stdout",
     "output_type": "stream",
     "text": [
      "[2, 0, 1, 4]\n"
     ]
    }
   ],
   "source": [
    "arrival = [0, 0, 1, 4]\n",
    "street = [0, 1, 1, 0]\n",
    "\n",
    "print(getResult(arrival, street)) # [2, 0, 1, 5]"
   ]
  }
 ],
 "metadata": {
  "kernelspec": {
   "display_name": "Python 3",
   "language": "python",
   "name": "python3"
  },
  "language_info": {
   "codemirror_mode": {
    "name": "ipython",
    "version": 3
   },
   "file_extension": ".py",
   "mimetype": "text/x-python",
   "name": "python",
   "nbconvert_exporter": "python",
   "pygments_lexer": "ipython3",
   "version": "3.10.6"
  },
  "orig_nbformat": 4
 },
 "nbformat": 4,
 "nbformat_minor": 2
}

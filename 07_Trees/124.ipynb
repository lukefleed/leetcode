{
 "cells": [
  {
   "cell_type": "markdown",
   "metadata": {},
   "source": [
    "![](https://i.imgur.com/ReCB2Qm.png)"
   ]
  },
  {
   "cell_type": "code",
   "execution_count": null,
   "metadata": {},
   "outputs": [],
   "source": [
    "# Definition for a binary tree node.\n",
    "class TreeNode:\n",
    "    def __init__(self, val=0, left=None, right=None):\n",
    "        self.val = val\n",
    "        self.left = left\n",
    "        self.right = right"
   ]
  },
  {
   "cell_type": "code",
   "execution_count": null,
   "metadata": {},
   "outputs": [],
   "source": [
    "class Solution:\n",
    "    def maxPathSum(self, root: Optional[TreeNode]) -> int:\n",
    "        self.max_sum = float('-inf') # initialize the max sum to negative infinity\n",
    "        self.max_gain(root) # call the max gain function\n",
    "        return self.max_sum\n",
    "\n",
    "    def max_gain(self, node): # returns the max gain from the node \n",
    "        if not node:\n",
    "            return 0\n",
    "\n",
    "        left_gain = max(self.max_gain(node.left), 0) # if the left gain is negative, we don't want to include it\n",
    "        right_gain = max(self.max_gain(node.right), 0) # if the right gain is negative, we don't want to include it\n",
    "\n",
    "        price_newpath = node.val + left_gain + right_gain # the price of the new path is the node value + the left gain + the right gain (the left and right gains are 0 if they are negative)\n",
    "\n",
    "        self.max_sum = max(self.max_sum, price_newpath) # update the max sum if the new path is greater than the current max sum\n",
    "\n",
    "        return node.val + max(left_gain, right_gain) # return the max gain from the node where the max gain is the max of the node value and the node value + the max gain of the left or right child"
   ]
  }
 ],
 "metadata": {
  "language_info": {
   "name": "python"
  },
  "orig_nbformat": 4
 },
 "nbformat": 4,
 "nbformat_minor": 2
}

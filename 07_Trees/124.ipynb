{
 "cells": [
  {
   "cell_type": "markdown",
   "metadata": {},
   "source": [
    "![](https://i.imgur.com/ReCB2Qm.png)"
   ]
  },
  {
   "cell_type": "code",
   "execution_count": null,
   "metadata": {},
   "outputs": [],
   "source": [
    "# Definition for a binary tree node.\n",
    "class TreeNode:\n",
    "    def __init__(self, val=0, left=None, right=None):\n",
    "        self.val = val\n",
    "        self.left = left\n",
    "        self.right = right"
   ]
  },
  {
   "cell_type": "code",
   "execution_count": null,
   "metadata": {},
   "outputs": [],
   "source": [
    "class Solution:\n",
    "    def maxPathSum(self, root: Optional[TreeNode]) -> int:\n",
    "        self.max_sum = float('-inf') # initialize the max sum to negative infinity\n",
    "        self.max_gain(root) # call the max gain function\n",
    "        return self.max_sum\n",
    "\n",
    "    def max_gain(self, node): # returns the max gain from the node \n",
    "        if not node:\n",
    "            return 0\n",
    "\n",
    "        left_gain = max(self.max_gain(node.left), 0) # if the left gain is negative, we don't want to include it\n",
    "        right_gain = max(self.max_gain(node.right), 0) # if the right gain is negative, we don't want to include it\n",
    "\n",
    "        price_newpath = node.val + left_gain + right_gain # the price of the new path is the node value + the left gain + the right gain (the left and right gains are 0 if they are negative)\n",
    "\n",
    "        self.max_sum = max(self.max_sum, price_newpath) # update the max sum if the new path is greater than the current max sum\n",
    "\n",
    "        return node.val + max(left_gain, right_gain) # return the max gain from the node where the max gain is the max of the node value and the node value + the max gain of the left or right child"
   ]
  }
 ],
 "metadata": {
  "kernelspec": {
   "display_name": "Python 3.10.6 64-bit",
   "language": "python",
   "name": "python3"
  },
  "language_info": {
   "name": "python",
   "version": "3.10.6"
  },
  "orig_nbformat": 4,
  "vscode": {
   "interpreter": {
    "hash": "916dbcbb3f70747c44a77c7bcd40155683ae19c65e1c03b4aa3499c5328201f1"
   }
  }
 },
 "nbformat": 4,
 "nbformat_minor": 2
}

{
 "cells": [
  {
   "cell_type": "markdown",
   "metadata": {},
   "source": [
    "![](https://i.imgur.com/h1fTZmw.png)"
   ]
  },
  {
   "cell_type": "code",
   "execution_count": null,
   "metadata": {},
   "outputs": [],
   "source": [
    "class TreeNode:\n",
    "    def __init__(self, val=0, left=None, right=None):\n",
    "        self.val = val\n",
    "        self.left = left\n",
    "        self.right = right       "
   ]
  },
  {
   "cell_type": "code",
   "execution_count": null,
   "metadata": {},
   "outputs": [],
   "source": [
    "from collections import deque\n",
    "from typing import List, Optional\n",
    "\n",
    "\n",
    "class Solution:\n",
    "    def zigzagLevelOrder(self, root: Optional[TreeNode]) -> List[List[int]]:\n",
    "        if not root:\n",
    "            return []\n",
    "\n",
    "        queue = deque([root]) # queue for BFS\n",
    "        result = [] # final result\n",
    "        level = 0 # current level \n",
    "        while queue: # while queue is not empty\n",
    "            level += 1 # increment level\n",
    "            level_size = len(queue) # number of nodes in current level\n",
    "            current_level = [] # list to store nodes of current level\n",
    "            for _ in range(level_size): # process every node of current level\n",
    "                current_node = queue.popleft() # remove node from queue\n",
    "                if level % 2 == 0: # if level is even add nodes in reverse order\n",
    "                    current_level.insert(0, current_node.val) # insert at beginning\n",
    "                else: # if level is odd add nodes in normal order\n",
    "                    current_level.append(current_node.val) # append at end\n",
    "                if current_node.left: # if left child is not None, add it to queue\n",
    "                    queue.append(current_node.left) \n",
    "                if current_node.right: # if right child is not None, add it to queue\n",
    "                    queue.append(current_node.right)\n",
    "            result.append(current_level) # append list of nodes of current level to result\n",
    "        return result\n",
    "      "
   ]
  }
 ],
 "metadata": {
  "language_info": {
   "name": "python"
  },
  "orig_nbformat": 4
 },
 "nbformat": 4,
 "nbformat_minor": 2
}

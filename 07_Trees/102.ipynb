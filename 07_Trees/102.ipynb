{
 "cells": [
  {
   "cell_type": "markdown",
   "metadata": {},
   "source": [
    "![](https://i.imgur.com/TVpeDAA.png)"
   ]
  },
  {
   "cell_type": "code",
   "execution_count": 3,
   "metadata": {},
   "outputs": [],
   "source": [
    "from typing import List, Tuple, Dict, Set, Optional\n",
    "import collections"
   ]
  },
  {
   "cell_type": "code",
   "execution_count": 2,
   "metadata": {},
   "outputs": [],
   "source": [
    "# Definition for a binary tree node.\n",
    "class TreeNode:\n",
    "    def __init__(self, val=0, left=None, right=None):\n",
    "        self.val = val\n",
    "        self.left = left\n",
    "        self.right = right"
   ]
  },
  {
   "cell_type": "code",
   "execution_count": 4,
   "metadata": {},
   "outputs": [],
   "source": [
    "class Solution:\n",
    "    def levelOrder(self, root: TreeNode) -> List[List[int]]:\n",
    "        res = []\n",
    "        q = collections.deque()\n",
    "        if root:\n",
    "            q.append(root)\n",
    "\n",
    "        while q:\n",
    "            val = []\n",
    "\n",
    "            for i in range(len(q)): # len(q) is changing and it rappresents the number of nodes in the current level\n",
    "                node = q.popleft() # pop the first node in the queue that rappresents the first node in the current level from left to right\n",
    "                val.append(node.val) # append the value of the node to the list of values of the current level\n",
    "                if node.left: # if the node has a left child, append it to the queue\n",
    "                    q.append(node.left) \n",
    "                if node.right: # if the node has a right child, append it to the queue\n",
    "                    q.append(node.right)\n",
    "            res.append(val) # append the list of values of the current level to the list of lists of values of the tree\n",
    "        return res"
   ]
  }
 ],
 "metadata": {
  "kernelspec": {
   "display_name": "Python 3.10.6 64-bit",
   "language": "python",
   "name": "python3"
  },
  "language_info": {
   "codemirror_mode": {
    "name": "ipython",
    "version": 3
   },
   "file_extension": ".py",
   "mimetype": "text/x-python",
   "name": "python",
   "nbconvert_exporter": "python",
   "pygments_lexer": "ipython3",
   "version": "3.10.6"
  },
  "orig_nbformat": 4,
  "vscode": {
   "interpreter": {
    "hash": "916dbcbb3f70747c44a77c7bcd40155683ae19c65e1c03b4aa3499c5328201f1"
   }
  }
 },
 "nbformat": 4,
 "nbformat_minor": 2
}

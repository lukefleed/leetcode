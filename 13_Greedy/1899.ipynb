{
 "cells": [
  {
   "cell_type": "markdown",
   "metadata": {},
   "source": [
    "![](https://i.imgur.com/1PVFjFx.png)"
   ]
  },
  {
   "cell_type": "code",
   "execution_count": null,
   "metadata": {},
   "outputs": [],
   "source": [
    "class Solution:\n",
    "    def mergeTriplets(self, triplets: List[List[int]], target: List[int]) -> bool:\n",
    "        good = set()\n",
    "\n",
    "        for t in triplets:\n",
    "            if t[0] > target[0] or t[1] > target[1] or t[2] > target[2]:\n",
    "                continue\n",
    "            for i, v in enumerate(t):\n",
    "                if v == target[i]:\n",
    "                    good.add(i)\n",
    "        return len(good) == 3"
   ]
  }
 ],
 "metadata": {
  "language_info": {
   "name": "python"
  },
  "orig_nbformat": 4
 },
 "nbformat": 4,
 "nbformat_minor": 2
}

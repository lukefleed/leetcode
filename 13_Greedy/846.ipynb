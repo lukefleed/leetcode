{
 "cells": [
  {
   "cell_type": "markdown",
   "metadata": {},
   "source": [
    "![](https://i.imgur.com/Fuk0yvw.png)"
   ]
  },
  {
   "cell_type": "code",
   "execution_count": null,
   "metadata": {},
   "outputs": [],
   "source": [
    "class Solution:\n",
    "    def isNStraightHand(self, hand: List[int], groupSize: int) -> bool:\n",
    "        if len(hand) % groupSize != 0:\n",
    "            return False\n",
    "        hand.sort() # O(log n)\n",
    "        while hand: # O(n)\n",
    "            start = hand[0] # start of the group \n",
    "            for i in range(groupSize): # O(k)\n",
    "                if start + i not in hand: # if the next number is not in the hand\n",
    "                    return False # then we can't make a group\n",
    "                hand.remove(start + i) # remove the number from the hand\n",
    "        return True # if we can make a group for all the numbers in the hand, then we can make groups for all the numbers    \n",
    "\n",
    "# Time Complexity: O(n log n + n * k)\n",
    "# Space Complexity: O(1)"
   ]
  },
  {
   "cell_type": "code",
   "execution_count": null,
   "metadata": {},
   "outputs": [],
   "source": [
    "class Solution:\n",
    "    def isNStraightHand(self, hand: List[int], groupSize: int) -> bool:\n",
    "        if len(hand) % groupSize:\n",
    "            return False\n",
    "\n",
    "        count = {} # hash table to store the count of each number\n",
    "        for n in hand:\n",
    "            count[n] = 1 + count.get(n, 0)\n",
    "\n",
    "        minH = list(count.keys()) # list of all the numbers in the hand\n",
    "        heapq.heapify(minH) # heapify the list\n",
    "        while minH:\n",
    "            first = minH[0] # get the smallest number in the hand\n",
    "            for i in range(first, first + groupSize): # check if we can make a group of size k starting from the smallest number\n",
    "                if i not in count: # if the next number is not in the hand\n",
    "                    return False\n",
    "                count[i] -= 1 # remove the number from the hand\n",
    "                if count[i] == 0: # if the number is not in the hand anymore\n",
    "                    if i != minH[0]: # if the number is not the smallest number in the hand\n",
    "                        return False # then we can't make a group\n",
    "                    heapq.heappop(minH) # remove the number from the hand\n",
    "        return True"
   ]
  }
 ],
 "metadata": {
  "language_info": {
   "name": "python"
  },
  "orig_nbformat": 4
 },
 "nbformat": 4,
 "nbformat_minor": 2
}

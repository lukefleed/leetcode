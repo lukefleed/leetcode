{
 "cells": [
  {
   "cell_type": "markdown",
   "metadata": {},
   "source": [
    "![](https://i.imgur.com/N61OkBx.png)"
   ]
  },
  {
   "cell_type": "code",
   "execution_count": null,
   "metadata": {},
   "outputs": [],
   "source": [
    "class Solution:\n",
    "    def lengthOfLongestSubstring(self, s: str) -> int:\n",
    "        charSet = set()\n",
    "        l = 0 # left pointer\n",
    "        res = 0\n",
    "\n",
    "        for r in range(len(s)):\n",
    "            while s[r] in charSet: # there is a duplicate\n",
    "                charSet.remove(s[l]) # remove the leftmost character\n",
    "                l += 1\n",
    "            charSet.add(s[r]) # add the rightmost character\n",
    "            res = max(res, r - l + 1)\n",
    "        return res\n",
    "\n",
    "# A set contains all the unique characters in the string, so we can use a set to store the characters in the current window.\n",
    "\n",
    "# We can use a left pointer to keep track of the leftmost character in the current window.\n",
    "# Time Complexity: O(n); Space Complexity: O(n)\n"
   ]
  }
 ],
 "metadata": {
  "kernelspec": {
   "display_name": "Python 3.10.5 64-bit",
   "language": "python",
   "name": "python3"
  },
  "language_info": {
   "name": "python",
   "version": "3.10.5"
  },
  "orig_nbformat": 4,
  "vscode": {
   "interpreter": {
    "hash": "e7370f93d1d0cde622a1f8e1c04877d8463912d04d973331ad4851f04de6915a"
   }
  }
 },
 "nbformat": 4,
 "nbformat_minor": 2
}

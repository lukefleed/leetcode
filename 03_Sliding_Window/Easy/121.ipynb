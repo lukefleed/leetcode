{
 "cells": [
  {
   "cell_type": "markdown",
   "metadata": {},
   "source": [
    "![](https://i.imgur.com/9b0fcVk.png)"
   ]
  },
  {
   "cell_type": "code",
   "execution_count": null,
   "metadata": {},
   "outputs": [],
   "source": [
    "from typing import List"
   ]
  },
  {
   "cell_type": "code",
   "execution_count": 1,
   "metadata": {},
   "outputs": [
    {
     "ename": "NameError",
     "evalue": "name 'List' is not defined",
     "output_type": "error",
     "traceback": [
      "\u001b[0;31m---------------------------------------------------------------------------\u001b[0m",
      "\u001b[0;31mNameError\u001b[0m                                 Traceback (most recent call last)",
      "\u001b[1;32m/home/luke/github/leetcode/03_Sliding_Window/121.ipynb Cella 3\u001b[0m in \u001b[0;36m<cell line: 1>\u001b[0;34m()\u001b[0m\n\u001b[0;32m----> <a href='vscode-notebook-cell:/home/luke/github/leetcode/03_Sliding_Window/121.ipynb#ch0000000?line=0'>1</a>\u001b[0m \u001b[39mclass\u001b[39;00m \u001b[39mSolution\u001b[39;00m:\n\u001b[1;32m      <a href='vscode-notebook-cell:/home/luke/github/leetcode/03_Sliding_Window/121.ipynb#ch0000000?line=1'>2</a>\u001b[0m     \u001b[39mdef\u001b[39;00m \u001b[39mmaxProfit\u001b[39m(\u001b[39mself\u001b[39m, prices: List[\u001b[39mint\u001b[39m]) \u001b[39m-\u001b[39m\u001b[39m>\u001b[39m \u001b[39mint\u001b[39m:\n\u001b[1;32m      <a href='vscode-notebook-cell:/home/luke/github/leetcode/03_Sliding_Window/121.ipynb#ch0000000?line=2'>3</a>\u001b[0m         \u001b[39mif\u001b[39;00m \u001b[39mnot\u001b[39;00m prices:\n",
      "\u001b[1;32m/home/luke/github/leetcode/03_Sliding_Window/121.ipynb Cella 3\u001b[0m in \u001b[0;36mSolution\u001b[0;34m()\u001b[0m\n\u001b[1;32m      <a href='vscode-notebook-cell:/home/luke/github/leetcode/03_Sliding_Window/121.ipynb#ch0000000?line=0'>1</a>\u001b[0m \u001b[39mclass\u001b[39;00m \u001b[39mSolution\u001b[39;00m:\n\u001b[0;32m----> <a href='vscode-notebook-cell:/home/luke/github/leetcode/03_Sliding_Window/121.ipynb#ch0000000?line=1'>2</a>\u001b[0m     \u001b[39mdef\u001b[39;00m \u001b[39mmaxProfit\u001b[39m(\u001b[39mself\u001b[39m, prices: List[\u001b[39mint\u001b[39m]) \u001b[39m-\u001b[39m\u001b[39m>\u001b[39m \u001b[39mint\u001b[39m:\n\u001b[1;32m      <a href='vscode-notebook-cell:/home/luke/github/leetcode/03_Sliding_Window/121.ipynb#ch0000000?line=2'>3</a>\u001b[0m         \u001b[39mif\u001b[39;00m \u001b[39mnot\u001b[39;00m prices:\n\u001b[1;32m      <a href='vscode-notebook-cell:/home/luke/github/leetcode/03_Sliding_Window/121.ipynb#ch0000000?line=3'>4</a>\u001b[0m             \u001b[39mreturn\u001b[39;00m \u001b[39m0\u001b[39m\n",
      "\u001b[0;31mNameError\u001b[0m: name 'List' is not defined"
     ]
    }
   ],
   "source": [
    "class Solution:\n",
    "    def maxProfit(self, prices: List[int]) -> int:\n",
    "        if not prices:\n",
    "            return 0\n",
    "\n",
    "        res = 0\n",
    "\n",
    "        l = 0\n",
    "        for r in range(l, len(prices)):\n",
    "            if prices[r] < prices[l]:\n",
    "                l = r\n",
    "            res = max(res, prices[r] - prices[l])\n",
    "        return res\n",
    "        "
   ]
  }
 ],
 "metadata": {
  "kernelspec": {
   "display_name": "Python 3.10.5 64-bit",
   "language": "python",
   "name": "python3"
  },
  "language_info": {
   "codemirror_mode": {
    "name": "ipython",
    "version": 3
   },
   "file_extension": ".py",
   "mimetype": "text/x-python",
   "name": "python",
   "nbconvert_exporter": "python",
   "pygments_lexer": "ipython3",
   "version": "3.10.5"
  },
  "orig_nbformat": 4,
  "vscode": {
   "interpreter": {
    "hash": "e7370f93d1d0cde622a1f8e1c04877d8463912d04d973331ad4851f04de6915a"
   }
  }
 },
 "nbformat": 4,
 "nbformat_minor": 2
}

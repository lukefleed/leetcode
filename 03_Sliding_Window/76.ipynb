{
 "cells": [
  {
   "cell_type": "markdown",
   "metadata": {},
   "source": [
    "![](https://i.imgur.com/pgzbXme.png)"
   ]
  },
  {
   "cell_type": "code",
   "execution_count": 1,
   "metadata": {},
   "outputs": [],
   "source": [
    "from collections import Counter"
   ]
  },
  {
   "cell_type": "code",
   "execution_count": 2,
   "metadata": {},
   "outputs": [],
   "source": [
    "class Solution:\n",
    "    def minWindow(self, s: str, t: str) -> str:\n",
    "        if t == \"\":\n",
    "            return \"\"\n",
    "\n",
    "        countT, window = {}, {} # countT: count of each char in t, window: count of each char in window\n",
    "\n",
    "        # init countT \n",
    "        for c in t:\n",
    "            countT[c] = 1 + countT.get(c, 0) # \n",
    "\n",
    "        have, need = 0, len(countT) # have: number of chars in window that are in t, need: number of chars in t\n",
    "        res, resLen = [-1, -1], float(\"infinity\") # res: start and end index of result, resLen: length of result\n",
    "        l = 0 # left pointer of window\n",
    "\n",
    "        for r in range(len(s)): \n",
    "            c = s[r]\n",
    "            window[c] = 1 + window.get(c, 0) # add c to window \n",
    "\n",
    "            if c in countT and window[c] == countT[c]: # if c is in t and c's count in window equals to c's count in t \n",
    "                have += 1 \n",
    "\n",
    "            while have == need: # if all chars in t are in window\n",
    "                # update our result\n",
    "                if (r - l + 1) < resLen: \n",
    "                    res = [l, r] \n",
    "                    resLen = r - l + 1\n",
    "                # pop from the left of our window\n",
    "                window[s[l]] -= 1\n",
    "                if s[l] in countT and window[s[l]] < countT[s[l]]:\n",
    "                    have -= 1\n",
    "                l += 1\n",
    "        l, r = res\n",
    "        return s[l : r + 1] if resLen != float(\"infinity\") else \"\""
   ]
  }
 ],
 "metadata": {
  "kernelspec": {
   "display_name": "Python 3.10.4 64-bit",
   "language": "python",
   "name": "python3"
  },
  "language_info": {
   "codemirror_mode": {
    "name": "ipython",
    "version": 3
   },
   "file_extension": ".py",
   "mimetype": "text/x-python",
   "name": "python",
   "nbconvert_exporter": "python",
   "pygments_lexer": "ipython3",
   "version": "3.10.6"
  },
  "orig_nbformat": 4,
  "vscode": {
   "interpreter": {
    "hash": "916dbcbb3f70747c44a77c7bcd40155683ae19c65e1c03b4aa3499c5328201f1"
   }
  }
 },
 "nbformat": 4,
 "nbformat_minor": 2
}

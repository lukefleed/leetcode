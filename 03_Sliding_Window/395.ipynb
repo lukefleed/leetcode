{
 "cells": [
  {
   "cell_type": "markdown",
   "metadata": {},
   "source": [
    "![](https://i.imgur.com/uIuiKSj.png)"
   ]
  },
  {
   "cell_type": "code",
   "execution_count": null,
   "metadata": {},
   "outputs": [],
   "source": [
    "from collections import Counter"
   ]
  },
  {
   "cell_type": "code",
   "execution_count": null,
   "metadata": {},
   "outputs": [],
   "source": [
    "class Solution:\n",
    "    def longestSubstring(self, s: str, k: int) -> int:\n",
    "        if len(s) < k:\n",
    "            return 0\n",
    "        if k <= 1:\n",
    "            return len(s)\n",
    "        counter = Counter(s)\n",
    "        for c in counter:\n",
    "            if counter[c] < k:\n",
    "                return max(self.longestSubstring(t, k) for t in s.split(c))\n",
    "        return len(s)\n",
    "        "
   ]
  }
 ],
 "metadata": {
  "language_info": {
   "name": "python"
  },
  "orig_nbformat": 4
 },
 "nbformat": 4,
 "nbformat_minor": 2
}

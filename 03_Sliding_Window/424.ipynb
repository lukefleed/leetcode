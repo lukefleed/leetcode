{
 "cells": [
  {
   "cell_type": "markdown",
   "metadata": {},
   "source": [
    "![](https://i.imgur.com/w5oCe9e.png)"
   ]
  },
  {
   "cell_type": "code",
   "execution_count": null,
   "metadata": {},
   "outputs": [],
   "source": [
    "class Solution:\n",
    "    def characterReplacement(self, s: str, k: int) -> int:\n",
    "        count = {} # {char: count} hashmap to store the count of each character\n",
    "        res = 0 # max length of the window\n",
    "\n",
    "        l = 0 # left pointer\n",
    "        for r in range(len(s)): # right pointer going through the string\n",
    "            count[s[r]] = 1 + count.get(s[r], 0) # increment the count of the current character\n",
    "\n",
    "            while (r - l + 1) - max(count.values()) > k: # if the number of replacement is greater than k\n",
    "                count[s[l]] -= 1 # decrement the count of the leftmost character\n",
    "                l += 1 # move the left pointer to the next character\n",
    "\n",
    "                res = max(res, r - l + 1) # update the max length of the window\n",
    "\n",
    "        return res\n",
    "\n",
    "# O(26n) time, that is basically linear time"
   ]
  },
  {
   "cell_type": "code",
   "execution_count": null,
   "metadata": {},
   "outputs": [],
   "source": [
    "class Solution:\n",
    "    def characterReplacement(self, s: str, k: int) -> int:\n",
    "        count = {} \n",
    "        res = 0 \n",
    "\n",
    "        l = 0 \n",
    "        for r in range(len(s)): \n",
    "            count[s[r]] = 1 + count.get(s[r], 0)\n",
    "            maxf = max(maxf, count[s[r]]) # update the max frequency of the current character\n",
    "\n",
    "            while (r - l + 1) - maxf > k: \n",
    "                count[s[l]] -= 1 \n",
    "                l += 1 \n",
    "                res = max(res, r - l + 1) \n",
    "\n",
    "        return res\n",
    " \n"
   ]
  }
 ],
 "metadata": {
  "kernelspec": {
   "display_name": "Python 3.10.4 64-bit",
   "language": "python",
   "name": "python3"
  },
  "language_info": {
   "name": "python",
   "version": "3.10.4"
  },
  "orig_nbformat": 4,
  "vscode": {
   "interpreter": {
    "hash": "916dbcbb3f70747c44a77c7bcd40155683ae19c65e1c03b4aa3499c5328201f1"
   }
  }
 },
 "nbformat": 4,
 "nbformat_minor": 2
}

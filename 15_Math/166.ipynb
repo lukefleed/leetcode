{
 "cells": [
  {
   "cell_type": "markdown",
   "metadata": {},
   "source": [
    "![](https://i.imgur.com/Jnb6MBB.png)"
   ]
  },
  {
   "cell_type": "code",
   "execution_count": 3,
   "metadata": {},
   "outputs": [],
   "source": [
    "def fractionToDecimal(self, numerator: int, denominator: int) -> str:\n",
    "    if numerator == 0:\n",
    "        return \"0\"\n",
    "    res = []\n",
    "    if numerator * denominator < 0: # if the result is negative\n",
    "        res.append(\"-\")\n",
    "    numerator = abs(numerator)\n",
    "    denominator = abs(denominator)\n",
    "    res.append(str(numerator // denominator))\n",
    "    remainder = numerator % denominator \n",
    "    if remainder == 0: # if the result is an integer\n",
    "        return \"\".join(res)\n",
    "    res.append(\".\") # if the result is a decimal\n",
    "    dic = {} # key: remainder, value: index\n",
    "    while remainder != 0: # if the result is a repeating decimal\n",
    "        if remainder in dic: # if the remainder is repeating\n",
    "            res.insert(dic[remainder], \"(\") # insert \"(\" at the index of the first remainder\n",
    "            res.append(\")\") # append \")\" at the end\n",
    "            break # break the loop\n",
    "        dic[remainder] = len(res) # add the remainder and its index to the dictionary\n",
    "        remainder *= 10 # multiply the remainder by 10 to get the next digit\n",
    "        res.append(str(remainder // denominator)) # append the next digit to the result\n",
    "        remainder %= denominator # get the new remainder for the next iteration\n",
    "    return \"\".join(res) \n",
    "    "
   ]
  }
 ],
 "metadata": {
  "kernelspec": {
   "display_name": "Python 3.10.6 64-bit",
   "language": "python",
   "name": "python3"
  },
  "language_info": {
   "codemirror_mode": {
    "name": "ipython",
    "version": 3
   },
   "file_extension": ".py",
   "mimetype": "text/x-python",
   "name": "python",
   "nbconvert_exporter": "python",
   "pygments_lexer": "ipython3",
   "version": "3.10.6"
  },
  "orig_nbformat": 4,
  "vscode": {
   "interpreter": {
    "hash": "916dbcbb3f70747c44a77c7bcd40155683ae19c65e1c03b4aa3499c5328201f1"
   }
  }
 },
 "nbformat": 4,
 "nbformat_minor": 2
}

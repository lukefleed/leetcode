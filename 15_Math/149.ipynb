{
 "cells": [
  {
   "cell_type": "markdown",
   "metadata": {},
   "source": [
    "![](https://i.imgur.com/n91xedW.png)"
   ]
  },
  {
   "cell_type": "code",
   "execution_count": null,
   "metadata": {},
   "outputs": [],
   "source": [
    "class Solution:\n",
    "    def maxPoints(self, points: List[List[int]]) -> int:\n",
    "        \n",
    "        # function to calculate the slope between two points\n",
    "        def slope(p1, p2):\n",
    "            if p1[0] == p2[0]:\n",
    "                return 'inf'\n",
    "            return (p1[1] - p2[1]) / (p1[0] - p2[0])\n",
    "\n",
    "        slopes = collections.defaultdict(int) # key: slope, value: count\n",
    "\n",
    "        max_count = 0 # max number of points on the same line\n",
    "        for i in range(len(points)): \n",
    "            slopes.clear() # clear the slopes dict for each point\n",
    "            same_points = 1 # number of points that are the same as the current point\n",
    "            for j in range(i+1, len(points)): # loop through the rest of the points, use i+1 to avoid duplicate\n",
    "                if points[i] == points[j]: # if the points are the same, increment same_points\n",
    "                    same_points += 1\n",
    "                else: # if the points are not the same, calculate the slope and increment the count\n",
    "                    s = slope(points[i], points[j])\n",
    "                    slopes[s] += 1\n",
    "            max_count = max(max_count, same_points + max(slopes.values(), default=0)) # update max_count as the max of the current max_count and the current point's same_points + the max number of points on the same line. If slopes is empty, use 0 as the default value for max() function\n",
    "\n",
    "        return max_count\n"
   ]
  }
 ],
 "metadata": {
  "kernelspec": {
   "display_name": "Python 3.10.6 64-bit",
   "language": "python",
   "name": "python3"
  },
  "language_info": {
   "name": "python",
   "version": "3.10.6"
  },
  "orig_nbformat": 4,
  "vscode": {
   "interpreter": {
    "hash": "916dbcbb3f70747c44a77c7bcd40155683ae19c65e1c03b4aa3499c5328201f1"
   }
  }
 },
 "nbformat": 4,
 "nbformat_minor": 2
}

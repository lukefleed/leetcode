{
 "cells": [
  {
   "cell_type": "markdown",
   "metadata": {},
   "source": [
    "![](https://i.imgur.com/4ADmiMN.png)"
   ]
  },
  {
   "cell_type": "code",
   "execution_count": null,
   "metadata": {},
   "outputs": [],
   "source": [
    "class Solution:\n",
    "    def strToInt(self, num: str) -> int:\n",
    "        multiplier = 1\n",
    "        ans = 0\n",
    "        for each in reversed(num):\n",
    "            ans += multiplier * (ord(each) - ord('0'))\n",
    "            multiplier *= 10\n",
    "\n",
    "        return ans\n",
    "\n",
    "    def multiply(self, num1: str, num2: str) -> str:\n",
    "        return str(self.strToInt(num1) * self.strToInt(num2))\n",
    "    \n",
    "    "
   ]
  }
 ],
 "metadata": {
  "language_info": {
   "name": "python"
  },
  "orig_nbformat": 4
 },
 "nbformat": 4,
 "nbformat_minor": 2
}

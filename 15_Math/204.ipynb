{
 "cells": [
  {
   "cell_type": "markdown",
   "metadata": {},
   "source": [
    "![](https://i.imgur.com/lUNTgSh.png)"
   ]
  },
  {
   "cell_type": "code",
   "execution_count": null,
   "metadata": {},
   "outputs": [],
   "source": [
    "class Solution:\n",
    "    def countPrimes(self, n: int) -> int:\n",
    "        \n",
    "        def is_prime(n: int) -> bool:\n",
    "            if n <= 3:\n",
    "                return n > 1\n",
    "            if not n%2 or not n%3:\n",
    "                return False\n",
    "            i = 5\n",
    "            stop = int(n**0.5)\n",
    "            while i <= stop:\n",
    "                if not n%i or not n%(i + 2):\n",
    "                    return False\n",
    "                i += 6\n",
    "            return True\n",
    "\n",
    "        count = 0\n",
    "        for i in range(2, n):\n",
    "            if is_prime(i):\n",
    "                count += 1\n",
    "        return count"
   ]
  }
 ],
 "metadata": {
  "kernelspec": {
   "display_name": "Python 3.10.6 64-bit",
   "language": "python",
   "name": "python3"
  },
  "language_info": {
   "codemirror_mode": {
    "name": "ipython",
    "version": 3
   },
   "file_extension": ".py",
   "mimetype": "text/x-python",
   "name": "python",
   "nbconvert_exporter": "python",
   "pygments_lexer": "ipython3",
   "version": "3.10.6"
  },
  "orig_nbformat": 4,
  "vscode": {
   "interpreter": {
    "hash": "916dbcbb3f70747c44a77c7bcd40155683ae19c65e1c03b4aa3499c5328201f1"
   }
  }
 },
 "nbformat": 4,
 "nbformat_minor": 2
}

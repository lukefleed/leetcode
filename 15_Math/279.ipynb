{
 "cells": [
  {
   "cell_type": "markdown",
   "metadata": {},
   "source": [
    "![](https://i.imgur.com/q1EHDIU.png)"
   ]
  },
  {
   "cell_type": "code",
   "execution_count": null,
   "metadata": {},
   "outputs": [],
   "source": [
    "# Dynamic Programming solution\n",
    "\n",
    "class Solution:\n",
    "    def numSquares(self, n):\n",
    "        squares = [i**2 for i in range(1, int(n**0.5)+1)]\n",
    "        d, q, nq = 1, {n}, set() # d: depth, q: queue, nq: next queue\n",
    "        while q: # while queue is not empty\n",
    "            for node in q: # for each node in the queue\n",
    "                for square in squares: \n",
    "                    if node == square: return d # found the solution\n",
    "                    if node < square: break # no need to continue\n",
    "                    nq.add(node-square) # add the next number to the next queue\n",
    "            q, nq, d = nq, set(), d+1 # update the queue, next queue, and depth"
   ]
  },
  {
   "cell_type": "code",
   "execution_count": null,
   "metadata": {},
   "outputs": [],
   "source": [
    "# BFS solution\n",
    "\n",
    "import collections\n",
    "\n",
    "class Solution:\n",
    "    def numSquares(self, n: int) -> int:\n",
    "\n",
    "        # 1. create a queue\n",
    "        queue = collections.deque() # double-ended queue (deque) \n",
    "        queue.append((n, 0)) # (number, level)\n",
    "\n",
    "        # 2. create a visited set\n",
    "        visited = set() # to avoid duplicate \n",
    "\n",
    "        # 3. BFS\n",
    "        while queue:\n",
    "            num, step = queue.popleft() # pop the leftmost element\n",
    "            for i in range(1, int(num ** 0.5) + 1): \n",
    "                a = num - i * i # the next number \n",
    "                if a == 0: # found the solution\n",
    "                    return step + 1 # return the level\n",
    "                if a not in visited: # avoid duplicate\n",
    "                    queue.append((a, step + 1)) # add the next number to the queue\n",
    "                    visited.add(a) # add the next number to the visited set\n",
    "\n",
    "        return step"
   ]
  },
  {
   "cell_type": "code",
   "execution_count": null,
   "metadata": {},
   "outputs": [],
   "source": [
    "# Math Nerd Solution: Lagrange's Four Square theorem\n",
    "\n",
    "class Solution:\n",
    "    def numSquares(self, n: int) -> int:\n",
    "\n",
    "        # 1. check if n is a perfect square\n",
    "        if int(n ** 0.5) ** 2 == n:\n",
    "            return 1\n",
    "\n",
    "        # 2. check if n can be written in the form of 4^k*(8*m + 7)\n",
    "        while n % 4 == 0:\n",
    "            n /= 4\n",
    "        if n % 8 == 7:\n",
    "            return 4\n",
    "\n",
    "        # 3. check if n can be written in the form of a + b^2\n",
    "        for i in range(1, int(n ** 0.5) + 1):\n",
    "            if int((n - i * i) ** 0.5) ** 2 == n - i * i:\n",
    "                return 2\n",
    "\n",
    "        return 3"
   ]
  }
 ],
 "metadata": {
  "kernelspec": {
   "display_name": "Python 3.10.6 64-bit",
   "language": "python",
   "name": "python3"
  },
  "language_info": {
   "codemirror_mode": {
    "name": "ipython",
    "version": 3
   },
   "file_extension": ".py",
   "mimetype": "text/x-python",
   "name": "python",
   "nbconvert_exporter": "python",
   "pygments_lexer": "ipython3",
   "version": "3.10.6"
  },
  "orig_nbformat": 4,
  "vscode": {
   "interpreter": {
    "hash": "916dbcbb3f70747c44a77c7bcd40155683ae19c65e1c03b4aa3499c5328201f1"
   }
  }
 },
 "nbformat": 4,
 "nbformat_minor": 2
}

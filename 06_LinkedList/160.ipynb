{
 "cells": [
  {
   "cell_type": "markdown",
   "metadata": {},
   "source": [
    "![](https://i.imgur.com/FTq3RrN.png)"
   ]
  },
  {
   "cell_type": "code",
   "execution_count": null,
   "metadata": {},
   "outputs": [],
   "source": [
    "# Definition for singly-linked list.\n",
    "class ListNode:\n",
    "    def __init__(self, x):\n",
    "        self.val = x\n",
    "        self.next = None"
   ]
  },
  {
   "cell_type": "code",
   "execution_count": null,
   "metadata": {},
   "outputs": [],
   "source": [
    "class Solution:\n",
    "    def getIntersectionNode(self, headA: ListNode, headB: ListNode) -> Optional[ListNode]:\n",
    "\n",
    "        if not headA or not headB:\n",
    "            return None\n",
    "\n",
    "        # create two pointers and set them to the head of each list\n",
    "        pA = headA \n",
    "        pB = headB\n",
    "\n",
    "        # traverse both lists until we reach the end of both \n",
    "        while pA != pB: # if they are not equal, we have not reached the end of both lists\n",
    "            pA = pA.next if pA else headB # if pA is not None, move to the next node, else set it to the head of list B\n",
    "            pB = pB.next if pB else headA # if pB is not None, move to the next node, else set it to the head of list A\n",
    "\n",
    "        return pA\n",
    "        "
   ]
  }
 ],
 "metadata": {
  "kernelspec": {
   "display_name": "Python 3.10.6 64-bit",
   "language": "python",
   "name": "python3"
  },
  "language_info": {
   "name": "python",
   "version": "3.10.6"
  },
  "orig_nbformat": 4,
  "vscode": {
   "interpreter": {
    "hash": "916dbcbb3f70747c44a77c7bcd40155683ae19c65e1c03b4aa3499c5328201f1"
   }
  }
 },
 "nbformat": 4,
 "nbformat_minor": 2
}

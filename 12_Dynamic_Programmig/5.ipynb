{
 "cells": [
  {
   "cell_type": "markdown",
   "metadata": {},
   "source": [
    "![](https://i.imgur.com/varoHkj.png)"
   ]
  },
  {
   "cell_type": "code",
   "execution_count": 1,
   "metadata": {},
   "outputs": [],
   "source": [
    "class Solution:\n",
    "    def longestPalindrome(self, s: str) -> str:\n",
    "        res = \"\"\n",
    "        resLen = 0\n",
    "\n",
    "        for i in range(len(s)):\n",
    "            # odd case, like \"aba\"\n",
    "            l, r = i, i # center position\n",
    "            while l >= 0 and r < len(s) and s[l] == s[r]:\n",
    "                if (r-l+1) > resLen:\n",
    "                    res = s[l : r+1]\n",
    "                    resLen = r-l+1\n",
    "                l -= 1\n",
    "                r += 1\n",
    "\n",
    "            # even lenght\n",
    "            l, r = i, i+1 # center position\n",
    "            while l >= 0 and r < len(s) and s[l] == s[r]:\n",
    "                if (r - l +1) > resLen:\n",
    "                    res = s[l : r+1]\n",
    "                    resLen = r - l + 1\n",
    "                l-= 1\n",
    "                l+= 1\n",
    "\n",
    "        return res\n",
    "\n",
    "        "
   ]
  }
 ],
 "metadata": {
  "kernelspec": {
   "display_name": "Python 3.10.6 64-bit",
   "language": "python",
   "name": "python3"
  },
  "language_info": {
   "codemirror_mode": {
    "name": "ipython",
    "version": 3
   },
   "file_extension": ".py",
   "mimetype": "text/x-python",
   "name": "python",
   "nbconvert_exporter": "python",
   "pygments_lexer": "ipython3",
   "version": "3.10.6"
  },
  "orig_nbformat": 4,
  "vscode": {
   "interpreter": {
    "hash": "e7370f93d1d0cde622a1f8e1c04877d8463912d04d973331ad4851f04de6915a"
   }
  }
 },
 "nbformat": 4,
 "nbformat_minor": 2
}

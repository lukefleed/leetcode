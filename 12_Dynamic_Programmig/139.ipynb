{
 "cells": [
  {
   "cell_type": "markdown",
   "metadata": {},
   "source": [
    "![](https://i.imgur.com/2oiqdUM.png)"
   ]
  },
  {
   "cell_type": "code",
   "execution_count": null,
   "metadata": {},
   "outputs": [],
   "source": [
    "class Solution:\n",
    "    def wordBreak(self, s: str, wordDict: List[str]) -> bool:\n",
    "        \n",
    "        dp = [False] * (len(s) + 1) # cache\n",
    "        dp[len(s)] = True \n",
    "\n",
    "        for i in range(len(s) -1, -1, -1): # from right to left\n",
    "            for w in wordDict: # check all words\n",
    "                if (i+len(w)) <= len(s) and s[i:i+len(w)] == w: # if match \n",
    "                    dp[i] = dp[i+len(w)] # update cache\n",
    "                if dp[i]: # if match, break\n",
    "                    break \n",
    "        return dp[0]"
   ]
  }
 ],
 "metadata": {
  "language_info": {
   "name": "python"
  },
  "orig_nbformat": 4
 },
 "nbformat": 4,
 "nbformat_minor": 2
}

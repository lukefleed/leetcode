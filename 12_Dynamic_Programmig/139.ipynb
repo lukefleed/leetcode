{
 "cells": [
  {
   "cell_type": "markdown",
   "metadata": {},
   "source": [
    "![](https://i.imgur.com/2oiqdUM.png)"
   ]
  },
  {
   "cell_type": "code",
   "execution_count": null,
   "metadata": {},
   "outputs": [],
   "source": [
    "class Solution:\n",
    "    def wordBreak(self, s: str, wordDict: List[str]) -> bool:\n",
    "        \n",
    "        dp = [False] * (len(s) + 1) # cache\n",
    "        dp[len(s)] = True\n",
    "\n",
    "        for i in range(len(s) -1, -1, -1): \n",
    "            for w in wordDict:\n",
    "                if (i+len(w)) <= len(s) and s[i:i+len(w)] == w:\n",
    "                    dp[i] = dp[i+len(w)]\n",
    "                if dp[i]:\n",
    "                    break\n",
    "        return dp[0]"
   ]
  }
 ],
 "metadata": {
  "language_info": {
   "name": "python"
  },
  "orig_nbformat": 4
 },
 "nbformat": 4,
 "nbformat_minor": 2
}

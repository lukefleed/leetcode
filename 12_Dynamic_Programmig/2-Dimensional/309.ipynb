{
 "cells": [
  {
   "cell_type": "markdown",
   "metadata": {},
   "source": [
    "![](https://i.imgur.com/nwhI4cH.png)"
   ]
  },
  {
   "cell_type": "code",
   "execution_count": null,
   "metadata": {},
   "outputs": [],
   "source": [
    "class Solution:\n",
    "    def maxProfit(self, prices: List[int]) -> int:\n",
    "        # State: buying or selling?\n",
    "        # If Buy -> i + 1\n",
    "        # If Sell -> i+2 \n",
    "\n",
    "        dp = {} # key = (i, buying: bool), val = max_profit\n",
    "\n",
    "        def dfs(i, buying):\n",
    "            # base case: if index goes out of bounds\n",
    "            if i > len(prices):\n",
    "                return 0\n",
    "            # base case 2: this pair of values has already computed\n",
    "            if (i, buying) in dp:\n",
    "                return dp[(i, buying)]\n",
    "\n",
    "            # Now we can divide the code in two with an if else statement: if we are buying or if we are selling\n",
    "\n",
    "            cooldown = dfs(i+1, buying) # max profit, stay in the same state\n",
    "            if buying:\n",
    "                # in this state we can buy or cool down\n",
    "                buy = dfs(i + 1, not buying) - prices[i] # max profit, change the state to selling\n",
    "                dp[(i, buying)] = max(buy, cooldown) # cache the result\n",
    "            else: \n",
    "                # in this state we can sell or cool down\n",
    "                sell = dfs(i+2, not buying) + prices[i] # we have to wait 2 days to sell, change the state to buying\n",
    "                dp[(i, buying)] = max(sell, cooldown) # cache the result\n",
    "\n",
    "            return dp[(i, buying)]\n",
    "\n",
    "        return dfs(0, True)"
   ]
  }
 ],
 "metadata": {
  "kernelspec": {
   "display_name": "Python 3.10.6 64-bit",
   "language": "python",
   "name": "python3"
  },
  "language_info": {
   "name": "python",
   "version": "3.10.6"
  },
  "orig_nbformat": 4,
  "vscode": {
   "interpreter": {
    "hash": "916dbcbb3f70747c44a77c7bcd40155683ae19c65e1c03b4aa3499c5328201f1"
   }
  }
 },
 "nbformat": 4,
 "nbformat_minor": 2
}

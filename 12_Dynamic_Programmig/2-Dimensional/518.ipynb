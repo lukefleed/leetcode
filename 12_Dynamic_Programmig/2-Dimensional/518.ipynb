{
 "cells": [
  {
   "cell_type": "markdown",
   "metadata": {},
   "source": [
    "![](https://i.imgur.com/YU7eqFZ.png)"
   ]
  },
  {
   "cell_type": "code",
   "execution_count": null,
   "metadata": {},
   "outputs": [],
   "source": [
    "class Solution:\n",
    "    def change(self, amount: int, coins: List[int]) -> int:\n",
    "        dp = [0] * (amount + 1) # dp[i] = number of ways to make change for amount i\n",
    "        dp[0] = 1\n",
    "        for i in range(len(coins)-1, -1, -1):\n",
    "            nextDP = [0]*(amount+1) # nextDP[i] = number of ways to make change for amount i using coins[:i] \n",
    "            nextDP[0] = 1 # 1 way to make change for amount 0\n",
    "\n",
    "            for a in range(1, amount+1):\n",
    "                nextDP[a] =  dp[a] # \n",
    "                if a - coins[i] >= 0: # if we can use coin i\n",
    "                    nextDP[a] += nextDP[a - coins[i]] # add the number of ways to make change for amount a - coins[i] using coins[:i]\n",
    "            dp = nextDP\n",
    "        return dp[amount]"
   ]
  }
 ],
 "metadata": {
  "kernelspec": {
   "display_name": "Python 3.10.6 64-bit",
   "language": "python",
   "name": "python3"
  },
  "language_info": {
   "codemirror_mode": {
    "name": "ipython",
    "version": 3
   },
   "file_extension": ".py",
   "mimetype": "text/x-python",
   "name": "python",
   "nbconvert_exporter": "python",
   "pygments_lexer": "ipython3",
   "version": "3.10.6"
  },
  "orig_nbformat": 4,
  "vscode": {
   "interpreter": {
    "hash": "916dbcbb3f70747c44a77c7bcd40155683ae19c65e1c03b4aa3499c5328201f1"
   }
  }
 },
 "nbformat": 4,
 "nbformat_minor": 2
}

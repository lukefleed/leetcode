{
 "cells": [
  {
   "cell_type": "markdown",
   "metadata": {},
   "source": [
    "![](https://i.imgur.com/Qu6QwW6.png)"
   ]
  },
  {
   "cell_type": "code",
   "execution_count": null,
   "metadata": {},
   "outputs": [],
   "source": [
    "class Solution:\n",
    "    def longestCommonSubsequence(self, text1: str, text2: str) -> int:\n",
    "        # bottom-up dynamic programming approach\n",
    "        dp = [[0 for j in range(len(text2) + 1)] for i in range(len(text1) +1)]\n",
    "        # we just created a 2D grid of length len(text1)+1 x len(text2) + 1 and initializing it to all zeros\n",
    "        \n",
    "        # now i start to loop from the bottom right of the grid\n",
    "        for i in range(len(text1) -1,  -1, -1): \n",
    "            for j in range(len(text2) -1,  -1, -1): \n",
    "                if text1[i] == text2[j]:\n",
    "                    dp[i][j] = 1 + dp[i+1][j+1] # 1 + the diagonal\n",
    "                else:\n",
    "                    dp[i][j] = max(dp[i][j+1], dp[i+1][j]) # we are going up or right\n",
    "        # the result is at the top left of the matrix\n",
    "        return dp[0][0]\n",
    "\n",
    "# Time and memory complexity are O(n*m)       "
   ]
  }
 ],
 "metadata": {
  "language_info": {
   "name": "python"
  },
  "orig_nbformat": 4
 },
 "nbformat": 4,
 "nbformat_minor": 2
}

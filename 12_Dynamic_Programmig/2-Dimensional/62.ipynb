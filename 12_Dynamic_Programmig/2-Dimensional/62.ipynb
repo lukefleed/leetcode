{
 "cells": [
  {
   "cell_type": "markdown",
   "metadata": {},
   "source": [
    "![](https://i.imgur.com/2LqacQD.png)"
   ]
  },
  {
   "cell_type": "code",
   "execution_count": null,
   "metadata": {},
   "outputs": [],
   "source": [
    "class Solution:\n",
    "    def uniquePaths(self, m: int, n: int) -> int:\n",
    "        row = [1] * n # the bottom row\n",
    "        for i in range(m-1): # from the second bottom row\n",
    "            newRow = [1]*n \n",
    "            for j in range(n-2, -1, -1): \n",
    "                # avoid going out of index \n",
    "                newRow[j] = newRow[j+1] + row[j] # right + down\n",
    "            row = newRow\n",
    "        return row[0]\n",
    "\n",
    "            "
   ]
  }
 ],
 "metadata": {
  "language_info": {
   "name": "python"
  },
  "orig_nbformat": 4
 },
 "nbformat": 4,
 "nbformat_minor": 2
}

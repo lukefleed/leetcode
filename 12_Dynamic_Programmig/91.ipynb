{
 "cells": [
  {
   "cell_type": "markdown",
   "metadata": {},
   "source": [
    "![](https://i.imgur.com/grvzyGa.png)"
   ]
  },
  {
   "cell_type": "code",
   "execution_count": null,
   "metadata": {},
   "outputs": [],
   "source": [
    "class Solution:\n",
    "    def numDecodings(self, s: str) -> int:\n",
    "        # Memoization\n",
    "        dp = {len(s): 1}\n",
    "\n",
    "        def dfs(i):\n",
    "            if i in dp:\n",
    "                return dp[i]\n",
    "            if s[i] == \"0\":\n",
    "                return 0\n",
    "\n",
    "            res = dfs(i + 1)\n",
    "            if i + 1 < len(s) and (\n",
    "                s[i] == \"1\" or s[i] == \"2\" and s[i + 1] in \"0123456\"\n",
    "            ):\n",
    "                res += dfs(i + 2)\n",
    "            dp[i] = res\n",
    "            return res\n",
    "\n",
    "        return dfs(0)\n",
    "\n",
    "        # # Dynamic Programming\n",
    "        # dp = {len(s): 1}\n",
    "        # for i in range(len(s) - 1, -1, -1):\n",
    "        #     if s[i] == \"0\":\n",
    "        #         dp[i] = 0\n",
    "        #     else:\n",
    "        #         dp[i] = dp[i + 1]\n",
    "\n",
    "        #     if i + 1 < len(s) and (\n",
    "        #         s[i] == \"1\" or s[i] == \"2\" and s[i + 1] in \"0123456\"\n",
    "        #     ):\n",
    "        #         dp[i] += dp[i + 2]\n",
    "        # return dp[0]"
   ]
  }
 ],
 "metadata": {
  "kernelspec": {
   "display_name": "Python 3.10.6 64-bit",
   "language": "python",
   "name": "python3"
  },
  "language_info": {
   "name": "python",
   "version": "3.10.6"
  },
  "orig_nbformat": 4,
  "vscode": {
   "interpreter": {
    "hash": "e7370f93d1d0cde622a1f8e1c04877d8463912d04d973331ad4851f04de6915a"
   }
  }
 },
 "nbformat": 4,
 "nbformat_minor": 2
}

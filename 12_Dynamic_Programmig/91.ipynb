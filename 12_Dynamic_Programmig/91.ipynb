{
 "cells": [
  {
   "cell_type": "markdown",
   "metadata": {},
   "source": [
    "![](https://i.imgur.com/grvzyGa.png)"
   ]
  },
  {
   "cell_type": "code",
   "execution_count": null,
   "metadata": {},
   "outputs": [],
   "source": [
    "# Memoization. O(n) in time and space\n",
    "\n",
    "class Solution1:\n",
    "    def numDecodings(self, s: str) -> int:\n",
    "        # Memoization. O(n) in time and space\n",
    "        dp = {len(s): 1} # cache, map every thing to one\n",
    "\n",
    "        def dfs(i): \n",
    "            if i in dp: # base case: already been cached or is at the end of the string\n",
    "                return dp[i]\n",
    "            if s[i] == \"0\": # bad base case: if it's not at the end and it starts with 0, we're done\n",
    "                return 0\n",
    "\n",
    "            # sub problem:\n",
    "            res = dfs(i + 1) \n",
    "            # what if we can take i+2, for example if I have 12, i can take \"1\" and \"2\", or \"12\"\n",
    "            if i + 1 < len(s) and (\n",
    "                s[i] == \"1\" or s[i] == \"2\" and s[i + 1] in \"0123456\" # remember that there 26 char, so if there is a 2, we can't go further then 26\n",
    "            ):\n",
    "                res += dfs(i + 2)\n",
    "            dp[i] = res\n",
    "            return res\n",
    "\n",
    "        return dfs(0) # this means: how many ways we can decode the string starting from index 0"
   ]
  },
  {
   "cell_type": "code",
   "execution_count": null,
   "metadata": {},
   "outputs": [],
   "source": [
    "# Dynamic Programming\n",
    "class Solution2:\n",
    "    def numDecodings(self, s: str) -> int:\n",
    "        # bottom up approach\n",
    "        dp = {len(s): 1}\n",
    "        for i in range(len(s) - 1, -1, -1): # bottom up approach\n",
    "            if s[i] == \"0\": # base case\n",
    "                dp[i] = 0\n",
    "            else:\n",
    "                dp[i] = dp[i + 1] \n",
    "\n",
    "            if i + 1 < len(s) and (\n",
    "                s[i] == \"1\" or s[i] == \"2\" and s[i + 1] in \"0123456\"\n",
    "            ):\n",
    "                dp[i] += dp[i + 2]\n",
    "        return dp[0]"
   ]
  }
 ],
 "metadata": {
  "kernelspec": {
   "display_name": "Python 3.10.6 64-bit",
   "language": "python",
   "name": "python3"
  },
  "language_info": {
   "name": "python",
   "version": "3.10.6"
  },
  "orig_nbformat": 4,
  "vscode": {
   "interpreter": {
    "hash": "916dbcbb3f70747c44a77c7bcd40155683ae19c65e1c03b4aa3499c5328201f1"
   }
  }
 },
 "nbformat": 4,
 "nbformat_minor": 2
}

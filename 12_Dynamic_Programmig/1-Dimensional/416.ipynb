{
 "cells": [
  {
   "cell_type": "markdown",
   "metadata": {},
   "source": [
    "![](https://i.imgur.com/Ihmp0ZF.png)"
   ]
  },
  {
   "cell_type": "code",
   "execution_count": null,
   "metadata": {},
   "outputs": [],
   "source": [
    "class Solution:\n",
    "    def canPartition(self, nums: List[int]) -> bool:\n",
    "        # O(n*sum) time and O(sum) space\n",
    "        if sum(nums) % 2 != 0:\n",
    "            return False # odd sum cannot be partitioned\n",
    "\n",
    "        dp = set()\n",
    "        dp.add(0) # base case, we can always sum up to zero\n",
    "        target = sum(nums) // 2\n",
    "\n",
    "        for i in range(len(nums) -1, -1 , -1)):\n",
    "            nextdp = set() # nextdp is the dp for the next iteration. We cannot update an object we are iterating over. I could have copied the set but that would be O(n)\n",
    "            for t in dp: # go through all the possible sums that are already in the dp\n",
    "                nextdp.add(t+nums[i]) # add the current number to the sum\n",
    "                nextdp.add(t) # I don't want to loose the values of the old dp\n",
    "            dp = nextdp # update the dp\n",
    "            if target in dp: # if we can sum up to the target, we are done\n",
    "                return True\n",
    "        return False"
   ]
  }
 ],
 "metadata": {
  "language_info": {
   "name": "python"
  },
  "orig_nbformat": 4
 },
 "nbformat": 4,
 "nbformat_minor": 2
}

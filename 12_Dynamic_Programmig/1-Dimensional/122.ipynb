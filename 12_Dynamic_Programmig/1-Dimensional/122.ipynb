{
 "cells": [
  {
   "cell_type": "markdown",
   "metadata": {},
   "source": [
    "![](https://i.imgur.com/pxLg2Tf.png)"
   ]
  },
  {
   "cell_type": "code",
   "execution_count": null,
   "metadata": {},
   "outputs": [],
   "source": [
    "# dynamic programming approach\n",
    "\n",
    "class Solution:\n",
    "    def maxProfit(self, prices: List[int]) -> int:\n",
    "\n",
    "        # base case\n",
    "        if len(prices) == 0:\n",
    "            return 0\n",
    "\n",
    "        # initialize the dp array\n",
    "        dp = [0] * len(prices) # dp[i] represents the max profit at day i\n",
    "\n",
    "        # fill the dp array\n",
    "        for i in range(1, len(prices)): # we are choosing the minimum price from the left of the current index\n",
    "            dp[i] = max(dp[i - 1], dp[i - 1] + prices[i] - prices[i - 1]) # dp[i - 1] + prices[i] - prices[i - 1] is the profit if we sell the stock on day i\n",
    "\n",
    "        return dp[-1]\n",
    "\n",
    "# O(n) time complexity, O(n) space complexity"
   ]
  },
  {
   "cell_type": "code",
   "execution_count": null,
   "metadata": {},
   "outputs": [],
   "source": [
    "# way more elegant solution (and faster)\n",
    "\n",
    "class Solution:\n",
    "    def maxProfit(self, prices: List[int]) -> int:\n",
    "        return sum(max(prices[i + 1] - prices[i], 0) for i in range(len(prices) - 1))\n",
    "\n",
    "# O(n) time complexity, O(1) space complexity"
   ]
  }
 ],
 "metadata": {
  "language_info": {
   "name": "python"
  },
  "orig_nbformat": 4
 },
 "nbformat": 4,
 "nbformat_minor": 2
}

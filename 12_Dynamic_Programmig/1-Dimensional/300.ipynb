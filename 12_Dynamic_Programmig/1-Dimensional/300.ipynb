{
 "cells": [
  {
   "cell_type": "markdown",
   "metadata": {},
   "source": [
    "![](https://i.imgur.com/9mF7Qbv.png)"
   ]
  },
  {
   "cell_type": "code",
   "execution_count": null,
   "metadata": {},
   "outputs": [],
   "source": [
    "class Solution:\n",
    "    def lengthOfLIS(self, nums: List[int]) -> int:\n",
    "        LIS = [1] * len(nums)\n",
    "\n",
    "        for i in range(len(nums) - 1, -1, -1): # loop from the end\n",
    "            for j in range(i + 1, len(nums)): # loop from i + 1 to the end\n",
    "                if nums[i] < nums[j]: \n",
    "                    LIS[i] = max(LIS[i], 1 + LIS[j]) # update LIS[i] if needed\n",
    "        return max(LIS)"
   ]
  },
  {
   "cell_type": "code",
   "execution_count": null,
   "metadata": {},
   "outputs": [],
   "source": [
    "# greedy, with binary search\n",
    "from bisect import bisect_left\n",
    "\n",
    "class Solution:  \n",
    "    def lengthOfLIS(self, nums: List[int]) -> int:\n",
    "        sub = []\n",
    "        for x in nums:\n",
    "            if len(sub) == 0 or sub[-1] < x:\n",
    "                sub.append(x)\n",
    "            else:\n",
    "                idx = bisect_left(sub, x)  # Find the index of the smallest number >= x\n",
    "                sub[idx] = x  # Replace that number with x\n",
    "        return len(sub)"
   ]
  }
 ],
 "metadata": {
  "kernelspec": {
   "display_name": "Python 3.10.6 64-bit",
   "language": "python",
   "name": "python3"
  },
  "language_info": {
   "name": "python",
   "version": "3.10.6"
  },
  "orig_nbformat": 4,
  "vscode": {
   "interpreter": {
    "hash": "916dbcbb3f70747c44a77c7bcd40155683ae19c65e1c03b4aa3499c5328201f1"
   }
  }
 },
 "nbformat": 4,
 "nbformat_minor": 2
}

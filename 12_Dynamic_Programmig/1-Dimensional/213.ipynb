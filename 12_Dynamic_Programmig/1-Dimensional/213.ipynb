{
 "cells": [
  {
   "cell_type": "markdown",
   "metadata": {},
   "source": [
    "![](https://i.imgur.com/k2EMoWp.png)"
   ]
  },
  {
   "cell_type": "code",
   "execution_count": null,
   "metadata": {},
   "outputs": [],
   "source": [
    "class Solution:\n",
    "    def rob(self, nums: List[int]) -> int:\n",
    "        return max(nums[0], self.helper(nums[1:]), self.helper(nums[:-1]))\n",
    "        # I compute the max of the first element, the max of the array without the first element, and the max of the array without the last element. I do also the max of the first element because if the array has only one element, I have to return it.\n",
    "\n",
    "    def helper(self, nums):\n",
    "        rob1, rob2 = 0, 0\n",
    "\n",
    "        for n in nums:\n",
    "            newRob = max(rob1 + n, rob2)\n",
    "            rob1 = rob2\n",
    "            rob2 = newRob\n",
    "        return rob2"
   ]
  }
 ],
 "metadata": {
  "kernelspec": {
   "display_name": "Python 3.10.6 64-bit",
   "language": "python",
   "name": "python3"
  },
  "language_info": {
   "name": "python",
   "version": "3.10.6"
  },
  "orig_nbformat": 4,
  "vscode": {
   "interpreter": {
    "hash": "916dbcbb3f70747c44a77c7bcd40155683ae19c65e1c03b4aa3499c5328201f1"
   }
  }
 },
 "nbformat": 4,
 "nbformat_minor": 2
}

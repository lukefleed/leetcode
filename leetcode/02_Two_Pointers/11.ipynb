{
 "cells": [
  {
   "cell_type": "markdown",
   "metadata": {},
   "source": [
    "![](https://i.imgur.com/Nh6IJnj.png)"
   ]
  },
  {
   "cell_type": "code",
   "execution_count": 1,
   "metadata": {},
   "outputs": [],
   "source": [
    "from typing import List"
   ]
  },
  {
   "cell_type": "code",
   "execution_count": null,
   "metadata": {},
   "outputs": [],
   "source": [
    "class Solution:\n",
    "    def maxArea(self, height: List[int]) -> int:\n",
    "        # initialize the left and right pointer\n",
    "        left, right = 0, len(height) - 1\n",
    "        # initialize the maximum area\n",
    "        max_area = 0\n",
    "        # loop until left pointer meets right pointer\n",
    "        while left < right:\n",
    "            # update the maximum area\n",
    "            max_area = max(max_area, min(height[left], height[right]) * (right - left)) \n",
    "            # move the left pointer to right if left pointer is shorter than right pointer\n",
    "            if height[left] < height[right]:\n",
    "                left += 1\n",
    "            # otherwise, move the right pointer to left\n",
    "            else:\n",
    "                right -= 1\n",
    "        return max_area\n"
   ]
  }
 ],
 "metadata": {
  "kernelspec": {
   "display_name": "Python 3.10.5 64-bit",
   "language": "python",
   "name": "python3"
  },
  "language_info": {
   "codemirror_mode": {
    "name": "ipython",
    "version": 3
   },
   "file_extension": ".py",
   "mimetype": "text/x-python",
   "name": "python",
   "nbconvert_exporter": "python",
   "pygments_lexer": "ipython3",
   "version": "3.10.5"
  },
  "orig_nbformat": 4,
  "vscode": {
   "interpreter": {
    "hash": "e7370f93d1d0cde622a1f8e1c04877d8463912d04d973331ad4851f04de6915a"
   }
  }
 },
 "nbformat": 4,
 "nbformat_minor": 2
}

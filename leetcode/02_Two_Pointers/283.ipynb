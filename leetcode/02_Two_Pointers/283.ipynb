{
 "cells": [
  {
   "cell_type": "markdown",
   "metadata": {},
   "source": [
    "![](https://i.imgur.com/qfOIsc4.png)"
   ]
  },
  {
   "cell_type": "code",
   "execution_count": null,
   "metadata": {},
   "outputs": [],
   "source": [
    "class Solution:\n",
    "    def moveZeroes(self, nums: List[int]) -> None:\n",
    "        \"\"\"\n",
    "        Do not return anything, modify nums in-place instead.\n",
    "        \"\"\"\n",
    "    \n",
    "        n = len(nums)\n",
    "        left, right = 0, 0\n",
    "\n",
    "        while right < n: # right pointer is always ahead of left pointer\n",
    "            if nums[right] != 0: # if right pointer is not zero, swap with left pointer\n",
    "                nums[left], nums[right] = nums[right], nums[left] # swap\n",
    "                left += 1 # move left pointer to the right \n",
    "            right += 1 # move right pointer to the right regardless of the value \n",
    "\n",
    "        \n",
    "        return nums\n",
    "\n"
   ]
  }
 ],
 "metadata": {
  "kernelspec": {
   "display_name": "Python 3.10.6 64-bit",
   "language": "python",
   "name": "python3"
  },
  "language_info": {
   "name": "python",
   "version": "3.10.6"
  },
  "orig_nbformat": 4,
  "vscode": {
   "interpreter": {
    "hash": "916dbcbb3f70747c44a77c7bcd40155683ae19c65e1c03b4aa3499c5328201f1"
   }
  }
 },
 "nbformat": 4,
 "nbformat_minor": 2
}

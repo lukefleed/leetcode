{
 "cells": [
  {
   "cell_type": "markdown",
   "metadata": {},
   "source": [
    "![](https://i.imgur.com/11L3EsH.png)"
   ]
  },
  {
   "cell_type": "code",
   "execution_count": null,
   "metadata": {},
   "outputs": [],
   "source": [
    "# I am basically using a decision tree with backtracking to solve this problem\n",
    "\n",
    "class Solution:\n",
    "    def subsets(self, nums: List[int]) -> List[List[int]]:\n",
    "        # we now for sure that the length of the list is 2**n\n",
    "        res = []\n",
    "        subset = []\n",
    "\n",
    "        def dfs(i): # idex of the value we are making a decision on\n",
    "            if i >= len(nums): # we have reached the end of the list\n",
    "                res.append(subset.copy)\n",
    "                return \n",
    "            # include nums[i]\n",
    "            subset.append(nums[i]) # left branch\n",
    "            dfs(i+1) \n",
    "            # exclude nums[i]\n",
    "            subset.pop() # right branch\n",
    "            dfs(i+1)\n",
    "        dfs(0)\n",
    "        return res"
   ]
  }
 ],
 "metadata": {
  "kernelspec": {
   "display_name": "Python 3.10.6 64-bit",
   "language": "python",
   "name": "python3"
  },
  "language_info": {
   "codemirror_mode": {
    "name": "ipython",
    "version": 3
   },
   "file_extension": ".py",
   "mimetype": "text/x-python",
   "name": "python",
   "nbconvert_exporter": "python",
   "pygments_lexer": "ipython3",
   "version": "3.10.6"
  },
  "orig_nbformat": 4,
  "vscode": {
   "interpreter": {
    "hash": "916dbcbb3f70747c44a77c7bcd40155683ae19c65e1c03b4aa3499c5328201f1"
   }
  }
 },
 "nbformat": 4,
 "nbformat_minor": 2
}

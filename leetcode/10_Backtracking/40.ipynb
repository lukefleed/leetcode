{
 "cells": [
  {
   "cell_type": "markdown",
   "metadata": {},
   "source": [
    "![](https://i.imgur.com/G8NrdZK.png)"
   ]
  },
  {
   "cell_type": "code",
   "execution_count": null,
   "metadata": {},
   "outputs": [],
   "source": [
    "class Solution:\n",
    "    def combinationSum2(self, candidates: List[int], target: int) -> List[List[int]]:\n",
    "\n",
    "        candidates.sort()\n",
    "        res = []\n",
    "\n",
    "        def backtrack(candidates, target, path):\n",
    "            if target == 0:\n",
    "                res.append(path)\n",
    "                return \n",
    "            if target < 0:\n",
    "                return\n",
    "\n",
    "            for i in range(len(candidates)): #\n",
    "                if i > 0 and candidates[i] == candidates[i-1]: # skip duplicates\n",
    "                    continue \n",
    "                backtrack(candidates[i+1:], target-candidates[i], path+[candidates[i]]) # candidates[i+1:] to avoid duplicates\n",
    "\n",
    "        backtrack(candidates, target, [])\n",
    "        return res\n",
    "\n",
    "        "
   ]
  }
 ],
 "metadata": {
  "kernelspec": {
   "display_name": "Python 3.10.6 64-bit",
   "language": "python",
   "name": "python3"
  },
  "language_info": {
   "name": "python",
   "version": "3.10.6"
  },
  "orig_nbformat": 4,
  "vscode": {
   "interpreter": {
    "hash": "916dbcbb3f70747c44a77c7bcd40155683ae19c65e1c03b4aa3499c5328201f1"
   }
  }
 },
 "nbformat": 4,
 "nbformat_minor": 2
}

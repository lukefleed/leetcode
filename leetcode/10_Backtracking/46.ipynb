{
 "cells": [
  {
   "cell_type": "markdown",
   "metadata": {},
   "source": [
    "![](https://i.imgur.com/sRzj35w.png)"
   ]
  },
  {
   "cell_type": "code",
   "execution_count": null,
   "metadata": {},
   "outputs": [],
   "source": [
    "class Solution:\n",
    "    def permute(self, nums: List[int]) -> List[List[int]]:\n",
    "        # we know that there will be n! permutations\n",
    "        res = []\n",
    "\n",
    "        # base case\n",
    "        if len(nums) == 1:\n",
    "            return [nums[:]] # return a copy of the list\n",
    "\n",
    "        for i in range(len(nums)):\n",
    "            n = nums.pop(0) # remove the first element\n",
    "            perms = self.permute(nums) # get all permutations of the rest of the list\n",
    "\n",
    "            for perm in perms: \n",
    "                perm.append(n) # add the removed element to the end of each permutation\n",
    "            res.extend(perms) # add all permutations to the result\n",
    "            nums.append(n) # add the removed element back to the end of the list\n",
    "        return res"
   ]
  },
  {
   "cell_type": "code",
   "execution_count": null,
   "metadata": {},
   "outputs": [],
   "source": [
    "class Solution:\n",
    "    def permute(self, nums: List[int]) -> List[List[int]]:\n",
    "        res = []\n",
    "        self.dfs(nums, [], res)\n",
    "        return res\n",
    "\n",
    "    def dfs(self, nums, path, res):\n",
    "        if not nums:\n",
    "            res.append(path)\n",
    "            return\n",
    "\n",
    "        for i in range(len(nums)):\n",
    "            self.dfs(nums[:i] + nums[i+1:], path + [nums[i]], res)"
   ]
  }
 ],
 "metadata": {
  "kernelspec": {
   "display_name": "Python 3.10.6 64-bit",
   "language": "python",
   "name": "python3"
  },
  "language_info": {
   "name": "python",
   "version": "3.10.6"
  },
  "orig_nbformat": 4,
  "vscode": {
   "interpreter": {
    "hash": "916dbcbb3f70747c44a77c7bcd40155683ae19c65e1c03b4aa3499c5328201f1"
   }
  }
 },
 "nbformat": 4,
 "nbformat_minor": 2
}

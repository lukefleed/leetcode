{
 "cells": [
  {
   "cell_type": "markdown",
   "metadata": {},
   "source": [
    "![](https://i.imgur.com/dVvlxwa.png)"
   ]
  },
  {
   "cell_type": "code",
   "execution_count": null,
   "metadata": {},
   "outputs": [],
   "source": [
    "class Solution:\n",
    "    def partition(self, s: str) -> List[List[str]]:\n",
    "        # we can use a backtracking algorithm to solve this problem\n",
    "        res = [] # to store the partitions\n",
    "        part = [] # to store the current partition\n",
    "\n",
    "\n",
    "\n",
    "        def dfs(i): # i is the index of the current character\n",
    "            if i >= len(s): # if we have reached the end of the string, we have found a partition\n",
    "                res.append(part[:]) # we need to make a copy of the current partition\n",
    "                return\n",
    "            \n",
    "            # otherwise, we need to find all the possible partitions\n",
    "            for j in range(i, len(s)): # we can have a partition of length 1, 2, 3, ..., len(s) - i\n",
    "                if self.isPali(s, i ,j):\n",
    "                    part.append(s[i:j+1]) # get rid of the error of not including the last character with j+1\n",
    "                    dfs(j+1) # looking for the next partition\n",
    "                    part.pop() # clean up the current partition\n",
    "                \n",
    "            \n",
    "        dfs(0)\n",
    "        return res\n",
    "        \n",
    "    def isPali(self, s , l ,r):\n",
    "        while l < r:\n",
    "            if s[l] != s[r]:\n",
    "                return False\n",
    "            l += 1\n",
    "            r -= 1\n",
    "        return True"
   ]
  }
 ],
 "metadata": {
  "language_info": {
   "name": "python"
  },
  "orig_nbformat": 4
 },
 "nbformat": 4,
 "nbformat_minor": 2
}

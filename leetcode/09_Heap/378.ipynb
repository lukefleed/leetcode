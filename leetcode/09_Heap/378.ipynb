{
 "cells": [
  {
   "cell_type": "markdown",
   "metadata": {},
   "source": [
    "![](https://i.imgur.com/UO4QUMJ.png)"
   ]
  },
  {
   "cell_type": "code",
   "execution_count": null,
   "metadata": {},
   "outputs": [],
   "source": [
    "class Solution:  \n",
    "    def kthSmallest(self, matrix: List[List[int]], k: int) -> int:\n",
    "        m, n = len(matrix), len(matrix[0])  # For general, the matrix need not be a square\n",
    "        minHeap = []  # val, r, c\n",
    "        for r in range(min(k, m)):\n",
    "            heappush(minHeap, (matrix[r][0], r, 0))\n",
    "\n",
    "        ans = -1  # any dummy value\n",
    "        for i in range(k):\n",
    "            ans, r, c = heappop(minHeap)\n",
    "            if c+1 < n: heappush(minHeap, (matrix[r][c + 1], r, c + 1))\n",
    "        return ans"
   ]
  }
 ],
 "metadata": {
  "kernelspec": {
   "display_name": "Python 3.10.6 64-bit",
   "language": "python",
   "name": "python3"
  },
  "language_info": {
   "codemirror_mode": {
    "name": "ipython",
    "version": 3
   },
   "file_extension": ".py",
   "mimetype": "text/x-python",
   "name": "python",
   "nbconvert_exporter": "python",
   "pygments_lexer": "ipython3",
   "version": "3.10.6"
  },
  "orig_nbformat": 4,
  "vscode": {
   "interpreter": {
    "hash": "916dbcbb3f70747c44a77c7bcd40155683ae19c65e1c03b4aa3499c5328201f1"
   }
  }
 },
 "nbformat": 4,
 "nbformat_minor": 2
}

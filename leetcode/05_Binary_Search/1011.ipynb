{
 "cells": [
  {
   "cell_type": "markdown",
   "metadata": {},
   "source": [
    "![](https://i.imgur.com/iGBj6t2.png)"
   ]
  },
  {
   "cell_type": "code",
   "execution_count": null,
   "metadata": {},
   "outputs": [],
   "source": [
    "class Solution:\n",
    "    def shipWithinDays(self, weights: List[int], days: int) -> int:\n",
    "        \n",
    "        def check(capacity): # check if we can ship all weights in days, return True if we can\n",
    "            day = 1 # current day\n",
    "            cur = 0 # current weight\n",
    "            for w in weights: \n",
    "                if cur + w > capacity: # if we can't ship all weights in days, return False\n",
    "                    day += 1 # move to next day\n",
    "                    cur = 0 # reset current weight\n",
    "                cur += w # add current weight\n",
    "            return day <= days # return True if we can ship all weights in days\n",
    "        \n",
    "        left, right = max(weights), sum(weights) # left is the max weight, right is the sum of all weights\n",
    "        while left < right: # binary search to find the min capacity\n",
    "            mid = left + (right - left) // 2 # mid is the current capacity\n",
    "            if check(mid): # if we can ship all weights in days, move right to mid\n",
    "                right = mid \n",
    "            else: # if we can't ship all weights in days, move left to mid + 1\n",
    "                left = mid + 1 \n",
    "        return left # return left or right, they are the same\n",
    "\n",
    "        # Time Complexity: O(nlogn) where n is the length of weights\n",
    "        # Space Complexity: O(1)"
   ]
  }
 ],
 "metadata": {
  "language_info": {
   "name": "python"
  },
  "orig_nbformat": 4
 },
 "nbformat": 4,
 "nbformat_minor": 2
}

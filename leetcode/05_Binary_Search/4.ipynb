{
 "cells": [
  {
   "cell_type": "markdown",
   "metadata": {},
   "source": [
    "![](https://i.imgur.com/InabylU.png)"
   ]
  },
  {
   "cell_type": "code",
   "execution_count": 1,
   "metadata": {},
   "outputs": [],
   "source": [
    "from typing import List"
   ]
  },
  {
   "cell_type": "code",
   "execution_count": 2,
   "metadata": {},
   "outputs": [
    {
     "name": "stdout",
     "output_type": "stream",
     "text": [
      "2\n"
     ]
    }
   ],
   "source": [
    "class Solution:\n",
    "    def findMedianSortedArrays(self, nums1: List[int], nums2: List[int]) -> float:\n",
    "        # merge two sorted arrays\n",
    "        nums = []\n",
    "        i = j = 0\n",
    "        while i < len(nums1) and j < len(nums2):\n",
    "            if nums1[i] < nums2[j]:\n",
    "                nums.append(nums1[i])\n",
    "                i += 1\n",
    "            else:\n",
    "                nums.append(nums2[j])\n",
    "                j += 1\n",
    "        if i < len(nums1):\n",
    "            nums.extend(nums1[i:])\n",
    "        if j < len(nums2):\n",
    "            nums.extend(nums2[j:])\n",
    "        # find median\n",
    "        if len(nums) % 2 == 0:\n",
    "            return (nums[len(nums)//2-1] + nums[len(nums)//2]) / 2\n",
    "        else:\n",
    "            return nums[len(nums)//2]\n",
    "\n"
   ]
  }
 ],
 "metadata": {
  "kernelspec": {
   "display_name": "Python 3.10.4 64-bit",
   "language": "python",
   "name": "python3"
  },
  "language_info": {
   "codemirror_mode": {
    "name": "ipython",
    "version": 3
   },
   "file_extension": ".py",
   "mimetype": "text/x-python",
   "name": "python",
   "nbconvert_exporter": "python",
   "pygments_lexer": "ipython3",
   "version": "3.10.4"
  },
  "orig_nbformat": 4,
  "vscode": {
   "interpreter": {
    "hash": "916dbcbb3f70747c44a77c7bcd40155683ae19c65e1c03b4aa3499c5328201f1"
   }
  }
 },
 "nbformat": 4,
 "nbformat_minor": 2
}

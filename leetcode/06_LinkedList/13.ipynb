{
 "cells": [
  {
   "cell_type": "markdown",
   "metadata": {},
   "source": [
    "![](https://i.imgur.com/EWaRVGL.png)"
   ]
  },
  {
   "cell_type": "code",
   "execution_count": null,
   "metadata": {},
   "outputs": [],
   "source": [
    "# Definition for a Node.\n",
    "class Node:\n",
    "    def __init__(self, x: int, next: 'Node' = None, random: 'Node' = None):\n",
    "        self.val = int(x)\n",
    "        self.next = next\n",
    "        self.random = random"
   ]
  },
  {
   "cell_type": "code",
   "execution_count": null,
   "metadata": {},
   "outputs": [],
   "source": [
    "from typing import Optional\n",
    "\n",
    "class Solution:\n",
    "    def copyRandomList(self, head: 'Optional[Node]') -> 'Optional[Node]':\n",
    "        if not head:\n",
    "            return None\n",
    "        # 1. copy nodes\n",
    "\n",
    "        cur = head\n",
    "        while cur:\n",
    "            next = cur.next # save next\n",
    "            cur.next = Node(cur.val) # copy\n",
    "            cur.next.next = next # link\n",
    "            cur = next # move\n",
    "            \n",
    "        # 2. copy random\n",
    "        cur = head \n",
    "        while cur: # cur.next is not None\n",
    "            if cur.random: # cur.random is not None\n",
    "                cur.next.random = cur.random.next # copy\n",
    "            cur = cur.next.next # move\n",
    "\n",
    "        # 3. split\n",
    "        cur = head \n",
    "        new_head = head.next # new head\n",
    "        while cur: # cur.next is not None\n",
    "            new_cur = cur.next # new cur\n",
    "            cur.next = new_cur.next # link\n",
    "            if new_cur.next: # new_cur.next is not None\n",
    "                new_cur.next = new_cur.next.next # link\n",
    "            cur = cur.next # move \n",
    "        return new_head # return new head\n",
    "\n",
    "# I just         \n",
    "        "
   ]
  }
 ],
 "metadata": {
  "language_info": {
   "name": "python"
  },
  "orig_nbformat": 4
 },
 "nbformat": 4,
 "nbformat_minor": 2
}

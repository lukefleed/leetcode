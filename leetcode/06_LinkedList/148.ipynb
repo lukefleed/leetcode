{
 "cells": [
  {
   "cell_type": "markdown",
   "metadata": {},
   "source": [
    "![](https://i.imgur.com/JIla2lV.png)"
   ]
  },
  {
   "cell_type": "code",
   "execution_count": null,
   "metadata": {},
   "outputs": [],
   "source": [
    "# Definition for singly-linked list.\n",
    "class ListNode:\n",
    "    def __init__(self, val=0, next=None):\n",
    "        self.val = val\n",
    "        self.next = next"
   ]
  },
  {
   "cell_type": "code",
   "execution_count": null,
   "metadata": {},
   "outputs": [],
   "source": [
    "from typing import Optional\n",
    "\n",
    "class Solution:\n",
    "\n",
    "    def mergeTwoLists(self, l1: Optional[ListNode], l2: Optional[ListNode]) -> Optional[ListNode]:\n",
    "        if not l1 or not l2:\n",
    "            return l1 or l2\n",
    "\n",
    "        head = ListNode(0) # dummy head\n",
    "        cur = head # current node\n",
    "\n",
    "        while l1 and l2: # while both lists are not empty\n",
    "            if l1.val < l2.val: \n",
    "                cur.next = l1 # append l1 to the end of the merged list\n",
    "                l1 = l1.next # move l1 to the next node\n",
    "            else: \n",
    "                cur.next = l2 # append l2 to the end of the merged list\n",
    "                l2 = l2.next # move l2 to the next node\n",
    "            cur = cur.next # move cur to the next node\n",
    "\n",
    "        cur.next = l1 or l2 # append the remaining nodes to the end of the merged list\n",
    "        return head.next # return the merged list\n",
    "\n",
    "    def sortList(self, head: Optional[ListNode]) -> Optional[ListNode]:\n",
    "        if not head or not head.next:\n",
    "            return head\n",
    "        # find the middle node\n",
    "        slow = fast = head # slow and fast pointers\n",
    "        while fast.next and fast.next.next: # while fast is not at the end of the list\n",
    "            slow = slow.next # move slow to the next node\n",
    "            fast = fast.next.next # move fast to the next next node \n",
    "        # cut the list into two halves\n",
    "        fast = slow # fast pointer is at the middle node\n",
    "        slow = slow.next # slow pointer is at the next node\n",
    "        fast.next = None # cut the list into two halves\n",
    "        # sort each half\n",
    "        left = self.sortList(head) # sort the left half \n",
    "        right = self.sortList(slow) # sort the right half \n",
    "        # merge the two halves\n",
    "        return self.mergeTwoLists(left, right) "
   ]
  }
 ],
 "metadata": {
  "language_info": {
   "name": "python"
  },
  "orig_nbformat": 4
 },
 "nbformat": 4,
 "nbformat_minor": 2
}

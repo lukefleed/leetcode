{
 "cells": [
  {
   "cell_type": "markdown",
   "metadata": {},
   "source": [
    "![](https://i.imgur.com/fxkVkGp.png)"
   ]
  },
  {
   "cell_type": "code",
   "execution_count": null,
   "metadata": {},
   "outputs": [],
   "source": [
    "# Definition for singly-linked list.\n",
    "class ListNode:\n",
    "    def __init__(self, val=0, next=None):\n",
    "        self.val = val\n",
    "        self.next = next"
   ]
  },
  {
   "cell_type": "code",
   "execution_count": null,
   "metadata": {},
   "outputs": [],
   "source": [
    "from typing import Optional\n",
    "\n",
    "class Solution:\n",
    "    def isPalindrome(self, head: Optional[ListNode]) -> bool:\n",
    "        # 1. Find the middle node\n",
    "        slow = fast = head # slow: 1 step, fast: 2 steps\n",
    "        while fast and fast.next: \n",
    "            slow = slow.next \n",
    "            fast = fast.next.next\n",
    "\n",
    "        # 2. Reverse the second half\n",
    "        prev = None \n",
    "        while slow:\n",
    "            slow.next, prev, slow = prev, slow, slow.next\n",
    "\n",
    "        # 3. Compare the first and second half\n",
    "        while prev:\n",
    "            if prev.val != head.val:\n",
    "                return False\n",
    "            prev = prev.next\n",
    "            head = head.next\n",
    "\n",
    "        return True\n",
    "\n",
    "        "
   ]
  }
 ],
 "metadata": {
  "kernelspec": {
   "display_name": "Python 3.10.6 64-bit",
   "language": "python",
   "name": "python3"
  },
  "language_info": {
   "name": "python",
   "version": "3.10.6"
  },
  "orig_nbformat": 4,
  "vscode": {
   "interpreter": {
    "hash": "916dbcbb3f70747c44a77c7bcd40155683ae19c65e1c03b4aa3499c5328201f1"
   }
  }
 },
 "nbformat": 4,
 "nbformat_minor": 2
}

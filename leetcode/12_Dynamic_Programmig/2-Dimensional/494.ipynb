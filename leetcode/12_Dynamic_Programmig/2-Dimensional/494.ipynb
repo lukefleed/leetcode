{
 "cells": [
  {
   "cell_type": "markdown",
   "metadata": {},
   "source": [
    "![](https://i.imgur.com/0H5cE64.png)"
   ]
  },
  {
   "cell_type": "code",
   "execution_count": null,
   "metadata": {},
   "outputs": [],
   "source": [
    "class Solution:\n",
    "    def findTargetSumWays(self, nums: List[int], target: int) -> int:\n",
    "        dp = {} # cache, hashmap of (index, total) --> # of ways\n",
    "\n",
    "        # recursive function\n",
    "        def backtrack(index, total):\n",
    "            # base case\n",
    "            if index == len(nums):\n",
    "                if total == target:\n",
    "                    return 1\n",
    "                else:\n",
    "                    return 0\n",
    "            # check cache\n",
    "            if (index, total) in dp: \n",
    "                return dp[(index, total)] # return cached value\n",
    "\n",
    "            # recursive case: add or subtract current number \n",
    "            dp[(index, total)] = (backtrack(index+1, total+nums[index]) + \n",
    "                                 backtrack(index+1, total-nums[index]))\n",
    "            return dp[(index, total)]\n",
    "\n",
    "        return backtrack(0, 0)"
   ]
  }
 ],
 "metadata": {
  "language_info": {
   "name": "python"
  },
  "orig_nbformat": 4
 },
 "nbformat": 4,
 "nbformat_minor": 2
}

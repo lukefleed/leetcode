{
 "cells": [
  {
   "cell_type": "markdown",
   "metadata": {},
   "source": [
    "![](https://i.imgur.com/varoHkj.png)"
   ]
  },
  {
   "cell_type": "code",
   "execution_count": 1,
   "metadata": {},
   "outputs": [],
   "source": [
    "class Solution:\n",
    "    def longestPalindrome(self, s: str) -> str:\n",
    "        res = \"\"\n",
    "        resLen = 0\n",
    "\n",
    "        for i in range(len(s)):\n",
    "            # odd case\n",
    "            l, r = i, i # start from the center\n",
    "            while l >= 0 and r < len(s) and s[l] == s[r]:\n",
    "                # where are starting from a point, and expanding left and right. In the while loop I am checking if I am in bounds and if it is still a palindrome\n",
    "                if (r - l + 1) > resLen: # we have a new longest palindrome\n",
    "                    res = s[l:r+1]\n",
    "                    resLen = r - l +1\n",
    "                # don't forget to expand our pointers outwards\n",
    "                l -= 1\n",
    "                r += 1\n",
    "\n",
    "                # even case, same as before but with the different r\n",
    "                l, r = i, i+1\n",
    "                while l >= 0 and r<len(s) and s[l] == s[r]:\n",
    "                    if (r - l + 1) > resLen:\n",
    "                        res = s[l:r+1]\n",
    "                        resLen = r - l +1 \n",
    "                    l -= 1\n",
    "                    r += 1\n",
    "\n",
    "        return res"
   ]
  },
  {
   "cell_type": "code",
   "execution_count": null,
   "metadata": {},
   "outputs": [],
   "source": [
    "class Solution:\n",
    "    def longestPalindrome(self, s: str) -> str:\n",
    "        res = \"\"\n",
    "        resLen = 0\n",
    "\n",
    "        for i in range(len(s)):\n",
    "            # odd length\n",
    "            l, r = i, i # start from the center\n",
    "            while l >= 0 and r < len(s) and s[l] == s[r]: # while we are in bounds and we have a palindrome\n",
    "                if (r - l + 1) > resLen: # we have a new longest palindrome \n",
    "                    res = s[l : r + 1]\n",
    "                    resLen = r - l + 1\n",
    "                l -= 1\n",
    "                r += 1\n",
    "\n",
    "            # even length, same as before but with the different r\n",
    "            l, r = i, i + 1 \n",
    "            while l >= 0 and r < len(s) and s[l] == s[r]:\n",
    "                if (r - l + 1) > resLen:\n",
    "                    res = s[l : r + 1]\n",
    "                    resLen = r - l + 1\n",
    "                l -= 1\n",
    "                r += 1\n",
    "\n",
    "        return res"
   ]
  }
 ],
 "metadata": {
  "kernelspec": {
   "display_name": "Python 3.10.6 64-bit",
   "language": "python",
   "name": "python3"
  },
  "language_info": {
   "codemirror_mode": {
    "name": "ipython",
    "version": 3
   },
   "file_extension": ".py",
   "mimetype": "text/x-python",
   "name": "python",
   "nbconvert_exporter": "python",
   "pygments_lexer": "ipython3",
   "version": "3.10.6"
  },
  "orig_nbformat": 4,
  "vscode": {
   "interpreter": {
    "hash": "916dbcbb3f70747c44a77c7bcd40155683ae19c65e1c03b4aa3499c5328201f1"
   }
  }
 },
 "nbformat": 4,
 "nbformat_minor": 2
}

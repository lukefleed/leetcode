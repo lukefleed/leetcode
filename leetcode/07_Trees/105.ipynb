{
 "cells": [
  {
   "cell_type": "markdown",
   "metadata": {},
   "source": [
    "![](https://i.imgur.com/wjsmoyQ.png)"
   ]
  },
  {
   "cell_type": "code",
   "execution_count": 1,
   "metadata": {},
   "outputs": [],
   "source": [
    "# Definition for a binary tree node.\n",
    "class TreeNode:\n",
    "    def __init__(self, val=0, left=None, right=None):\n",
    "        self.val = val\n",
    "        self.left = left\n",
    "        self.right = right"
   ]
  },
  {
   "cell_type": "code",
   "execution_count": null,
   "metadata": {},
   "outputs": [],
   "source": [
    "class Solution:\n",
    "    def buildTree(self, preorder: List[int], inorder: List[int]) -> Optional[TreeNode]:\n",
    "        if not preorder or not inorder:\n",
    "            return None\n",
    "\n",
    "        root = TreeNode(preorder[0]) # the first element in preorder is the root\n",
    "        i = inorder.index(preorder[0]) # find the root in inorder\n",
    "\n",
    "        root.left = self.buildTree(preorder[1:i+1], inorder[:i]) # build left subtree recursively using the left part of inorder\n",
    "        root.right = self.buildTree(preorder[i+1:], inorder[i+1:]) # build right subtree recursively using the right part of inorder\n",
    "        return root"
   ]
  }
 ],
 "metadata": {
  "kernelspec": {
   "display_name": "Python 3.10.6 64-bit",
   "language": "python",
   "name": "python3"
  },
  "language_info": {
   "codemirror_mode": {
    "name": "ipython",
    "version": 3
   },
   "file_extension": ".py",
   "mimetype": "text/x-python",
   "name": "python",
   "nbconvert_exporter": "python",
   "pygments_lexer": "ipython3",
   "version": "3.10.6"
  },
  "orig_nbformat": 4,
  "vscode": {
   "interpreter": {
    "hash": "916dbcbb3f70747c44a77c7bcd40155683ae19c65e1c03b4aa3499c5328201f1"
   }
  }
 },
 "nbformat": 4,
 "nbformat_minor": 2
}

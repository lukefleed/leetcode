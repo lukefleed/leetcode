{
 "cells": [
  {
   "cell_type": "markdown",
   "metadata": {},
   "source": [
    "![](https://i.imgur.com/502sWz1.png)"
   ]
  },
  {
   "cell_type": "code",
   "execution_count": null,
   "metadata": {},
   "outputs": [],
   "source": [
    "# Definition for a binary tree node.\n",
    "class TreeNode:\n",
    "    def __init__(self, val=0, left=None, right=None):\n",
    "        self.val = val\n",
    "        self.left = left\n",
    "        self.right = right"
   ]
  },
  {
   "cell_type": "code",
   "execution_count": null,
   "metadata": {},
   "outputs": [],
   "source": [
    "from typing import Optional\n",
    "\n",
    "# elegant solution with recursion\n",
    "class Solution:\n",
    "    def isSymmetric(self, root: Optional[TreeNode]) -> bool: # isSymmetric checks if the tree is symmetric\n",
    "        if not root:\n",
    "            return True\n",
    "        return self.isMirror(root.left, root.right)\n",
    "\n",
    "    def isMirror(self, left: Optional[TreeNode], right: Optional[TreeNode]) -> bool: # isMirror checks if the left and right subtrees are mirrors of each other\n",
    "        if not left and not right: # if both are None\n",
    "            return True\n",
    "        if not left or not right: # if one is None and the other is not\n",
    "            return False\n",
    "        return left.val == right.val and self.isMirror(left.left, right.right) and self.isMirror(left.right, right.left) # check if the values are equal and the left subtree of the left tree is a mirror of the right subtree of the right tree and the right subtree of the left tree is a mirror of the left subtree of the right tree (symmetric)"
   ]
  },
  {
   "cell_type": "code",
   "execution_count": null,
   "metadata": {},
   "outputs": [],
   "source": [
    "# now with a queue\n",
    "from collections import deque\n",
    "\n",
    "class Solution:\n",
    "    def isSymmetric(self, root: Optional[TreeNode]) -> bool: # isSymmetric checks if the tree is symmetric, iteratively\n",
    "        if not root:\n",
    "            return True\n",
    "        queue = deque()\n",
    "        queue.append(root.left)\n",
    "        queue.append(root.right)\n",
    "        while queue:\n",
    "            left = queue.popleft()\n",
    "            right = queue.popleft()\n",
    "            if not left and not right: # if both are None\n",
    "                continue\n",
    "            if not left or not right: # if one is None and the other is not\n",
    "                return False\n",
    "            if left.val != right.val: # if the values are not equal\n",
    "                return False\n",
    "            queue.append(left.left)\n",
    "            queue.append(right.right)\n",
    "            queue.append(left.right)\n",
    "            queue.append(right.left)\n",
    "        return True"
   ]
  },
  {
   "cell_type": "code",
   "execution_count": null,
   "metadata": {},
   "outputs": [],
   "source": [
    "# now with a stack\n",
    "class Solution:\n",
    "    def isSymmetric(self, root: Optional[TreeNode]) -> bool: # isSymmetric checks if the tree is symmetric, iteratively\n",
    "        if not root:\n",
    "            return True\n",
    "        stack = []\n",
    "        stack.append(root.left)\n",
    "        stack.append(root.right)\n",
    "        while stack:\n",
    "            right = stack.pop()\n",
    "            left = stack.pop()\n",
    "            if not left and not right: # if both are None\n",
    "                continue\n",
    "            if not left or not right: # if one is None and the other is not\n",
    "                return False\n",
    "            if left.val != right.val: # if the values are not equal\n",
    "                return False\n",
    "            stack.append(left.left)\n",
    "            stack.append(right.right)\n",
    "            stack.append(left.right)\n",
    "            stack.append(right.left)\n",
    "        return True"
   ]
  }
 ],
 "metadata": {
  "kernelspec": {
   "display_name": "Python 3.10.6 64-bit",
   "language": "python",
   "name": "python3"
  },
  "language_info": {
   "name": "python",
   "version": "3.10.6"
  },
  "orig_nbformat": 4,
  "vscode": {
   "interpreter": {
    "hash": "916dbcbb3f70747c44a77c7bcd40155683ae19c65e1c03b4aa3499c5328201f1"
   }
  }
 },
 "nbformat": 4,
 "nbformat_minor": 2
}

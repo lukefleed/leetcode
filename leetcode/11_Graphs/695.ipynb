{
 "cells": [
  {
   "cell_type": "markdown",
   "metadata": {},
   "source": [
    "![](https://i.imgur.com/WKSNmfc.png)"
   ]
  },
  {
   "cell_type": "code",
   "execution_count": null,
   "metadata": {},
   "outputs": [],
   "source": [
    "class Solution:\n",
    "    def maxAreaOfIsland(self, grid: List[List[int]]) -> int:\n",
    "        rows = len(grid)\n",
    "        cols = len(grid[0])\n",
    "        visit = set()\n",
    "\n",
    "        if not grid:\n",
    "            return 0\n",
    "\n",
    "        def dfs(r, c):\n",
    "            if (\n",
    "                r not in range(rows) # row out of bounds\n",
    "                or c not in range(cols) # col out of bounds\n",
    "                or grid[r][c] == \"0\" # water\n",
    "                or (r, c) in visit # already visited\n",
    "            ):\n",
    "                return 0\n",
    "\n",
    "            visit.add(r,c)\n",
    "            return (1 + dfs(r+1, c) +\n",
    "                        dfs(r-1, c) +\n",
    "                        dfs(r, c+1) +\n",
    "                        dfs(r, c-1))\n",
    "\n",
    "        area = 0\n",
    "        for r in range(cols):\n",
    "            for c in range(cols):\n",
    "                area = max(area, dfs(r,c))\n",
    "        return area"
   ]
  }
 ],
 "metadata": {
  "kernelspec": {
   "display_name": "Python 3.10.6 64-bit",
   "language": "python",
   "name": "python3"
  },
  "language_info": {
   "name": "python",
   "version": "3.10.6"
  },
  "orig_nbformat": 4,
  "vscode": {
   "interpreter": {
    "hash": "916dbcbb3f70747c44a77c7bcd40155683ae19c65e1c03b4aa3499c5328201f1"
   }
  }
 },
 "nbformat": 4,
 "nbformat_minor": 2
}

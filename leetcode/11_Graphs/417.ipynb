{
 "cells": [
  {
   "cell_type": "markdown",
   "metadata": {},
   "source": [
    "![](https://i.imgur.com/yRuUTaD.png)"
   ]
  },
  {
   "cell_type": "code",
   "execution_count": 1,
   "metadata": {},
   "outputs": [],
   "source": [
    "from typing import List"
   ]
  },
  {
   "cell_type": "code",
   "execution_count": 3,
   "metadata": {},
   "outputs": [],
   "source": [
    "class Solution:\n",
    "    def pacificAtlantic(self, heights: List[List[int]]) -> List[List[int]]:\n",
    "        ROWS, COLS = len(heights), len(heights[0])\n",
    "        pac, atl = set(), set() # set to store the cells that can reach the ocean\n",
    "\n",
    "        def dfs(r, c, visit, prevHeight):\n",
    "            if (\n",
    "                (r, c) in visit # already visited\n",
    "                or r < 0 # out of bounds\n",
    "                or c < 0 # out of bounds\n",
    "                or r == ROWS # out of bounds since we are using 0 based indexing\n",
    "                or c == COLS # out of bounds since we are using 0 based indexing\n",
    "                or heights[r][c] < prevHeight # not a valid path since the height is lower \n",
    "            ):\n",
    "                return\n",
    "                \n",
    "            visit.add((r, c))\n",
    "            dfs(r + 1, c, visit, heights[r][c])\n",
    "            dfs(r - 1, c, visit, heights[r][c])\n",
    "            dfs(r, c + 1, visit, heights[r][c])\n",
    "            dfs(r, c - 1, visit, heights[r][c])\n",
    "\n",
    "        for c in range(COLS): # traverse the first row\n",
    "            dfs(0, c, pac, heights[0][c]) # start dfs from the cell. we are at the pacific ocean. We are going to every position that can reach the pacific ocean\n",
    "            dfs(ROWS - 1, c, atl, heights[ROWS - 1][c])  # start dfs from the cell. we are at the atlantic ocean. We are going to every position that can reach the atlantic ocean\n",
    "\n",
    "        # same as above but for the first column, atlantic ocean\n",
    "        for r in range(ROWS):\n",
    "            dfs(r, 0, pac, heights[r][0])\n",
    "            dfs(r, COLS - 1, atl, heights[r][COLS - 1])\n",
    "\n",
    "        return atl.intersection(pac).tolist() # return the intersection of the two sets"
   ]
  }
 ],
 "metadata": {
  "kernelspec": {
   "display_name": "Python 3.10.6 64-bit",
   "language": "python",
   "name": "python3"
  },
  "language_info": {
   "codemirror_mode": {
    "name": "ipython",
    "version": 3
   },
   "file_extension": ".py",
   "mimetype": "text/x-python",
   "name": "python",
   "nbconvert_exporter": "python",
   "pygments_lexer": "ipython3",
   "version": "3.10.6"
  },
  "orig_nbformat": 4,
  "vscode": {
   "interpreter": {
    "hash": "916dbcbb3f70747c44a77c7bcd40155683ae19c65e1c03b4aa3499c5328201f1"
   }
  }
 },
 "nbformat": 4,
 "nbformat_minor": 2
}

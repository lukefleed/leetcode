{
 "cells": [
  {
   "cell_type": "markdown",
   "metadata": {},
   "source": [
    "![](https://i.imgur.com/jribF4r.png)"
   ]
  },
  {
   "cell_type": "code",
   "execution_count": 2,
   "metadata": {},
   "outputs": [],
   "source": [
    "from typing import List"
   ]
  },
  {
   "cell_type": "code",
   "execution_count": 3,
   "metadata": {},
   "outputs": [],
   "source": [
    "class Solution:\n",
    "    def findItinerary(self, tickets: List[List[str]]) -> List[str]:\n",
    "        # let's map every node to it's adjacent nodes\n",
    "        adj = {src : [] for src, dst in tickets}\n",
    "        # build the adjacency list\n",
    "        tickets.sort()\n",
    "        for src, dst in tickets:\n",
    "            adj[src].append(dst) # add the destination to the adjacency list\n",
    "\n",
    "        res = [\"JFK\"] # the result list, that starts with JFK for hypothesis\n",
    "        def dfs(src):\n",
    "            if len(res) == len(tickets) + 1: \n",
    "                return True # we found a valid path\n",
    "\n",
    "            if src not in adj: \n",
    "                return False\n",
    "\n",
    "            temp = list(adj[src]) # copy the list of adjacent nodes\n",
    "\n",
    "            # iterate trough all the adjacent nodes of the current node\n",
    "            for i, v in enumerate(temp): # enumerate let us iterate trough the index. We are going to modify the associated list during the iteration\n",
    "                adj[src].remove(v) # remove the current node from the adjacency list\n",
    "                res.append(v) # add the current node to the result list\n",
    "\n",
    "                if dfs(v):\n",
    "                    return True # we found a valid path and it's valid because we sorted the tickets\n",
    "\n",
    "                # if we are here, it means that the current path is not valid\n",
    "                # we need to backtrack\n",
    "                adj[src].insert(i, v) # insert the current node back to the adjacency list\n",
    "                res.pop() # remove the current node from the result list\n",
    "            return False\n",
    "\n",
    "        dfs(\"JFK\")\n",
    "        return res\n"
   ]
  },
  {
   "cell_type": "code",
   "execution_count": 5,
   "metadata": {},
   "outputs": [
    {
     "name": "stdout",
     "output_type": "stream",
     "text": [
      "['JFK', 'MUC', 'LHR', 'SFO', 'SJC']\n"
     ]
    }
   ],
   "source": [
    "tickets = [[\"MUC\",\"LHR\"],[\"JFK\",\"MUC\"],[\"SFO\",\"SJC\"],[\"LHR\",\"SFO\"]]\n",
    "print(Solution().findItinerary(tickets))"
   ]
  },
  {
   "cell_type": "code",
   "execution_count": 6,
   "metadata": {},
   "outputs": [
    {
     "name": "stdout",
     "output_type": "stream",
     "text": [
      "['JFK', 'ATL', 'JFK', 'SFO', 'ATL', 'SFO']\n"
     ]
    }
   ],
   "source": [
    "tickets = [[\"JFK\",\"SFO\"],[\"JFK\",\"ATL\"],[\"SFO\",\"ATL\"],[\"ATL\",\"JFK\"],[\"ATL\",\"SFO\"]]\n",
    "print(Solution().findItinerary(tickets))"
   ]
  }
 ],
 "metadata": {
  "kernelspec": {
   "display_name": "Python 3.10.6 64-bit",
   "language": "python",
   "name": "python3"
  },
  "language_info": {
   "codemirror_mode": {
    "name": "ipython",
    "version": 3
   },
   "file_extension": ".py",
   "mimetype": "text/x-python",
   "name": "python",
   "nbconvert_exporter": "python",
   "pygments_lexer": "ipython3",
   "version": "3.10.6"
  },
  "orig_nbformat": 4,
  "vscode": {
   "interpreter": {
    "hash": "916dbcbb3f70747c44a77c7bcd40155683ae19c65e1c03b4aa3499c5328201f1"
   }
  }
 },
 "nbformat": 4,
 "nbformat_minor": 2
}

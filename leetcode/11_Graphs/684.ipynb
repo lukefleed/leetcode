{
 "cells": [
  {
   "cell_type": "markdown",
   "metadata": {},
   "source": [
    "![](https://i.imgur.com/B6YMjtu.png)"
   ]
  },
  {
   "cell_type": "code",
   "execution_count": null,
   "metadata": {},
   "outputs": [],
   "source": [
    "# Naive DFS: O(n^2)\n",
    "\n",
    "# Union-Find: O(n)\n",
    "\n",
    "class Solution:\n",
    "    def findRedundantConnection(self, edges: List[List[int]]) -> List[int]:\n",
    "        parent = [i for i in range(len(edges) + 1)] # 1-indexed\n",
    "        rank = [1] * (len(edges) + 1)\n",
    "\n",
    "        def find(n): \n",
    "            p = parent[n] # find parent\n",
    "\n",
    "            while p != parent[p]: # find root\n",
    "                parent[p] = parent[parent[p]] # path compression\n",
    "                p = parent[p]\n",
    "            return p # return root\n",
    "\n",
    "        def union(n1, n2):\n",
    "            p1, p2 = find(n1), find(n2) # find their parents \n",
    "\n",
    "            if p1 == p2: # if they are already connected\n",
    "                return False \n",
    "            \n",
    "            if rank[p1] > rank[p2]: # union by rank, p1 is the parent of p2\n",
    "                parent[p2] = p1\n",
    "                rank[p1] += rank[p2] # update rank, now p1 has more children\n",
    "            else: # p2 is the parent of p1\n",
    "                parent[p1] = p2 \n",
    "                rank[p2] += rank[p1] # update rank, now p2 has more children\n",
    "            return True\n",
    "\n",
    "        for n1, n2 in edges:\n",
    "            if not union(n1, n2):\n",
    "                return [n1, n2] # it's garanteed to have a cycle        "
   ]
  }
 ],
 "metadata": {
  "language_info": {
   "name": "python"
  },
  "orig_nbformat": 4
 },
 "nbformat": 4,
 "nbformat_minor": 2
}

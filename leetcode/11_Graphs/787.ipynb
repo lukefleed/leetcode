{
 "cells": [
  {
   "cell_type": "markdown",
   "metadata": {},
   "source": [
    "![](https://i.imgur.com/rKnfr2Z.png)"
   ]
  },
  {
   "cell_type": "code",
   "execution_count": null,
   "metadata": {},
   "outputs": [],
   "source": [
    "# O(mk) where m is the number of edges \n",
    "# Bellman Ford\n",
    "\n",
    "class Solution:\n",
    "    def findCheapestPrice(\n",
    "        self, n: int, flights: List[List[int]], src: int, dst: int, k: int) -> int:\n",
    "        \n",
    "        prices = [float(\"inf\")] * n\n",
    "        prices[src] = 0\n",
    "\n",
    "        for i in range(k + 1):\n",
    "            tmpPrices = prices.copy()\n",
    "\n",
    "            for s, d, p in flights:  # s=source, d=dest, p=price\n",
    "                if prices[s] == float(\"inf\"):\n",
    "                    continue\n",
    "                if prices[s] + p < tmpPrices[d]:\n",
    "                    tmpPrices[d] = prices[s] + p\n",
    "            prices = tmpPrices\n",
    "        return -1 if prices[dst] == float(\"inf\") else prices[dst]\n",
    "\n"
   ]
  }
 ],
 "metadata": {
  "kernelspec": {
   "display_name": "Python 3.10.6 64-bit",
   "language": "python",
   "name": "python3"
  },
  "language_info": {
   "codemirror_mode": {
    "name": "ipython",
    "version": 3
   },
   "file_extension": ".py",
   "mimetype": "text/x-python",
   "name": "python",
   "nbconvert_exporter": "python",
   "pygments_lexer": "ipython3",
   "version": "3.10.6"
  },
  "orig_nbformat": 4,
  "vscode": {
   "interpreter": {
    "hash": "916dbcbb3f70747c44a77c7bcd40155683ae19c65e1c03b4aa3499c5328201f1"
   }
  }
 },
 "nbformat": 4,
 "nbformat_minor": 2
}

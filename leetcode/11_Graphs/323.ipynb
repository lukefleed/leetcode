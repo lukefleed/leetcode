{
 "cells": [
  {
   "cell_type": "markdown",
   "metadata": {},
   "source": [
    "![](https://i.imgur.com/XbAJpCM.png)"
   ]
  },
  {
   "cell_type": "code",
   "execution_count": null,
   "metadata": {},
   "outputs": [],
   "source": [
    "class UnionFind:\n",
    "    def __init__(self):\n",
    "        self.f = {}\n",
    "\n",
    "    def findParent(self, x):\n",
    "        y = self.f.get(x, x)\n",
    "        if x != y:\n",
    "            y = self.f[x] = self.findParent(y)\n",
    "        return y\n",
    "\n",
    "    def union(self, x, y):\n",
    "        self.f[self.findParent(x)] = self.findParent(y)"
   ]
  },
  {
   "cell_type": "code",
   "execution_count": null,
   "metadata": {},
   "outputs": [],
   "source": [
    "class Solution:\n",
    "    def countComponents(self, n: int, edges: List[List[int]]) -> int:\n",
    "        dsu = UnionFind()\n",
    "        for a, b in edges:\n",
    "            dsu.union(a, b)\n",
    "        return len(set(dsu.findParent(x) for x in range(n)))"
   ]
  }
 ],
 "metadata": {
  "kernelspec": {
   "display_name": "Python 3.10.6 64-bit",
   "language": "python",
   "name": "python3"
  },
  "language_info": {
   "codemirror_mode": {
    "name": "ipython",
    "version": 3
   },
   "file_extension": ".py",
   "mimetype": "text/x-python",
   "name": "python",
   "nbconvert_exporter": "python",
   "pygments_lexer": "ipython3",
   "version": "3.10.6"
  },
  "orig_nbformat": 4,
  "vscode": {
   "interpreter": {
    "hash": "916dbcbb3f70747c44a77c7bcd40155683ae19c65e1c03b4aa3499c5328201f1"
   }
  }
 },
 "nbformat": 4,
 "nbformat_minor": 2
}

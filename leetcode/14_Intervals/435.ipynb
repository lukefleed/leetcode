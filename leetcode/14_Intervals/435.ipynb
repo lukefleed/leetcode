{
 "cells": [
  {
   "cell_type": "markdown",
   "metadata": {},
   "source": [
    "![](https://i.imgur.com/fv5CCH1.png)"
   ]
  },
  {
   "cell_type": "code",
   "execution_count": null,
   "metadata": {},
   "outputs": [],
   "source": [
    "class Solution:\n",
    "    def eraseOverlapIntervals(self, intervals: List[List[int]]) -> int:\n",
    "        if not intervals:\n",
    "            return 0\n",
    "\n",
    "        intervals.sort(key=lambda x: x[1]) # sort by end time\n",
    "\n",
    "        count = 0\n",
    "        end = intervals[0][1] # end time of the first interval\n",
    "        for i in range(1, len(intervals)):\n",
    "            if intervals[i][0] < end: # if the start time of the current interval is less than the end time of the previous interval\n",
    "                count += 1 # then we need to remove the current interval because it overlaps with the previous interval\n",
    "            else:\n",
    "                end = intervals[i][1] # otherwise, we update the end time of the previous interval to the end time of the current interval because we are not removing the current interval\n",
    "        return count\n"
   ]
  }
 ],
 "metadata": {
  "kernelspec": {
   "display_name": "Python 3.10.6 64-bit",
   "language": "python",
   "name": "python3"
  },
  "language_info": {
   "name": "python",
   "version": "3.10.6"
  },
  "orig_nbformat": 4,
  "vscode": {
   "interpreter": {
    "hash": "916dbcbb3f70747c44a77c7bcd40155683ae19c65e1c03b4aa3499c5328201f1"
   }
  }
 },
 "nbformat": 4,
 "nbformat_minor": 2
}

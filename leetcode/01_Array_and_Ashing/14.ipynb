{
 "cells": [
  {
   "cell_type": "markdown",
   "metadata": {},
   "source": [
    "![](https://i.imgur.com/Kmcg671.png)"
   ]
  },
  {
   "cell_type": "code",
   "execution_count": null,
   "metadata": {},
   "outputs": [],
   "source": [
    "class Solution:\n",
    "    def longestCommonPrefix(self, strs: List[str]) -> str:\n",
    "        \n",
    "        # 1. Check if the list is empty\n",
    "        if not strs:\n",
    "            return \"\"\n",
    "\n",
    "        # 2. Find the shortest string in the list\n",
    "        shortest_str = min(strs, key=len)\n",
    "\n",
    "        # 3. Loop through the shortest string\n",
    "        for i, char in enumerate(shortest_str):\n",
    "            for other in strs:\n",
    "                if other[i] != char:\n",
    "                    return shortest_str[:i]\n",
    "\n",
    "        return shortest_str\n",
    "        \n",
    "        \n",
    "        "
   ]
  }
 ],
 "metadata": {
  "kernelspec": {
   "display_name": "Python 3.10.6 64-bit",
   "language": "python",
   "name": "python3"
  },
  "language_info": {
   "name": "python",
   "version": "3.10.6"
  },
  "orig_nbformat": 4,
  "vscode": {
   "interpreter": {
    "hash": "916dbcbb3f70747c44a77c7bcd40155683ae19c65e1c03b4aa3499c5328201f1"
   }
  }
 },
 "nbformat": 4,
 "nbformat_minor": 2
}

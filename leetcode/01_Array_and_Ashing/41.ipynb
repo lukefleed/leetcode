{
 "cells": [
  {
   "cell_type": "markdown",
   "metadata": {},
   "source": [
    "![](https://i.imgur.com/e8dC66n.png)"
   ]
  },
  {
   "cell_type": "code",
   "execution_count": 6,
   "metadata": {},
   "outputs": [],
   "source": [
    "class Solution:\n",
    "    def firstMissingPositive(self, nums: List[int]) -> int:\n",
    "        # it has to run in O(n) time and uses constant extra space.\n",
    "\n",
    "        n = len(nums)\n",
    "\n",
    "        # 1. mark numbers (num < 0) and (num > n) with a special marker number (n+1)\n",
    "        # (we can ignore those because if all number are > n then we'll simply return 1)\n",
    "        for i in range(n):\n",
    "                if nums[i] <= 0 or nums[i] > n:\n",
    "                    nums[i] = n + 1\n",
    "        # note: all number in the array are now positive, and on the range 1..n+1\n",
    "\n",
    "        # 2. mark each cell appearing in the array, by converting the index for that number to negative\n",
    "\n",
    "        for i in range(n):\n",
    "            num = abs(nums[i])\n",
    "            if num > n:\n",
    "                continue\n",
    "            num -= 1\n",
    "            if nums[num] > 0:\n",
    "                nums[num] *= -1\n",
    "\n",
    "        # 3. find the first cell which isn't negative (doesn't appear in the array)\n",
    "        for i in range(n):\n",
    "            if nums[i] >= 0:\n",
    "                return i+1\n",
    "\n",
    "        # 4. no positive numbers were found, which means the array contains all numbers 1..n\n",
    "        return n+1"
   ]
  }
 ],
 "metadata": {
  "kernelspec": {
   "display_name": "Python 3.10.6 64-bit",
   "language": "python",
   "name": "python3"
  },
  "language_info": {
   "codemirror_mode": {
    "name": "ipython",
    "version": 3
   },
   "file_extension": ".py",
   "mimetype": "text/x-python",
   "name": "python",
   "nbconvert_exporter": "python",
   "pygments_lexer": "ipython3",
   "version": "3.10.6"
  },
  "orig_nbformat": 4,
  "vscode": {
   "interpreter": {
    "hash": "916dbcbb3f70747c44a77c7bcd40155683ae19c65e1c03b4aa3499c5328201f1"
   }
  }
 },
 "nbformat": 4,
 "nbformat_minor": 2
}

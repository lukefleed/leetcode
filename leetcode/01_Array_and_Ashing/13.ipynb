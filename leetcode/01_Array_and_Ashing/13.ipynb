{
 "cells": [
  {
   "cell_type": "markdown",
   "metadata": {},
   "source": [
    "![](https://i.imgur.com/Kli6UHT.png)"
   ]
  },
  {
   "cell_type": "code",
   "execution_count": null,
   "metadata": {},
   "outputs": [],
   "source": [
    "class Solution:\n",
    "    def romanToInt(self, s: str) -> int:\n",
    "\n",
    "        # 1. Create a dictionary to store the values of each roman numeral\n",
    "        roman_dict = {'I': 1, 'V': 5, 'X': 10, 'L': 50, 'C': 100, 'D': 500, 'M': 1000}\n",
    "\n",
    "        # 2. Create a variable to store the total value\n",
    "        total = 0\n",
    "\n",
    "        # 3. Loop through the string\n",
    "        for i in range(len(s)):\n",
    "            # 4. If the current value is less than the next value, subtract the current value from the total\n",
    "            if i < len(s) - 1 and roman_dict[s[i]] < roman_dict[s[i + 1]]:\n",
    "                total -= roman_dict[s[i]]\n",
    "            # 5. If the current value is greater than or equal to the next value, add the current value to the total\n",
    "            else:\n",
    "                total += roman_dict[s[i]]\n",
    "\n",
    "        return total"
   ]
  }
 ],
 "metadata": {
  "kernelspec": {
   "display_name": "Python 3.10.6 64-bit",
   "language": "python",
   "name": "python3"
  },
  "language_info": {
   "name": "python",
   "version": "3.10.6"
  },
  "orig_nbformat": 4,
  "vscode": {
   "interpreter": {
    "hash": "916dbcbb3f70747c44a77c7bcd40155683ae19c65e1c03b4aa3499c5328201f1"
   }
  }
 },
 "nbformat": 4,
 "nbformat_minor": 2
}

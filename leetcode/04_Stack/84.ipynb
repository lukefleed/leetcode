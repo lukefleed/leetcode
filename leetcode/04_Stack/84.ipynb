{
 "cells": [
  {
   "cell_type": "markdown",
   "metadata": {},
   "source": [
    "![](https://i.imgur.com/JE3RiJO.png)"
   ]
  },
  {
   "cell_type": "code",
   "execution_count": 3,
   "metadata": {},
   "outputs": [],
   "source": [
    "from typing import List"
   ]
  },
  {
   "cell_type": "code",
   "execution_count": 4,
   "metadata": {},
   "outputs": [],
   "source": [
    "class Solution:\n",
    "    def largestRectangleArea(self, heights: List[int]) -> int:\n",
    "        stack = [] # (index, height)\n",
    "        max_area = 0\n",
    "\n",
    "        for i, h in enumerate(heights): # loop through all heights\n",
    "            start = i # start index of current height\n",
    "            while stack and stack[-1][1] > h: # if stack is not empty and top height is larger than current height\n",
    "                index, height = stack.pop() # pop the top height and its index from stack since it is no longer useful\n",
    "                max_area = max(max_area, (i - index) * height) # calculate the area of the rectangle with top height\n",
    "                start = index # update start index of current height\n",
    "            stack.append((start, h)) # push current height and its start index to stack \n",
    "\n",
    "        for i,h in stack:\n",
    "            max_area = max(max_area, (len(heights) - i) * h) # calculate the area of the rectangle with top height in stack\n",
    "        \n",
    "        return max_area     "
   ]
  }
 ],
 "metadata": {
  "kernelspec": {
   "display_name": "Python 3.10.4 64-bit",
   "language": "python",
   "name": "python3"
  },
  "language_info": {
   "codemirror_mode": {
    "name": "ipython",
    "version": 3
   },
   "file_extension": ".py",
   "mimetype": "text/x-python",
   "name": "python",
   "nbconvert_exporter": "python",
   "pygments_lexer": "ipython3",
   "version": "3.10.6"
  },
  "orig_nbformat": 4,
  "vscode": {
   "interpreter": {
    "hash": "916dbcbb3f70747c44a77c7bcd40155683ae19c65e1c03b4aa3499c5328201f1"
   }
  }
 },
 "nbformat": 4,
 "nbformat_minor": 2
}

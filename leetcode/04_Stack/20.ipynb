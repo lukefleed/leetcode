{
 "cells": [
  {
   "cell_type": "markdown",
   "metadata": {},
   "source": [
    "![](https://i.imgur.com/E5MMXli.png)"
   ]
  },
  {
   "cell_type": "code",
   "execution_count": 3,
   "metadata": {},
   "outputs": [],
   "source": [
    "class Solution:\n",
    "    def isValid(self, s: str) -> bool:\n",
    "        Map = {\")\": \"(\", \"]\": \"[\", \"}\": \"{\"} # contains the closing brackets and their corresponding opening brackets\n",
    "        stack = [] # stack to store the opening brackets\n",
    "\n",
    "        for c in s:\n",
    "            if c not in Map:  # if the current character is an opening bracket, push it onto the stack\n",
    "                stack.append(c)\n",
    "                continue\n",
    "            if not stack or stack[-1] != Map[c]: # if the current character is a closing bracket, check if the stack is empty or the top of the stack is not the corresponding opening bracket\n",
    "                return False # if the stack is empty or the top of the stack is not the corresponding opening bracket, return False\n",
    "            stack.pop() # if the top of the stack is the corresponding opening bracket, pop it off the stack\n",
    " \n",
    "        return not stack # if the stack is empty, return True, otherwise return False"
   ]
  }
 ],
 "metadata": {
  "kernelspec": {
   "display_name": "Python 3.10.4 64-bit",
   "language": "python",
   "name": "python3"
  },
  "language_info": {
   "codemirror_mode": {
    "name": "ipython",
    "version": 3
   },
   "file_extension": ".py",
   "mimetype": "text/x-python",
   "name": "python",
   "nbconvert_exporter": "python",
   "pygments_lexer": "ipython3",
   "version": "3.10.6"
  },
  "orig_nbformat": 4,
  "vscode": {
   "interpreter": {
    "hash": "916dbcbb3f70747c44a77c7bcd40155683ae19c65e1c03b4aa3499c5328201f1"
   }
  }
 },
 "nbformat": 4,
 "nbformat_minor": 2
}

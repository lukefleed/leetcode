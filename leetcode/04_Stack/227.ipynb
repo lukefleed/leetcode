{
 "cells": [
  {
   "cell_type": "markdown",
   "metadata": {},
   "source": [
    "![](https://i.imgur.com/KaAJnYm.png)"
   ]
  },
  {
   "cell_type": "code",
   "execution_count": null,
   "metadata": {},
   "outputs": [],
   "source": [
    "class Solution:\n",
    "    def calculate(self, s: str) -> int:\n",
    "\n",
    "        stack = [] # stack to store numbers\n",
    "        num = 0 # current number being processed\n",
    "        sign = '+' # current sign being processed\n",
    "        for i in range(len(s)): \n",
    "            if s[i].isdigit(): # if current character is a digit\n",
    "                num = num * 10 + int(s[i]) # update current number in reverse polish notation\n",
    "            if s[i] in '+-*/' or i == len(s) - 1: # if current character is a sign or last character\n",
    "                if sign == '+': \n",
    "                    stack.append(num) \n",
    "                elif sign == '-': \n",
    "                    stack.append(-num)\n",
    "                elif sign == '*':\n",
    "                    stack.append(stack.pop() * num) # pop last number and multiply it with current number\n",
    "                elif sign == '/': \n",
    "                    stack.append(int(stack.pop() / num)) # pop last number and divide it by current number\n",
    "                sign = s[i]\n",
    "                num = 0\n",
    "        return sum(stack)\n",
    "\n",
    "\n",
    "        \n",
    " "
   ]
  }
 ],
 "metadata": {
  "kernelspec": {
   "display_name": "Python 3.10.6 64-bit",
   "language": "python",
   "name": "python3"
  },
  "language_info": {
   "name": "python",
   "version": "3.10.6"
  },
  "orig_nbformat": 4,
  "vscode": {
   "interpreter": {
    "hash": "916dbcbb3f70747c44a77c7bcd40155683ae19c65e1c03b4aa3499c5328201f1"
   }
  }
 },
 "nbformat": 4,
 "nbformat_minor": 2
}

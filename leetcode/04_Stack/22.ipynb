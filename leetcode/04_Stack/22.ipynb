{
 "cells": [
  {
   "cell_type": "markdown",
   "metadata": {},
   "source": [
    "![](https://i.imgur.com/wcyZLGG.png)"
   ]
  },
  {
   "cell_type": "code",
   "execution_count": 1,
   "metadata": {},
   "outputs": [],
   "source": [
    "from typing import List"
   ]
  },
  {
   "cell_type": "code",
   "execution_count": null,
   "metadata": {},
   "outputs": [],
   "source": [
    "class Solution:\n",
    "    def generateParenthesis(self, n: int) -> List[str]:\n",
    "        # only add open parenthesis if open < n\n",
    "        # only add a closing parenthesis if closed < open\n",
    "        # valid IIF open == closed == n\n",
    "        # recursive approach\n",
    "\n",
    "        stack = [] # global variable\n",
    "        res = []\n",
    "\n",
    "        # create a nested backtracking function \n",
    "        def backtrack(openN, closedN): # takes in input the count of open and closed parenthesis\n",
    "            if openN == closedN == n:\n",
    "                res.append(\"\".join(stack)) # take every char in the stack and join together into an empty string and they will form a complete string. Then I can append it to the result string\n",
    "                return \n",
    "\n",
    "            # check the open count\n",
    "            if openN < n:\n",
    "                stack.append(\"(\")\n",
    "                backtrack(openN + 1, closedN)\n",
    "                # update the stack\n",
    "                stack.pop()\n",
    "\n",
    "            if closedN < openN:\n",
    "                stack.append(\")\")\n",
    "                backtrack(openN, closedN + 1)\n",
    "                stack.pop()\n",
    "\n",
    "        backtrack(0,0) # initialize the count at zero for opened and closed\n",
    "        return res\n",
    "       "
   ]
  }
 ],
 "metadata": {
  "kernelspec": {
   "display_name": "Python 3.10.4 64-bit",
   "language": "python",
   "name": "python3"
  },
  "language_info": {
   "codemirror_mode": {
    "name": "ipython",
    "version": 3
   },
   "file_extension": ".py",
   "mimetype": "text/x-python",
   "name": "python",
   "nbconvert_exporter": "python",
   "pygments_lexer": "ipython3",
   "version": "3.10.4"
  },
  "orig_nbformat": 4,
  "vscode": {
   "interpreter": {
    "hash": "916dbcbb3f70747c44a77c7bcd40155683ae19c65e1c03b4aa3499c5328201f1"
   }
  }
 },
 "nbformat": 4,
 "nbformat_minor": 2
}

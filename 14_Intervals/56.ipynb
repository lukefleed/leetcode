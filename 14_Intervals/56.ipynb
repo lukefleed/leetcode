{
 "cells": [
  {
   "cell_type": "markdown",
   "metadata": {},
   "source": [
    "![](https://i.imgur.com/DQWvtQO.png)"
   ]
  },
  {
   "cell_type": "code",
   "execution_count": null,
   "metadata": {},
   "outputs": [],
   "source": [
    "class Solution:\n",
    "    def merge(self, intervals: List[List[int]]) -> List[List[int]]:\n",
    "        intervals.sort(key=lambda x: x[0]) # sort by start time\n",
    "        res = []\n",
    "        for i in intervals:\n",
    "            if res and res[-1][1] >= i[0]: # if there is overlap, merge\n",
    "                res[-1][1] = max(res[-1][1], i[1]) # update end time\n",
    "            else:\n",
    "                res.append(i) # no overlap, add new interval\n",
    "        return res"
   ]
  }
 ],
 "metadata": {
  "language_info": {
   "name": "python"
  },
  "orig_nbformat": 4
 },
 "nbformat": 4,
 "nbformat_minor": 2
}

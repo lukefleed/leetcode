{
 "cells": [
  {
   "cell_type": "markdown",
   "metadata": {},
   "source": [
    "![](https://i.imgur.com/Gm2DUHf.png)"
   ]
  },
  {
   "cell_type": "code",
   "execution_count": 2,
   "metadata": {},
   "outputs": [],
   "source": [
    "from typing import List"
   ]
  },
  {
   "cell_type": "code",
   "execution_count": 3,
   "metadata": {},
   "outputs": [],
   "source": [
    "# O(1) memory\n",
    "\n",
    "class Solution:\n",
    "    def trap(self, height: List[int]) -> int:\n",
    "        if not height:\n",
    "            return 0\n",
    "        l, r = 0, len(height) - 1\n",
    "        l_max, r_max = height[l], height[r]\n",
    "        ans = 0\n",
    "\n",
    "        while l < r:\n",
    "            if l_max < r_max:\n",
    "                l += 1\n",
    "                l_max = max(l_max, height[l])\n",
    "                ans += l_max - height[l]\n",
    "\n",
    "            else: \n",
    "                r -= 1\n",
    "                r_max = max(r_max, height[r])\n",
    "                ans += r_max - height[r]\n",
    "        return ans\n",
    "       "
   ]
  }
 ],
 "metadata": {
  "kernelspec": {
   "display_name": "Python 3.10.5 64-bit",
   "language": "python",
   "name": "python3"
  },
  "language_info": {
   "codemirror_mode": {
    "name": "ipython",
    "version": 3
   },
   "file_extension": ".py",
   "mimetype": "text/x-python",
   "name": "python",
   "nbconvert_exporter": "python",
   "pygments_lexer": "ipython3",
   "version": "3.10.5"
  },
  "orig_nbformat": 4,
  "vscode": {
   "interpreter": {
    "hash": "e7370f93d1d0cde622a1f8e1c04877d8463912d04d973331ad4851f04de6915a"
   }
  }
 },
 "nbformat": 4,
 "nbformat_minor": 2
}

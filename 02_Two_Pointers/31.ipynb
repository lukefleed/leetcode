{
 "cells": [
  {
   "cell_type": "markdown",
   "metadata": {},
   "source": [
    "![](https://i.imgur.com/36INrQe.png)"
   ]
  },
  {
   "cell_type": "code",
   "execution_count": null,
   "metadata": {},
   "outputs": [],
   "source": [
    "class Solution:\n",
    "    def nextPermutation(self, nums: List[int]) -> None:\n",
    "        \"\"\"\n",
    "        Do not return anything, modify nums in-place instead.\n",
    "        \"\"\"\n",
    "\n",
    "        # 1. Find the largest index k such that nums[k] < nums[k + 1]. If no such index exists, just reverse nums and done.\n",
    "        k = -1 \n",
    "        for i in range(len(nums) - 1): \n",
    "            if nums[i] < nums[i + 1]: \n",
    "                k = i \n",
    "\n",
    "        # 2. Find the largest index l > k such that nums[k] < nums[l].\n",
    "        if k != -1:\n",
    "            l = -1\n",
    "            for i in range(k + 1, len(nums)):\n",
    "                if nums[k] < nums[i]:\n",
    "                    l = i\n",
    "\n",
    "            # 3. Swap nums[k] and nums[l].\n",
    "            nums[k], nums[l] = nums[l], nums[k]\n",
    "\n",
    "        # 4. Reverse the sub-array nums[k + 1:].\n",
    "        nums[k + 1:] = nums[k + 1:][::-1]"
   ]
  }
 ],
 "metadata": {
  "kernelspec": {
   "display_name": "Python 3.10.6 64-bit",
   "language": "python",
   "name": "python3"
  },
  "language_info": {
   "name": "python",
   "version": "3.10.6"
  },
  "orig_nbformat": 4,
  "vscode": {
   "interpreter": {
    "hash": "916dbcbb3f70747c44a77c7bcd40155683ae19c65e1c03b4aa3499c5328201f1"
   }
  }
 },
 "nbformat": 4,
 "nbformat_minor": 2
}

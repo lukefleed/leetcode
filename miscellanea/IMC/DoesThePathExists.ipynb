{
 "cells": [
  {
   "attachments": {},
   "cell_type": "markdown",
   "metadata": {},
   "source": [
    "# Q1 - Does the Path Exist?\n",
    "\n",
    "You start at `(x,y)` and would like to reach `(a, b)`. In one step, you can go from `(x, y)` to:\n",
    "\n",
    "* `(x + y, y)`\n",
    "* `(x, x + y)`\n",
    "* `(x + c, y + c)`\n",
    "  \n",
    "In additional the the rules above, there are also obstacles that you must avoid. Obstacles exist on any cell `(i, j)` where `i+j` is a perfect square.\n",
    "\n",
    "You will be given `a, b, x, y, c.` Determine whether a path exists.\n",
    "\n",
    "### Constraints\n",
    "\n",
    "* `0 <= x, y, a, b <= 1000`\n",
    "* `1 <= c <= 15`\n",
    "* It is possible for `(a, b)` and/or `(x, y)` to be blocked."
   ]
  },
  {
   "cell_type": "code",
   "execution_count": null,
   "metadata": {},
   "outputs": [],
   "source": [
    "from math import sqrt\n",
    "\n",
    "memo = [[-1] * 1001 for _ in range(1001)] # memoization table for the DFA\n",
    "\n",
    "def DFS(c, x1, y1, x2, y2): # DFS to find the shortest path from (x1, y1) to (x2, y2) if it exists in the grid\n",
    "    \n",
    "    # If already visited, return the value\n",
    "    if memo[x1][y1] != -1:\n",
    "        return memo[x1][y1]\n",
    "\n",
    "    # if the current cell is a perfect square, then it is not a valid cell\n",
    "    if int(sqrt(x1 + y1)) == sqrt(x1 + y1):\n",
    "        memo[x1][y1] = 0\n",
    "        return 0\n",
    "\n",
    "    # if the current cell is outside the grid, then it is not a valid cell\n",
    "    if x1 > x2 or y1 > y2:\n",
    "        memo[x1][y1] = 0\n",
    "        return 0\n",
    "\n",
    "    # if the current cell is the destination, then it is a valid cell and the path exists\n",
    "    if x1 == x2 and y1 == y2:\n",
    "        memo[x1][y1] = 1\n",
    "        return 1\n",
    "\n",
    "    up = DFS(c, x1, y1 + x1, x2, y2) # move up from (x1, y1) to (x1, y1 + x1)\n",
    "    right = DFS(c, x1 + y1, y1, x2, y2) # move right from (x1, y1) to (x1 + y1, y1)\n",
    "    diag = DFS(c, x1 + c, y1 + c, x2, y2) # move diagonally from (x1, y1) to (x1 + c, y1 + c)\n",
    "\n",
    "    if up == 1 or right == 1 or diag == 1: # if any of the three moves is valid, then the path exists\n",
    "        memo[x1][y1] = 1 # memoize the result\n",
    "        return 1 # return the result\n",
    "    else:\n",
    "        memo[x1][y1] = 0\n",
    "        return 0\n",
    "\n",
    "\n",
    "def canReach(c: int, x1:int , x2:int , y1:int , y2:int):\n",
    "    # the function returns the string \"Yes\" if the bot can reach the destination, or \"No\" if it cannot. \n",
    "    # x1,y1 are the starting coordinates and x2,y2 are the destination coordinates.\n",
    "\n",
    "    if DFS(c, x1, y1, x2, y2) == 1:\n",
    "        return \"Yes\"\n",
    "    else:\n",
    "        return \"No\"\n",
    "\n",
    "# This is not very optimal in terms of memory usage, but it is very fast."
   ]
  }
 ],
 "metadata": {
  "kernelspec": {
   "display_name": "Python 3",
   "language": "python",
   "name": "python3"
  },
  "language_info": {
   "name": "python",
   "version": "3.10.6"
  },
  "orig_nbformat": 4
 },
 "nbformat": 4,
 "nbformat_minor": 2
}

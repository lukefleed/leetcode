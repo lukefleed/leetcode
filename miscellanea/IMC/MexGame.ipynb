{
 "cells": [
  {
   "attachments": {},
   "cell_type": "markdown",
   "metadata": {},
   "source": [
    "![](https://assets.leetcode.com/users/images/88f68a22-af8c-4dad-86ed-9adc9057a075_1677169773.2581937.png)\n",
    "\n",
    "_from leetcode_\n",
    "\n"
   ]
  },
  {
   "cell_type": "code",
   "execution_count": 3,
   "metadata": {},
   "outputs": [
    {
     "name": "stdout",
     "output_type": "stream",
     "text": [
      "0\n"
     ]
    }
   ],
   "source": [
    "def getMaximumMex(arr):\n",
    "    # sort the array\n",
    "    arr.sort() # O(nlogn)\n",
    "    # initialize the maximum mex\n",
    "    maxMex = 0\n",
    "    # iterate over the array\n",
    "    for element in arr: # O(n) \n",
    "        # if the current element is greater than the maximum mex\n",
    "        if element > maxMex:\n",
    "            # return the maximum mex\n",
    "            return maxMex\n",
    "        # otherwise, increment the maximum mex\n",
    "        maxMex += 1"
   ]
  }
 ],
 "metadata": {
  "kernelspec": {
   "display_name": "Python 3",
   "language": "python",
   "name": "python3"
  },
  "language_info": {
   "codemirror_mode": {
    "name": "ipython",
    "version": 3
   },
   "file_extension": ".py",
   "mimetype": "text/x-python",
   "name": "python",
   "nbconvert_exporter": "python",
   "pygments_lexer": "ipython3",
   "version": "3.10.6"
  },
  "orig_nbformat": 4
 },
 "nbformat": 4,
 "nbformat_minor": 2
}

{
 "cells": [
  {
   "cell_type": "code",
   "execution_count": null,
   "metadata": {},
   "outputs": [],
   "source": [
    "#  Implement an algorithm to determine if a string has all unique characters. Do not use additional data structures.\n",
    "\n",
    "def check(string)->bool:\n",
    "    # Check if length of string is greater than 128\n",
    "    if len(string) > 128:\n",
    "        return False\n",
    "    # Create an array of boolean values, where the flag at index i\n",
    "    # indicates whether character i in the alphabet is contained in the string.\n",
    "    char_set = [False for _ in range(128)]\n",
    "    for char in string:\n",
    "        val = ord(char) # Get the ASCII value of the character\n",
    "        if char_set[val]: \n",
    "            # If we already found this char in the string, return False\n",
    "            return False\n",
    "        char_set[val] = True\n",
    "    return True\n",
    "  "
   ]
  },
  {
   "cell_type": "code",
   "execution_count": null,
   "metadata": {},
   "outputs": [],
   "source": [
    "# Check Permutation: Given two strings, write a method to decide if one is a permutation of the other.\n",
    "\n",
    "def check_permutation(str1, str2)->bool:\n",
    "    if len(str1) != len(str2):\n",
    "        return False\n",
    "    return sorted(str1) == sorted(str2)\n",
    "\n",
    "# O(nlogn) time complexity and O(1) space complexity. There is a O(n) solution using a hash table.\n",
    "\n",
    "def check_permutation2(str1, str2)->bool:\n",
    "    if len(str1) != len(str2):\n",
    "        return False\n",
    "    char_set = [0 for _ in range(128)]\n",
    "    for char in str1:\n",
    "        val = ord(char)\n",
    "        char_set[val] += 1\n",
    "    for char in str2:\n",
    "        val = ord(char)\n",
    "        char_set[val] -= 1\n",
    "        if char_set[val] < 0:\n",
    "            return False\n",
    "    return True\n",
    "\n",
    "# This is O(n) time complexity and O(1) space complexity."
   ]
  },
  {
   "cell_type": "code",
   "execution_count": null,
   "metadata": {},
   "outputs": [],
   "source": [
    "# URLify: Write a method to replace all spaces in a string with '%20'. You may assume that the string has sufficient space at the end to hold the additional characters, and that you are given the \"true\" length of the string.\n",
    "\n",
    "def urlify(string):\n",
    "    return string.replace(' ', '%20')\n"
   ]
  },
  {
   "cell_type": "code",
   "execution_count": 1,
   "metadata": {},
   "outputs": [
    {
     "name": "stdout",
     "output_type": "stream",
     "text": [
      "True\n"
     ]
    }
   ],
   "source": [
    "# Palindrome Permutation: Given a string, write a function to check if it is a permutation of a palindrome. A palindrome is a word or phrase that is the same forwards and backwards. A permutation is a rearrangement of letters. The palindrome does not need to be limited to just dictionary words.\n",
    "\n",
    "def palindrome_permutation(string):\n",
    "    # Make the string lowercase so that we can treat 'A' and 'a' as the same character\n",
    "    string = string.lower() \n",
    "    # Create an array to store the count of each character\n",
    "    char_set = [0 for _ in range(128)] \n",
    "    # Iterate through the string and count the number of times each character appears\n",
    "    for char in string:  # O(n) time complexity\n",
    "        val = ord(char)\n",
    "        if char != ' ':\n",
    "            char_set[val] += 1\n",
    "    # Count the number of characters that have an odd count\n",
    "    odd_count = 0\n",
    "    for char in string: # O(n) time complexity\n",
    "        val = ord(char)\n",
    "        if char_set[val] % 2 != 0:\n",
    "            odd_count += 1\n",
    "    # If there is more than one character with an odd count, return False\n",
    "    return odd_count <= 1\n",
    "\n",
    "# test\n",
    "print(palindrome_permutation('Tact Coa'))"
   ]
  },
  {
   "cell_type": "code",
   "execution_count": 5,
   "metadata": {},
   "outputs": [
    {
     "name": "stdout",
     "output_type": "stream",
     "text": [
      "True\n",
      "True\n",
      "True\n",
      "False\n"
     ]
    }
   ],
   "source": [
    "# One Away: There are three types of edits that can be performed on strings: insert a character, remove a character, or replace a character. Given two strings, write a function to check if they are one edit (or zero edits) away.\n",
    "\n",
    "\n",
    "def one_away(str1, str2):\n",
    "    # If the length difference between the two strings is greater than 1, return False\n",
    "    if abs(len(str1) - len(str2)) > 1:\n",
    "        return False\n",
    "    # If the lengths are the same, check if there is more than one character difference\n",
    "    if len(str1) == len(str2):\n",
    "        diff_count = 0\n",
    "        for i in range(len(str1)):\n",
    "            if str1[i] != str2[i]:\n",
    "                diff_count += 1\n",
    "        return diff_count <= 1\n",
    "    # If the lengths are different, check if there is more than one character difference\n",
    "    else:\n",
    "        # Make str1 the shorter string\n",
    "        if len(str1) > len(str2):\n",
    "            str1, str2 = str2, str1\n",
    "        # Check if there is more than one character difference\n",
    "        diff_count = 0\n",
    "        i = 0\n",
    "        while i < len(str1):\n",
    "            if str1[i] != str2[i + diff_count]:\n",
    "                diff_count += 1\n",
    "                if diff_count > 1:\n",
    "                    return False\n",
    "            else:\n",
    "                i += 1\n",
    "        return True\n",
    "\n",
    "\n",
    "# test\n",
    "print(one_away('pale', 'ple'))\n",
    "print(one_away('pales', 'pale'))\n",
    "print(one_away('pale', 'bale'))\n",
    "print(one_away('pale', 'bake'))"
   ]
  },
  {
   "cell_type": "code",
   "execution_count": 6,
   "metadata": {},
   "outputs": [
    {
     "name": "stdout",
     "output_type": "stream",
     "text": [
      "a2b1c5a3\n"
     ]
    }
   ],
   "source": [
    "# String Compression: Implement a method to perform basic string compression using the counts of repeated characters. For example, the string aabcccccaaa would become a2blc5a3. If the \"compressed\" string would not become smaller than the original string, your method show Id return the original string. You can assume the string has only uppercase and lowercase letters (a - z).\n",
    "\n",
    "def string_compression(string):\n",
    "    # Create an empty string\n",
    "    compressed = ''\n",
    "    # Create a count variable initialized to 0\n",
    "    count = 0\n",
    "    # Loop through each character in the string\n",
    "    for i in range(len(string)):\n",
    "        # Increment the count\n",
    "        count += 1\n",
    "        # If the next character is different or we're at the end of the string\n",
    "        if i + 1 >= len(string) or string[i] != string[i + 1]:\n",
    "            # Add the current character and count to the compressed string\n",
    "            compressed += string[i] + str(count)\n",
    "            # Reset the count\n",
    "            count = 0\n",
    "    # Return the compressed string if it's smaller than the original string\n",
    "    return compressed if len(compressed) < len(string) else string\n",
    "\n",
    "# test\n",
    "print(string_compression('aabcccccaaa'))"
   ]
  },
  {
   "cell_type": "code",
   "execution_count": 7,
   "metadata": {},
   "outputs": [
    {
     "name": "stdout",
     "output_type": "stream",
     "text": [
      "[[7, 4, 1], [8, 5, 2], [9, 6, 3]]\n"
     ]
    }
   ],
   "source": [
    "# Rotate Matrix: Given an image represented by an NxN matrix, where each pixel in the image is 4 bytes, write a method to rotate the image by 90 degrees. Can you do this in place?\n",
    "\n",
    "def rotate_matrix(matrix):\n",
    "    # Check if the matrix is empty\n",
    "    if not matrix:\n",
    "        return False\n",
    "    # Check if the matrix is NxN\n",
    "    if len(matrix) != len(matrix[0]):\n",
    "        return False\n",
    "    # Get the length of the matrix\n",
    "    n = len(matrix)\n",
    "    # Loop through each layer of the matrix\n",
    "    for layer in range(n // 2):\n",
    "        # Get the first and last index of the layer\n",
    "        first = layer\n",
    "        last = n - 1 - layer\n",
    "        # Loop through each element in the layer\n",
    "        for i in range(first, last):\n",
    "            # Get the offset\n",
    "            offset = i - first\n",
    "            # Save the top element\n",
    "            top = matrix[first][i]\n",
    "            # Move left element to top\n",
    "            matrix[first][i] = matrix[last - offset][first]\n",
    "            # Move bottom element to left\n",
    "            matrix[last - offset][first] = matrix[last][last - offset]\n",
    "            # Move right element to bottom\n",
    "            matrix[last][last - offset] = matrix[i][last]\n",
    "            # Move top element to right\n",
    "            matrix[i][last] = top\n",
    "    return matrix\n",
    "\n",
    "# test\n",
    "matrix = [[1, 2, 3], [4, 5, 6], [7, 8, 9]]\n",
    "print(rotate_matrix(matrix))"
   ]
  },
  {
   "cell_type": "code",
   "execution_count": 8,
   "metadata": {},
   "outputs": [
    {
     "name": "stdout",
     "output_type": "stream",
     "text": [
      "[[1, 0, 3], [0, 0, 0], [7, 0, 9]]\n"
     ]
    }
   ],
   "source": [
    "# Zero Matrix: Write an algorithm such that if an element in an MxN matrix is 0, its entire row and column are set to 0. \n",
    "\n",
    "def zero_matrix(matrix):\n",
    "    # get the length of the matrix\n",
    "    m = len(matrix)\n",
    "    n = len(matrix[0])\n",
    "\n",
    "    # create a set to store the row and column indices of the zero elements\n",
    "    zero_rows = set()\n",
    "    zero_cols = set()\n",
    "\n",
    "    # loop through each element in the matrix\n",
    "    for i in range(m):\n",
    "        for j in range(n):\n",
    "            # if the element is zero, add the row and column indices to the set\n",
    "            if matrix[i][j] == 0:\n",
    "                zero_rows.add(i)\n",
    "                zero_cols.add(j)\n",
    "\n",
    "    # loop through each element in the matrix\n",
    "    for i in range(m):\n",
    "        for j in range(n):\n",
    "            # if the row or column index is in the set, set the element to zero\n",
    "            if i in zero_rows or j in zero_cols:\n",
    "                matrix[i][j] = 0\n",
    "\n",
    "    return matrix\n",
    "\n",
    "# test\n",
    "matrix = [[1, 2, 3], [4, 0, 6], [7, 8, 9]]\n",
    "print(zero_matrix(matrix))"
   ]
  }
 ],
 "metadata": {
  "kernelspec": {
   "display_name": "Python 3",
   "language": "python",
   "name": "python3"
  },
  "language_info": {
   "codemirror_mode": {
    "name": "ipython",
    "version": 3
   },
   "file_extension": ".py",
   "mimetype": "text/x-python",
   "name": "python",
   "nbconvert_exporter": "python",
   "pygments_lexer": "ipython3",
   "version": "3.10.6"
  },
  "orig_nbformat": 4
 },
 "nbformat": 4,
 "nbformat_minor": 2
}

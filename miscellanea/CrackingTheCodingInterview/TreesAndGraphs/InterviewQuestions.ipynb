{
 "cells": [
  {
   "cell_type": "code",
   "execution_count": 2,
   "metadata": {},
   "outputs": [],
   "source": [
    "class Node:\n",
    "    def __init__(self, name):\n",
    "        self.name = name\n",
    "        self.children = []\n",
    "        self.visited = False\n",
    "\n",
    "    def add_child(self, child):\n",
    "        self.children.append(child)\n",
    "\n",
    "    def __repr__(self):\n",
    "        return self.name"
   ]
  },
  {
   "cell_type": "code",
   "execution_count": 3,
   "metadata": {},
   "outputs": [
    {
     "name": "stdout",
     "output_type": "stream",
     "text": [
      "False\n"
     ]
    }
   ],
   "source": [
    "# Route Between Nodes: Given a directed graph, design an algorithm to find out whether there is a route between two nodes.\n",
    "\n",
    "# BFS spanning tree and then starting from the end node, check if there is a path to the start node\n",
    "\n",
    "from collections import deque\n",
    "   \n",
    "def route_between_nodes(start, end):\n",
    "    visited = set()\n",
    "    queue = deque()\n",
    "\n",
    "    while queue:\n",
    "        node = queue.popleft()\n",
    "        if node == end:\n",
    "            return True\n",
    "        for child in node.children:\n",
    "            if child not in visited:\n",
    "                queue.append(child)\n",
    "                visited.add(child)\n",
    "\n",
    "    return False\n",
    "\n",
    "# test\n",
    "a = Node('a')\n",
    "b = Node('b')\n",
    "c = Node('c')\n",
    "d = Node('d')\n",
    "e = Node('e')\n",
    "\n",
    "a.add_child(b)\n",
    "a.add_child(c)\n",
    "b.add_child(d)\n",
    "c.add_child(e)\n",
    "\n",
    "print(route_between_nodes(a, e))"
   ]
  },
  {
   "cell_type": "code",
   "execution_count": null,
   "metadata": {},
   "outputs": [],
   "source": [
    "# Minimal Tree: Given a sorted (increasing order) array with unique integer elements, write an algorithm to create a binary search tree with minimal height.\n",
    "\n",
    "# The root of the tree is the middle element of the array. The left subtree is the middle element of the left half of the array. The right subtree is the middle element of the right half of the array. Recursively do this until the array is empty.\n",
    "\n",
    "def minimal_tree(array):\n",
    "    if not array:\n",
    "        return None\n",
    "    mid = len(array) // 2\n",
    "    root = Node(array[mid]) \n",
    "    root.left = minimal_tree(array[:mid]) # array[:mid] is the left half of the array excluding the middle element\n",
    "    root.right = minimal_tree(array[mid + 1:]) # array[mid + 1:] is the right half of the array excluding the middle element\n",
    "    return root \n",
    "\n"
   ]
  },
  {
   "cell_type": "code",
   "execution_count": null,
   "metadata": {},
   "outputs": [],
   "source": [
    "# List of Depths: Given a binary tree, design an algorithm which creates a linked list of all the nodes at each depth (e.g., if you have a tree with depth D, you'll have D linked lists).\n",
    "\n"
   ]
  },
  {
   "cell_type": "code",
   "execution_count": null,
   "metadata": {},
   "outputs": [],
   "source": [
    "# Validate BST: Implement a function to check if a binary tree is a binary search tree.\n",
    "\n",
    "# In-order traversal of a BST should be sorted. If it is not sorted, then it is not a BST.\n",
    "\n",
    "def validate_bst(root):\n",
    "    if not root:\n",
    "        return True\n",
    "    if not validate_bst(root.left):\n",
    "        return False\n",
    "    if root.left and root.left.value > root.value:\n",
    "        return False\n",
    "    if not validate_bst(root.right):\n",
    "        return False\n",
    "    if root.right and root.right.value < root.value:\n",
    "        return False\n",
    "    return True\n",
    "\n"
   ]
  },
  {
   "cell_type": "code",
   "execution_count": null,
   "metadata": {},
   "outputs": [],
   "source": [
    "# Build Order: You are given a list of projects and a list of dependencies (which is a list of pairs of projects, where the second project is dependent on the first project). All of a project's dependencies must be built before the project is. Find a build order that will allow the projects to be built. If there is no valid build order, return an error.\n",
    "\n",
    "# EXAMPLE\n",
    "# Input:\n",
    "# projects: a, b, c, d, e, f\n",
    "# dependencies: (a, d), (f, b), (b, d), (f, a), (d, c)\n",
    "# Output: f, e, a, b, d, c\n",
    "\n",
    "# Topological sort\n",
    "\n",
    "from collections import defaultdict\n",
    "\n",
    "def build_order(projects, dependencies):\n",
    "    # Create a graph of the projects and their dependencies\n",
    "    graph = defaultdict(list)\n",
    "    for dependency in dependencies:\n",
    "        graph[dependency[0]].append(dependency[1])\n",
    "\n",
    "    # Keep track of the order of projects\n",
    "    stack = []\n",
    "\n",
    "    # Keep track of which nodes we've visited\n",
    "    visited = set()\n",
    "\n",
    "    # Do a DFS on each node\n",
    "    def dfs(node):\n",
    "        # If we've already visited this node, return early\n",
    "        if node in visited:\n",
    "            return\n",
    "\n",
    "        # Mark this node as visited\n",
    "        visited.add(node)\n",
    "\n",
    "        # Recursively visit each of this node's neighbors\n",
    "        for neighbor in graph[node]:\n",
    "            dfs(neighbor)\n",
    "\n",
    "        # Add this node to the stack\n",
    "        stack.append(node)\n",
    "\n",
    "    # Do a DFS on each node\n",
    "    for node in projects:\n",
    "        dfs(node)\n",
    "\n",
    "    # Return the stack in reverse order\n",
    "    return stack[::-1]\n"
   ]
  }
 ],
 "metadata": {
  "kernelspec": {
   "display_name": "Python 3",
   "language": "python",
   "name": "python3"
  },
  "language_info": {
   "codemirror_mode": {
    "name": "ipython",
    "version": 3
   },
   "file_extension": ".py",
   "mimetype": "text/x-python",
   "name": "python",
   "nbconvert_exporter": "python",
   "pygments_lexer": "ipython3",
   "version": "3.10.6"
  },
  "orig_nbformat": 4
 },
 "nbformat": 4,
 "nbformat_minor": 2
}

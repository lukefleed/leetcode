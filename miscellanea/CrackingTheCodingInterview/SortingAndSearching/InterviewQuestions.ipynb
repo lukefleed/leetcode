{
 "cells": [
  {
   "cell_type": "code",
   "execution_count": 2,
   "metadata": {},
   "outputs": [],
   "source": [
    "# Group Anagrams: Write a method to sort an array of strings so that all the anagrams are next to each other.\n",
    "\n",
    "def is_anagram(s: str) -> bool:\n",
    "    return s == s[::-1]\n",
    "\n",
    "def group_anagrams(strings: list) -> list:\n",
    "    return sorted(strings, key=is_anagram)"
   ]
  },
  {
   "cell_type": "code",
   "execution_count": null,
   "metadata": {},
   "outputs": [],
   "source": [
    "# search in rotated array: Given a sorted array of n integers that has been rotated an unknown number of times, write code to find an element in the array. You may assume that the array was originally sorted in increasing order.\n",
    "\n",
    "def search_in_rotated_array(array: list) -> int:\n",
    "    for i in range(len(array)):\n",
    "        if array[i] > array[i + 1]:\n",
    "            return i + 1\n",
    "        \n",
    "\n"
   ]
  },
  {
   "cell_type": "code",
   "execution_count": null,
   "metadata": {},
   "outputs": [],
   "source": [
    "# Sort Big File: Imagine you have a 20 GB file with one string per line. Explain how you would sort the file.\n",
    "\n",
    "# solution: divide the file into chunks which are x megabytes each, where x is the amount of memory we have available. Each chunk is sorted separately and then saved back to the file system. Once all the chunks are sorted, we merge the chunks, one by one. At the end, we have a fully sorted file. This algorithm is known as external sort."
   ]
  },
  {
   "cell_type": "code",
   "execution_count": null,
   "metadata": {},
   "outputs": [],
   "source": [
    "#  Find Duplicates: You have an array with all the numbers from 1 to N, where N is at most 32,000. The array may have duplicate entries and you do not know what N is. With only 4 kilobytes of memory available, how would you print all duplicate elements in the array?\n",
    "\n",
    "# solution: we have 4 kilobytes of memory which means we can address up to 8 * 4 * 210 bits. With 32,000 numbers and 8 bits in a byte, we have just enough bits to map all the integers to a bit vector."
   ]
  },
  {
   "cell_type": "code",
   "execution_count": null,
   "metadata": {},
   "outputs": [],
   "source": [
    "# Sorted Matrix Search: Given an M x N matrix in which each row and each column is sorted in ascending order, write a method to find an element.\n",
    "\n",
    "# solution: we can do a binary search on each row. We start with the middle row and find the element. If it's not there, we search the upper or lower half of that row. We then do binary search on that half and continue this process until we find the element.\n",
    "\n",
    "def sorted_matrix_search(matrix: list, element: int):\n",
    "    \n",
    "    def binary_search(row: list, element: int) -> bool:\n",
    "        l , r = row[0], row[-1]\n",
    "        middle = (l+r)//2\n",
    "        while l < r :\n",
    "            if row[middle] == element:\n",
    "                return True\n",
    "            elif row[middle] < element:\n",
    "                l = middle\n",
    "            elif row[middle] > element:\n",
    "                r = middle \n",
    "        return False\n",
    "    \n",
    "    for row in matrix:\n",
    "        if element < row[-1] and element > row[0]:\n",
    "            if binary_search(row, element):\n",
    "                return True\n",
    "\n"
   ]
  }
 ],
 "metadata": {
  "kernelspec": {
   "display_name": "Python 3",
   "language": "python",
   "name": "python3"
  },
  "language_info": {
   "codemirror_mode": {
    "name": "ipython",
    "version": 3
   },
   "file_extension": ".py",
   "mimetype": "text/x-python",
   "name": "python",
   "nbconvert_exporter": "python",
   "pygments_lexer": "ipython3",
   "version": "3.10.6"
  },
  "orig_nbformat": 4
 },
 "nbformat": 4,
 "nbformat_minor": 2
}

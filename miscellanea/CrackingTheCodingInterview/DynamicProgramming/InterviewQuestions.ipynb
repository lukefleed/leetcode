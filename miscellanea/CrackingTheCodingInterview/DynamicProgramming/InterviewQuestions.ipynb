{
 "cells": [
  {
   "cell_type": "code",
   "execution_count": null,
   "metadata": {},
   "outputs": [],
   "source": [
    "# Triple Step: A child is running up a staircase with n steps and can hop either 1 step, 2 steps, or 3 steps at a time. Implement a method to count how many possible ways the child can run up the stairs.\n",
    "\n",
    "def triple_step(n):\n",
    "    if n < 0:\n",
    "        return 0\n",
    "    elif n == 0:\n",
    "        return 1\n",
    "    else:\n",
    "        memo = [None] * (n + 1) # memo[i] = number of ways to reach step i\n",
    "        memo[0] = 1 # base case \n",
    "        memo[1] = 1 # base case\n",
    "        memo[2] = 2 # base case\n",
    "        for i in range(3, n + 1):\n",
    "            memo[i] = memo[i - 1] + memo[i - 2] + memo[i - 3] # recurrence relation\n",
    "        return memo[n]"
   ]
  },
  {
   "cell_type": "code",
   "execution_count": null,
   "metadata": {},
   "outputs": [],
   "source": [
    "# Robot in a Grid: Imagine a robot sitting on the upper left corner of grid with r rows and c columns. The robot can only move in two directions, right and down, but certain cells are \"off limits\" such that the robot cannot step on them. Design an algorithm to find a path for the robot from the top left to the bottom right.\n",
    "\n",
    "def robot_in_a_grid(grid):\n",
    "\n",
    "    def get_path(grid, row, col, path):\n",
    "        if col < 0 or row < 0 or not grid[row][col]: # if out of bounds or not valid\n",
    "            return False\n",
    "        is_at_origin = (row == 0) and (col == 0) # if at origin\n",
    "        if is_at_origin or get_path(grid, row, col - 1, path) or get_path(grid, row - 1, col, path): # if at origin or if path exists to left or if path exists to top\n",
    "            path.append((row, col))  # add current cell to path\n",
    "            return True # path exists\n",
    "        return False # path does not exist\n",
    "\n",
    "    if grid is None or len(grid) == 0: # if grid is None or empty\n",
    "        return None # no path exists\n",
    "    path = [] # path is empty\n",
    "    if get_path(grid, len(grid) - 1, len(grid[0]) - 1, path): # if path exists\n",
    "        return path\n",
    "    return None\n",
    "\n"
   ]
  },
  {
   "cell_type": "code",
   "execution_count": null,
   "metadata": {},
   "outputs": [],
   "source": [
    "# Magic Index: A magic index in an array A[0...n-1] is defined to be an index such that A[i] = i. Given a sorted array of distinct integers, write a method to find a magic index, if one exists, in array A.\n",
    "\n",
    "def magic_index(array):\n",
    "    if array is None or len(array) == 0: # if array is None or empty\n",
    "        return None # no magic index exists\n",
    "    for i in range(len(array)):\n",
    "        if array[i] == i:\n",
    "            return i\n",
    "    return None\n"
   ]
  },
  {
   "cell_type": "code",
   "execution_count": null,
   "metadata": {},
   "outputs": [],
   "source": [
    "# Power Set: Write a method to return all subsets of a set.\n",
    "\n",
    "def power_set(set):\n",
    "    if set is None: # if set is None\n",
    "        return None # no power set exists\n",
    "    power_set = [[]] # power set is empty set\n",
    "    for element in set: \n",
    "        for i in range(len(power_set)): # for each subset in power set\n",
    "            subset = power_set[i] + [element] # add element to each subset\n",
    "            power_set.append(subset) # add subset to power set\n",
    "    return power_set\n",
    "\n"
   ]
  },
  {
   "cell_type": "code",
   "execution_count": null,
   "metadata": {},
   "outputs": [],
   "source": [
    "# Permuation without Dups: Write a method to compute all permutations of a string of unique characters.\n",
    "\n",
    "def permutation_without_dups(string):\n",
    "    if string is None: # if string is None\n",
    "        return None # no permutation exists\n",
    "    if len(string) == 0: # if string is empty\n",
    "        return [''] # permutation is empty string\n",
    "    permutations = [] # permutations is empty\n",
    "    for i in range(len(string)):\n",
    "        prefix = string[i] # prefix is ith character of string\n",
    "        suffix = string[:i] + string[i + 1:] # suffix is string without ith character\n",
    "        for permutation in permutation_without_dups(suffix): # for each permutation of suffix\n",
    "            permutations.append(prefix + permutation) # add prefix to permutation\n",
    "    return permutations"
   ]
  },
  {
   "cell_type": "code",
   "execution_count": null,
   "metadata": {},
   "outputs": [],
   "source": [
    "# Coins: Given an infinite number of quarters (25 cents), dimes (10 cents), nickels (5 cents), and pennies (1 cent), write code to calculate the number of ways of representing n cents.\n",
    "\n",
    "def coins_dp(n):\n",
    "    if n < 0:\n",
    "        return 0\n",
    "    elif n == 0:\n",
    "        return 1\n",
    "    else:\n",
    "        memo = [None] * (n + 1) # memo[i] = number of ways to represent i cents\n",
    "        memo[0] = 1 # base case\n",
    "        for i in range(1, n + 1):\n",
    "            memo[i] = 0 # initialize to 0\n",
    "            if i >= 25:\n",
    "                memo[i] += memo[i - 25] # add number of ways to represent i - 25 cents\n",
    "            if i >= 10:\n",
    "                memo[i] += memo[i - 10] # add number of ways to represent i - 10 cents\n",
    "            if i >= 5:\n",
    "                memo[i] += memo[i - 5] # add number of ways to represent i - 5 cents\n",
    "            memo[i] += memo[i - 1] # add number of ways to represent i - 1 cents\n",
    "        return memo[n]\n",
    "    "
   ]
  }
 ],
 "metadata": {
  "language_info": {
   "name": "python"
  },
  "orig_nbformat": 4
 },
 "nbformat": 4,
 "nbformat_minor": 2
}

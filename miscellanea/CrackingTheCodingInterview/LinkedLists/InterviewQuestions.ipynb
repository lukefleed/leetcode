{
 "cells": [
  {
   "cell_type": "code",
   "execution_count": 2,
   "metadata": {},
   "outputs": [],
   "source": [
    "# class for a linked list \n",
    "class LinkedList:\n",
    "    def __init__(self, value):\n",
    "        self.value = value\n",
    "        self.next = None\n",
    "\n",
    "# class for a doubly linked list\n",
    "class DoublyLinkedList:\n",
    "    def __init__(self, value):\n",
    "        self.value = value\n",
    "        self.next = None\n",
    "        self.prev = None\n",
    "\n",
    "# function to print a linked list\n",
    "def printLinkedList(head):\n",
    "    node = head\n",
    "    while node is not None:\n",
    "        print(node.value)\n",
    "        node = node.next"
   ]
  },
  {
   "cell_type": "code",
   "execution_count": 3,
   "metadata": {},
   "outputs": [],
   "source": [
    "# Rsmovs Oups: Write code to remove duplicates from an unsorted linked list. Do not use temporary buffer\n",
    "\n",
    "def removeDumps(head: LinkedList) -> LinkedList:\n",
    "    node = head\n",
    "    while node is not None:\n",
    "        # loop invariant: all nodes before `node` have no duplicates\n",
    "        node2 = node\n",
    "        while node2.next is not None:\n",
    "            # loop invariant: all nodes between `node` and `node2` have no duplicates\n",
    "            if node2.next.value == node.value:\n",
    "                # delete duplicate\n",
    "                node2.next = node2.next.next\n",
    "            else:\n",
    "                # move to the next node\n",
    "                node2 = node2.next\n",
    "        # move to the next node\n",
    "        node = node.next\n",
    "    return head"
   ]
  },
  {
   "cell_type": "code",
   "execution_count": null,
   "metadata": {},
   "outputs": [],
   "source": [
    "# Return Kth to Last: Implement an algorithm to find the kth to last element of a singly linked list\n",
    "\n",
    "def kthToLast(head: LinkedList, k: int) -> LinkedList:\n",
    "    node = head\n",
    "    # move `k` nodes forward\n",
    "    for _ in range(k):\n",
    "        node = node.next\n",
    "    # move both pointers until the end of the list\n",
    "    node2 = head\n",
    "    while node is not None:\n",
    "        node = node.next\n",
    "        node2 = node2.next\n",
    "    return node2"
   ]
  },
  {
   "cell_type": "code",
   "execution_count": 4,
   "metadata": {},
   "outputs": [],
   "source": [
    "# Delete Middle Node: Implement an algorithm to delete a node in the middle (i.e., any node but the first and last node, not necessarily the exact middle) of a singly linked list, given only access to that node.\n",
    "\n",
    "def deleteMiddleNode(node: LinkedList) -> None:\n",
    "    # Copy the value of the next node to the current node\n",
    "    node.value = node.next.value\n",
    "    # Remove the next node by skipping it\n",
    "    node.next = node.next.next"
   ]
  },
  {
   "cell_type": "code",
   "execution_count": 7,
   "metadata": {},
   "outputs": [
    {
     "name": "stdout",
     "output_type": "stream",
     "text": [
      "3\n",
      "2\n",
      "1\n",
      "5\n",
      "8\n",
      "5\n",
      "10\n"
     ]
    }
   ],
   "source": [
    "# Partition: Write code to partition a linked list around a value x, such that all nodes less than x come before all nodes greater than or equal to x. lf x is contained within the list, the values of x only need to be after the elements less than x (see below). The partition element x can appear anywhere in the \"right partition\"; it does not need to appear between the left and right partitions.\n",
    "\n",
    "# EXAMPLE\n",
    "# Input:\n",
    "#  3 - > 5 - > 8 - > 5 - > 10 - > 2 - > 1 [partition = S]\n",
    "# Output:\n",
    "#  3 -> 1 -> 2 -> 10 -> 5 -> 5 -> 8\n",
    "\n",
    "def partition(head: LinkedList, x: int) -> LinkedList:\n",
    "    # create two linked lists\n",
    "    head1 = LinkedList(0)\n",
    "    head2 = LinkedList(0)\n",
    "    # create two pointers\n",
    "    node1 = head1\n",
    "    node2 = head2\n",
    "    # loop invariant: all nodes before `node1` are less than `x`\n",
    "    # loop invariant: all nodes before `node2` are greater than or equal to `x`\n",
    "    node = head\n",
    "    while node is not None:\n",
    "        if node.value < x:\n",
    "            node1.next = node\n",
    "            node1 = node1.next\n",
    "        else:\n",
    "            node2.next = node\n",
    "            node2 = node2.next\n",
    "        node = node.next\n",
    "    # connect the two linked lists\n",
    "    node1.next = head2.next\n",
    "    node2.next = None\n",
    "    return head1.next\n",
    "   \n",
    "# test with the example\n",
    "head = LinkedList(3)\n",
    "head.next = LinkedList(5)\n",
    "head.next.next = LinkedList(8)\n",
    "head.next.next.next = LinkedList(5)\n",
    "head.next.next.next.next = LinkedList(10)\n",
    "head.next.next.next.next.next = LinkedList(2)\n",
    "head.next.next.next.next.next.next = LinkedList(1)\n",
    "\n",
    "printLinkedList(partition(head, 5))\n"
   ]
  }
 ],
 "metadata": {
  "kernelspec": {
   "display_name": "Python 3",
   "language": "python",
   "name": "python3"
  },
  "language_info": {
   "codemirror_mode": {
    "name": "ipython",
    "version": 3
   },
   "file_extension": ".py",
   "mimetype": "text/x-python",
   "name": "python",
   "nbconvert_exporter": "python",
   "pygments_lexer": "ipython3",
   "version": "3.10.6"
  },
  "orig_nbformat": 4
 },
 "nbformat": 4,
 "nbformat_minor": 2
}

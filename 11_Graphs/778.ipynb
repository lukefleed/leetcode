{
 "cells": [
  {
   "cell_type": "markdown",
   "metadata": {},
   "source": [
    "![](https://i.imgur.com/LPIpqlH.png)"
   ]
  },
  {
   "cell_type": "code",
   "execution_count": null,
   "metadata": {},
   "outputs": [],
   "source": [
    "class Solution:\n",
    "    def swimInWater(self, grid: List[List[int]]) -> int:\n",
    "        N = len(grid)\n",
    "        visit = set()\n",
    "        minH = [[grid[0][0], 0, 0]]  # (time/max-height, r, c)\n",
    "        directions = [[0, 1], [0, -1], [1, 0], [-1, 0]]\n",
    "\n",
    "        visit.add((0, 0))\n",
    "        while minH:\n",
    "            t, r, c = heapq.heappop(minH)\n",
    "            if r == N - 1 and c == N - 1:\n",
    "                return t\n",
    "            for dr, dc in directions:\n",
    "                neiR, neiC = r + dr, c + dc\n",
    "                if (\n",
    "                    neiR < 0\n",
    "                    or neiC < 0\n",
    "                    or neiR == N\n",
    "                    or neiC == N\n",
    "                    or (neiR, neiC) in visit\n",
    "                ):\n",
    "                    continue\n",
    "                visit.add((neiR, neiC))\n",
    "                heapq.heappush(minH, [max(t, grid[neiR][neiC]), neiR, neiC])"
   ]
  }
 ],
 "metadata": {
  "kernelspec": {
   "display_name": "Python 3.10.6 64-bit",
   "language": "python",
   "name": "python3"
  },
  "language_info": {
   "name": "python",
   "version": "3.10.6"
  },
  "orig_nbformat": 4,
  "vscode": {
   "interpreter": {
    "hash": "916dbcbb3f70747c44a77c7bcd40155683ae19c65e1c03b4aa3499c5328201f1"
   }
  }
 },
 "nbformat": 4,
 "nbformat_minor": 2
}

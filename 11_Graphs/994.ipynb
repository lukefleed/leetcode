{
 "cells": [
  {
   "cell_type": "markdown",
   "metadata": {},
   "source": [
    "![](https://i.imgur.com/BJg2zLd.png)"
   ]
  },
  {
   "cell_type": "code",
   "execution_count": null,
   "metadata": {},
   "outputs": [],
   "source": [
    "from collections import deque\n",
    "\n",
    "\n",
    "class Solution:\n",
    "    def orangesRotting(self, grid: List[List[int]]) -> int:\n",
    "        # we can use a BFS approach\n",
    "        # we can use a queue to store the rotten oranges\n",
    "\n",
    "        q = deque()\n",
    "        time, fresh = 0, 0\n",
    "\n",
    "        ROWS, COLS = len(grid), len(grid[0])\n",
    "\n",
    "        for r in range(ROWS): \n",
    "            for c in range(COLS):\n",
    "                # count the fresh oranges\n",
    "                if grid[r][c] == 1:\n",
    "                    fresh += 1\n",
    "                # add the rotten oranges to the queue\n",
    "                elif grid[r][c] == 2:\n",
    "                    q.append((r, c))\n",
    "\n",
    "        directions = [(0, 1), (0, -1), (1, 0), (-1, 0)]\n",
    "\n",
    "        while q and fresh > 0: # while there are rotten oranges and fresh oranges\n",
    "            \n",
    "            for i in range(len(q)):\n",
    "                r, c = q.popleft()\n",
    "                for dr, dc in directions:\n",
    "                    row, col = r + dr, c + dc\n",
    "                    # if in bounds and fresh, make it rotten\n",
    "                    if (row < 0 or row == len(grid) or\n",
    "                        col < 0 or col == len(grid[0]) or\n",
    "                        grid[row][col] != 1):\n",
    "                        continue\n",
    "                    grid[row][col] = 2\n",
    "                    fresh -= 1\n",
    "                    q.append((row, col))\n",
    "            time += 1\n",
    "        return time if fresh == 0 else -1\n",
    "\n",
    "     \n",
    "        \n",
    "\n",
    "\n",
    "\n"
   ]
  }
 ],
 "metadata": {
  "language_info": {
   "name": "python"
  },
  "orig_nbformat": 4
 },
 "nbformat": 4,
 "nbformat_minor": 2
}

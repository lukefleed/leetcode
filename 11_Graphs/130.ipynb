{
 "cells": [
  {
   "cell_type": "markdown",
   "metadata": {},
   "source": [
    "![](https://i.imgur.com/rjbbrZ4.png)"
   ]
  },
  {
   "cell_type": "code",
   "execution_count": null,
   "metadata": {},
   "outputs": [],
   "source": [
    "class Solution:\n",
    "    def solve(self, board: List[List[str]]) -> None:\n",
    "        \"\"\"\n",
    "        Do not return anything, modify board in-place instead.\n",
    "        \"\"\"\n",
    "        ROWS, COLS = len(board), len(board[0])\n",
    "\n",
    "        \"\"\"\n",
    "        We can see the reverse problem: capture everything except the unsurrounded regions\n",
    "\n",
    "        Scan every border cell, if we find a 'O', we rename it to 'T' as temporary name. There is no possibility that 'T' will be surrounded. \n",
    "\n",
    "        Then we scan the whole board, if we find a 'O', we rename it to 'X' as it is surrounded.\n",
    "        \n",
    "        Finally, we scan the whole board  border again, if we find a 'T', we rename it to 'O' as it is not surrounded.\n",
    "        \"\"\"\n",
    "\n",
    "        # O(mn) time, O(mn) space\n",
    "\n",
    "        def dfs(r, c):\n",
    "            if (r < 0 or r == ROWS or c < 0 or c == COLS or board[r][c] != 'O'):\n",
    "                return\n",
    "\n",
    "            board[r][c] = 'T'\n",
    "            dfs(r + 1, c)\n",
    "            dfs(r - 1, c)\n",
    "            dfs(r, c + 1)\n",
    "            dfs(r, c - 1)\n",
    "\n",
    "\n",
    "        # Fase 1: (DFS) Capture the unsurrounded regions (O -> T)\n",
    "        for r in range(ROWS):\n",
    "            for c in range(COLS):\n",
    "                if board[r][c] == \"O\" and (r in [0, ROWS - 1] or c in [0, COLS - 1]):\n",
    "                    dfs(r, c)\n",
    "\n",
    "\n",
    "        # Fase 2: Capture the surrounded regions (O -> X)\n",
    "        for r in range(ROWS):\n",
    "            for c in range(COLS):\n",
    "                if board[r][c] == \"O\":\n",
    "                    board[r][c] = \"X\"\n",
    "\n",
    "\n",
    "        # Fase 3: Rename the unsurrounded regions (T -> O)\n",
    "        for r in range(ROWS):\n",
    "            for c in range(COLS):\n",
    "                if board[r][c] == \"T\":\n",
    "                    board[r][c] = \"O\"     \n",
    "                "
   ]
  }
 ],
 "metadata": {
  "kernelspec": {
   "display_name": "Python 3.10.6 64-bit",
   "language": "python",
   "name": "python3"
  },
  "language_info": {
   "name": "python",
   "version": "3.10.6"
  },
  "orig_nbformat": 4,
  "vscode": {
   "interpreter": {
    "hash": "916dbcbb3f70747c44a77c7bcd40155683ae19c65e1c03b4aa3499c5328201f1"
   }
  }
 },
 "nbformat": 4,
 "nbformat_minor": 2
}

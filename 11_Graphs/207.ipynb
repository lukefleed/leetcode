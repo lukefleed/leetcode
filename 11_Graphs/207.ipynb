{
 "cells": [
  {
   "cell_type": "markdown",
   "metadata": {},
   "source": [
    "![](https://i.imgur.com/Kr2KBH8.png)"
   ]
  },
  {
   "cell_type": "code",
   "execution_count": 1,
   "metadata": {},
   "outputs": [],
   "source": [
    "from typing import List"
   ]
  },
  {
   "cell_type": "code",
   "execution_count": 2,
   "metadata": {},
   "outputs": [],
   "source": [
    "class Solution:\n",
    "    def canFinish(self, numCourses: int, prerequisites: List[List[int]]) -> bool:\n",
    "        preMap = {i: [] for i in range(numCourses)} # map each course to its prerequisites\n",
    "\n",
    "        for crs,pre in prerequisites:\n",
    "            preMap[crs].append(pre) # add the prerequisite to the course\n",
    "\n",
    "        visiting = set() # visiting set to keep track of courses that are being visited\n",
    "\n",
    "        def dfs(crs):\n",
    "            if crs in visiting: # if the course is already being visited, then there is a cycle\n",
    "                return False\n",
    "            if preMap[crs] == []: # if the course has no prerequisites, then it is a leaf node\n",
    "                return True\n",
    "\n",
    "            visiting.add(crs) # add the course to the visiting set\n",
    "            for pre in preMap[crs]: # for each prerequisite of the course\n",
    "                if not dfs(pre): # if the prerequisite is not a leaf node, then there is a cycle\n",
    "                    return False \n",
    "            visiting.remove(crs)  # remove the course from the visiting set\n",
    "            preMap[crs] = []  # remove the course from the map\n",
    "            return True\n",
    "\n",
    "        for c in range(numCourses): # the reason we loop through all courses is because we don't know if the graph is connected or not\n",
    "            if not dfs(c):\n",
    "                return False\n",
    "        return True"
   ]
  }
 ],
 "metadata": {
  "kernelspec": {
   "display_name": "Python 3.10.6 64-bit",
   "language": "python",
   "name": "python3"
  },
  "language_info": {
   "codemirror_mode": {
    "name": "ipython",
    "version": 3
   },
   "file_extension": ".py",
   "mimetype": "text/x-python",
   "name": "python",
   "nbconvert_exporter": "python",
   "pygments_lexer": "ipython3",
   "version": "3.10.6"
  },
  "orig_nbformat": 4,
  "vscode": {
   "interpreter": {
    "hash": "916dbcbb3f70747c44a77c7bcd40155683ae19c65e1c03b4aa3499c5328201f1"
   }
  }
 },
 "nbformat": 4,
 "nbformat_minor": 2
}

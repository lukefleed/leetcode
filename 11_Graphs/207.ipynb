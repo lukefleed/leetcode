{
 "cells": [
  {
   "cell_type": "markdown",
   "metadata": {},
   "source": [
    "![](https://i.imgur.com/Kr2KBH8.png)"
   ]
  },
  {
   "cell_type": "code",
   "execution_count": 1,
   "metadata": {},
   "outputs": [],
   "source": [
    "from typing import List"
   ]
  },
  {
   "cell_type": "code",
   "execution_count": 2,
   "metadata": {},
   "outputs": [],
   "source": [
    "class Solution:\n",
    "    def canFinish(self, numCourses: int, prerequisites: List[List[int]]) -> bool:\n",
    "        preMap = {i: [] for i in range(numCourses)} # map each course to its prerequisites\n",
    "\n",
    "        for crs,pre in prerequisites:\n",
    "            preMap[crs].append(pre)\n",
    "\n",
    "        visiting = set() # visiting set to keep track of courses that are being visited\n",
    "\n",
    "        def dfs(crs):\n",
    "            if crs in visiting:\n",
    "                return False\n",
    "            if preMap[crs] == []:\n",
    "                return True\n",
    "\n",
    "            visiting.add(crs)\n",
    "            for pre in preMap[crs]:\n",
    "                if not dfs(pre):\n",
    "                    return False \n",
    "            visiting.remove(crs)\n",
    "            preMap[crs] = []\n",
    "            return True\n",
    "\n",
    "        for c in range(numCourses): # the reason we loop through all courses is becouse we don't know if the graph i connected or not\n",
    "            if not dfs(c):\n",
    "                return False\n",
    "        return True"
   ]
  }
 ],
 "metadata": {
  "kernelspec": {
   "display_name": "Python 3.10.6 64-bit",
   "language": "python",
   "name": "python3"
  },
  "language_info": {
   "codemirror_mode": {
    "name": "ipython",
    "version": 3
   },
   "file_extension": ".py",
   "mimetype": "text/x-python",
   "name": "python",
   "nbconvert_exporter": "python",
   "pygments_lexer": "ipython3",
   "version": "3.10.6"
  },
  "orig_nbformat": 4,
  "vscode": {
   "interpreter": {
    "hash": "e7370f93d1d0cde622a1f8e1c04877d8463912d04d973331ad4851f04de6915a"
   }
  }
 },
 "nbformat": 4,
 "nbformat_minor": 2
}

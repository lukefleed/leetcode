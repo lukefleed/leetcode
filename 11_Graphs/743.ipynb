{
 "cells": [
  {
   "cell_type": "markdown",
   "metadata": {},
   "source": [
    "![](https://i.imgur.com/lRMxgyR.png)"
   ]
  },
  {
   "cell_type": "code",
   "execution_count": null,
   "metadata": {},
   "outputs": [],
   "source": [
    "from typing import List\n",
    "from collections import defaultdict\n",
    "import heapq "
   ]
  },
  {
   "cell_type": "code",
   "execution_count": null,
   "metadata": {},
   "outputs": [],
   "source": [
    "# Basic Dijkstra's algorithm\n",
    "\n",
    "class Solution:\n",
    "    def networkDelayTime(self, times: List[List[int]], n: int, k: int) -> int:\n",
    "        edges = collections.defaultdict(list)\n",
    "        for u, v, w in times:\n",
    "            edges[u].append((w, v)) # (weight, vertex)\n",
    "\n",
    "        minHeap = [(0, k)] # (weight, vertex)\n",
    "        visit = set()\n",
    "        t = 0\n",
    "\n",
    "        while minHeap:\n",
    "            w, u = heapq.heappop(minHeap)\n",
    "            if u in visit:\n",
    "                continue\n",
    "            visit.add(u)\n",
    "            t = max(t, w)\n",
    "            # BFS portion\n",
    "\n",
    "            for w2, v in edges[u]:\n",
    "                if v not in visit: \n",
    "                    heapq.heappush(minHeap, (w + w2, v)) # total path weight, vertex\n",
    "\n",
    "        return t if len(visit) == n else -1"
   ]
  }
 ],
 "metadata": {
  "language_info": {
   "name": "python"
  },
  "orig_nbformat": 4
 },
 "nbformat": 4,
 "nbformat_minor": 2
}

{
 "cells": [
  {
   "cell_type": "markdown",
   "metadata": {},
   "source": [
    "![](https://i.imgur.com/DhyeZfh.png)"
   ]
  },
  {
   "cell_type": "code",
   "execution_count": 1,
   "metadata": {},
   "outputs": [],
   "source": [
    "from typing import List"
   ]
  },
  {
   "cell_type": "code",
   "execution_count": 2,
   "metadata": {},
   "outputs": [],
   "source": [
    "class Solution:\n",
    "    def numIslands(self, grid: List[List[str]]) -> int:\n",
    "        if not grid or not grid[0]:\n",
    "            return 0\n",
    "\n",
    "        islands = 0\n",
    "        visit = set()\n",
    "        rows, cols = len(grid), len(grid[0])\n",
    "\n",
    "        def dfs(r, c):\n",
    "            if (\n",
    "                r not in range(rows) # row out of bounds\n",
    "                or c not in range(cols) # col out of bounds\n",
    "                or grid[r][c] == \"0\" # water\n",
    "                or (r, c) in visit # already visited\n",
    "            ):\n",
    "                return\n",
    "\n",
    "            visit.add((r, c)) # mark as visited\n",
    "            directions = [[0, 1], [0, -1], [1, 0], [-1, 0]]  # right, left, down, up\n",
    "            for dr, dc in directions: # explore all directions\n",
    "                dfs(r + dr, c + dc)\n",
    "\n",
    "        for r in range(rows):\n",
    "            for c in range(cols):\n",
    "                if grid[r][c] == \"1\" and (r, c) not in visit: # land and not visited\n",
    "                    islands += 1 # found new island\n",
    "                    dfs(r, c) # explore island\n",
    "        return islands"
   ]
  }
 ],
 "metadata": {
  "kernelspec": {
   "display_name": "Python 3.10.6 64-bit",
   "language": "python",
   "name": "python3"
  },
  "language_info": {
   "codemirror_mode": {
    "name": "ipython",
    "version": 3
   },
   "file_extension": ".py",
   "mimetype": "text/x-python",
   "name": "python",
   "nbconvert_exporter": "python",
   "pygments_lexer": "ipython3",
   "version": "3.10.6"
  },
  "orig_nbformat": 4,
  "vscode": {
   "interpreter": {
    "hash": "916dbcbb3f70747c44a77c7bcd40155683ae19c65e1c03b4aa3499c5328201f1"
   }
  }
 },
 "nbformat": 4,
 "nbformat_minor": 2
}

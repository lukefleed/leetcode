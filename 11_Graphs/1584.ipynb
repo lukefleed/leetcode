{
 "cells": [
  {
   "cell_type": "markdown",
   "metadata": {},
   "source": [
    "![](https://i.imgur.com/WT2mYvF.png)\n",
    "![](https://i.imgur.com/ke6Q5Oi.png)"
   ]
  },
  {
   "cell_type": "code",
   "execution_count": 4,
   "metadata": {},
   "outputs": [],
   "source": [
    "class Solution:\n",
    "    def minCostConnectPoints(self, points: List[List[int]]) -> int:\n",
    "        N = len(points)\n",
    "        # create the adjacency list\n",
    "        adj = {i: [] for i in range(N)} # {node: [(cost, node), ...]}\n",
    "        \n",
    "        for i in range(N):\n",
    "            x1, y1 = points[i]\n",
    "            for j in range(i+1, N):\n",
    "                x2, y2 = points[j]\n",
    "                dist = abs(x1-x2) + abs(y1-y2)\n",
    "                adj[i].append((dist, j))\n",
    "                adj[j].append((dist, i))\n",
    "\n",
    "        # Prim's algorithm\n",
    "        res = 0 \n",
    "        visited = set() # visited nodes\n",
    "        heap = [(0, 0)] # (cost, node)\n",
    "        while len(visited) < N:\n",
    "            cost, node = heapq.heappop(heap) # get the node with the smallest cost\n",
    "            if node in visited: \n",
    "                continue\n",
    "            visited.add(node) # mark the node as visited\n",
    "            res += cost\n",
    "            for cost, nei in adj[node]: # add the neighbors of the \n",
    "                if nei not in visited:\n",
    "                    heapq.heappush(heap, (cost, nei)) # add the neighbor to the heap\n",
    "        return res\n",
    "        "
   ]
  },
  {
   "cell_type": "code",
   "execution_count": 6,
   "metadata": {},
   "outputs": [
    {
     "data": {
      "text/plain": [
       "20"
      ]
     },
     "execution_count": 6,
     "metadata": {},
     "output_type": "execute_result"
    }
   ],
   "source": [
    "points = [[0,0],[2,2],[3,10],[5,2],[7,0]]\n",
    "Solution().minCostConnectPoints(points)"
   ]
  },
  {
   "cell_type": "code",
   "execution_count": 7,
   "metadata": {},
   "outputs": [
    {
     "data": {
      "text/plain": [
       "18"
      ]
     },
     "execution_count": 7,
     "metadata": {},
     "output_type": "execute_result"
    }
   ],
   "source": [
    "points = [[3,12],[-2,5],[-4,1]]\n",
    "Solution().minCostConnectPoints(points)"
   ]
  }
 ],
 "metadata": {
  "kernelspec": {
   "display_name": "Python 3.10.6 64-bit",
   "language": "python",
   "name": "python3"
  },
  "language_info": {
   "codemirror_mode": {
    "name": "ipython",
    "version": 3
   },
   "file_extension": ".py",
   "mimetype": "text/x-python",
   "name": "python",
   "nbconvert_exporter": "python",
   "pygments_lexer": "ipython3",
   "version": "3.10.6"
  },
  "orig_nbformat": 4,
  "vscode": {
   "interpreter": {
    "hash": "916dbcbb3f70747c44a77c7bcd40155683ae19c65e1c03b4aa3499c5328201f1"
   }
  }
 },
 "nbformat": 4,
 "nbformat_minor": 2
}

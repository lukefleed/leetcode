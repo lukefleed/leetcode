{
 "cells": [
  {
   "cell_type": "markdown",
   "metadata": {},
   "source": [
    "![](https://i.imgur.com/yMKJdLN.png)"
   ]
  },
  {
   "cell_type": "code",
   "execution_count": null,
   "metadata": {},
   "outputs": [],
   "source": [
    "from collections import defaultdict, deque\n",
    "\n",
    "class Solution:\n",
    "    def ladderLength(self, beginWord: str, endWord: str, wordList: List[str]) -> int:\n",
    "        # O(nm^2)\n",
    "        if endWord not in wordList:\n",
    "            return 0 \n",
    "\n",
    "        nei = collections.defaultdict(list) # list of neighbors, words that differ by one letter\n",
    "        wordList.append(beginWord) # it's not in the wordList, but we need to consider it\n",
    "\n",
    "        for word in wordList:\n",
    "            for i in range(len(word)):\n",
    "                nei[word[:i] + \"*\" + word[i+1:]].append(word) # I want to replace the letter at index i with *\n",
    "\n",
    "        # BFS\n",
    "        visit = set([beginWord]) # visited words\n",
    "        q = deque([(beginWord)])  # queue of words\n",
    "        res = 1 # number of steps\n",
    "\n",
    "        while q: # while queue is not empty\n",
    "            for _ in range(len(q)): \n",
    "                word = q.popleft() # pop the first word\n",
    "                if word == endWord: # if we reached the end word, return the number of steps\n",
    "                    return res\n",
    "                for i in range(len(word)): \n",
    "                    for neiWord in nei[word[:i] + \"*\" + word[i+1:]]: # for each neighbor of the current word\n",
    "                        if neiWord not in visit: # if it's not visited\n",
    "                            visit.add(neiWord) # mark it as visited\n",
    "                            q.append(neiWord) # add it to the queue\n",
    "            res += 1 # increment the number of steps\n",
    "        return 0\n",
    "\n",
    "\n",
    "        \n"
   ]
  }
 ],
 "metadata": {
  "language_info": {
   "name": "python"
  },
  "orig_nbformat": 4
 },
 "nbformat": 4,
 "nbformat_minor": 2
}

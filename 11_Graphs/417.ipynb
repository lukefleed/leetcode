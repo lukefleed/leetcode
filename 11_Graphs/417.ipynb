{
 "cells": [
  {
   "cell_type": "markdown",
   "metadata": {},
   "source": [
    "![](https://i.imgur.com/yRuUTaD.png)"
   ]
  },
  {
   "cell_type": "code",
   "execution_count": 1,
   "metadata": {},
   "outputs": [],
   "source": [
    "from typing import List"
   ]
  },
  {
   "cell_type": "code",
   "execution_count": 3,
   "metadata": {},
   "outputs": [],
   "source": [
    "class Solution:\n",
    "    def pacificAtlantic(self, heights: List[List[int]]) -> List[List[int]]:\n",
    "        ROWS, COLS = len(heights), len(heights[0])\n",
    "        pac, atl = set(), set()\n",
    "\n",
    "        def dfs(r, c, visit, prevHeight):\n",
    "            if (\n",
    "                (r, c) in visit\n",
    "                or r < 0\n",
    "                or c < 0\n",
    "                or r == ROWS\n",
    "                or c == COLS\n",
    "                or heights[r][c] < prevHeight\n",
    "            ):\n",
    "                return\n",
    "                \n",
    "            visit.add((r, c))\n",
    "            dfs(r + 1, c, visit, heights[r][c])\n",
    "            dfs(r - 1, c, visit, heights[r][c])\n",
    "            dfs(r, c + 1, visit, heights[r][c])\n",
    "            dfs(r, c - 1, visit, heights[r][c])\n",
    "\n",
    "        for c in range(COLS):\n",
    "            dfs(0, c, pac, heights[0][c])\n",
    "            dfs(ROWS - 1, c, atl, heights[ROWS - 1][c])\n",
    "\n",
    "        for r in range(ROWS):\n",
    "            dfs(r, 0, pac, heights[r][0])\n",
    "            dfs(r, COLS - 1, atl, heights[r][COLS - 1])\n",
    "\n",
    "        res = []\n",
    "        for r in range(ROWS):\n",
    "            for c in range(COLS):\n",
    "                if (r, c) in pac and (r, c) in atl:\n",
    "                    res.append([r, c])\n",
    "        return res"
   ]
  }
 ],
 "metadata": {
  "kernelspec": {
   "display_name": "Python 3.10.6 64-bit",
   "language": "python",
   "name": "python3"
  },
  "language_info": {
   "codemirror_mode": {
    "name": "ipython",
    "version": 3
   },
   "file_extension": ".py",
   "mimetype": "text/x-python",
   "name": "python",
   "nbconvert_exporter": "python",
   "pygments_lexer": "ipython3",
   "version": "3.10.6"
  },
  "orig_nbformat": 4,
  "vscode": {
   "interpreter": {
    "hash": "e7370f93d1d0cde622a1f8e1c04877d8463912d04d973331ad4851f04de6915a"
   }
  }
 },
 "nbformat": 4,
 "nbformat_minor": 2
}
